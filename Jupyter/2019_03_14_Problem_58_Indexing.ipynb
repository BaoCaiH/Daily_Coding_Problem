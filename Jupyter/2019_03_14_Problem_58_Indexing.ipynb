{
 "cells": [
  {
   "cell_type": "markdown",
   "metadata": {},
   "source": [
    "## 2019 March 14th\n",
    "\n",
    "Problem: An sorted array of integers was rotated an unknown number of times.\n",
    "\n",
    "Given such an array, find the index of the element in the array in faster than linear time. If the element doesn't exist in the array, return null.\n",
    "\n",
    "For example, given the array [13, 18, 25, 2, 8, 10] and the element 8, return 4 (the index of 8 in the array).\n",
    "\n",
    "You can assume all the integers in the array are unique."
   ]
  },
  {
   "cell_type": "code",
   "execution_count": 20,
   "metadata": {},
   "outputs": [],
   "source": [
    "def indexing(lst, k):                                               #\n",
    "    if k == lst[0]:                                                 # If the first element match\n",
    "        return 0                                                    # Lucky\n",
    "    elif k > lst[0]:                                                # If the first is larger than the objective\n",
    "        for i, e in enumerate(lst):                                 # Move forward from the front\n",
    "            if lst[i-1] > e:                                        # If the rate of change, changes sign\n",
    "                print('The element does not exist in the array')    # and we haven't found a match\n",
    "                return None                                         # Yeah it's over\n",
    "            if e == k:                                              # Then when found\n",
    "                return i                                            # Return the index\n",
    "            elif e > k:                                             # If the number is larger than onjective\n",
    "                print('The element does not exist in the array')    # Means the objective is not in the array\n",
    "                return None                                         #\n",
    "    else:                                                           # If the first is less than the objective\n",
    "        length = len(lst)                                           # Move backward\n",
    "        for i in range(length - 1, 0, -1):                          # With the largest index first\n",
    "            if lst[i] == k:                                         # If found\n",
    "                return i                                            # Return\n",
    "            elif lst[i] < k:                                        # If not\n",
    "                print('The element does not exist in the array')    # Throw error\n",
    "                return None                                         #\n",
    "            if lst[i-1] < lst[i]:                                   # Because of indexing algorithm\n",
    "                print('The element does not exist in the array')    # This has to be done at the end\n",
    "                return None                                         # So that the index won't be out of range"
   ]
  },
  {
   "cell_type": "code",
   "execution_count": 12,
   "metadata": {},
   "outputs": [
    {
     "name": "stdout",
     "output_type": "stream",
     "text": [
      "Given the array: [13, 18, 25, 2, 8, 10]\n"
     ]
    }
   ],
   "source": [
    "lst = [13, 18, 25, 2, 8, 10]\n",
    "print('Given the array: {}'.format(lst))"
   ]
  },
  {
   "cell_type": "code",
   "execution_count": 21,
   "metadata": {},
   "outputs": [
    {
     "name": "stdout",
     "output_type": "stream",
     "text": [
      "Please choose a number to find, it can be something not in the array, to see the effect: 1\n",
      "The element does not exist in the array\n"
     ]
    }
   ],
   "source": [
    "k = int(input('Please choose a number to find, it can be something not in the array, to see the effect: '))\n",
    "indexing(lst, k)"
   ]
  }
 ],
 "metadata": {
  "kernelspec": {
   "display_name": "Python 3",
   "language": "python",
   "name": "python3"
  },
  "language_info": {
   "codemirror_mode": {
    "name": "ipython",
    "version": 3
   },
   "file_extension": ".py",
   "mimetype": "text/x-python",
   "name": "python",
   "nbconvert_exporter": "python",
   "pygments_lexer": "ipython3",
   "version": "3.7.1"
  }
 },
 "nbformat": 4,
 "nbformat_minor": 2
}
