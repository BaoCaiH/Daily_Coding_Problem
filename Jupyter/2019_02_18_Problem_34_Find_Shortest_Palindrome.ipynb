{
 "cells": [
  {
   "cell_type": "markdown",
   "metadata": {},
   "source": [
    "## 2019 February 18th\n",
    "\n",
    "Problem: Given a string, find the palindrome that can be made by inserting the fewest number of characters as possible anywhere in the word. If there is more than one palindrome of minimum length that can be made, return the lexicographically earliest one (the first one alphabetically).\n",
    "\n",
    "For example, given the string \"race\", you should return \"ecarace\", since we can add three letters to it (which is the smallest amount to make a palindrome). There are seven other palindromes that can be made from \"race\" by adding three letters, but \"ecarace\" comes first alphabetically.\n",
    "\n",
    "As another example, given the string \"google\", you should return \"elgoogle\".\n",
    "\n",
    "***I did not come up with the solution for this problem. The original solution can be found [here](https://github.com/r1cc4rdo/daily_coding_problem/blob/master/daily_coding_problem_31_35.py)***\n",
    "\n",
    "***All I did was de-loaded certain steps and added explanations, for me and anyone who want to read***"
   ]
  },
  {
   "cell_type": "code",
   "execution_count": 12,
   "metadata": {},
   "outputs": [],
   "source": [
    "def find_palindrome(string): \n",
    "    \n",
    "    # Sub-function to find possibilities\n",
    "    def palindromes(string, front, back):\n",
    "        if not front or not back:  # If either side is missing\n",
    "            return front +\\        # Paste the available side\n",
    "                    back[::-1] +\\  # backward\n",
    "                    string +\\      # with the already establish palindrome in the middle\n",
    "                    front[::-1] +\\\n",
    "                    back\n",
    "        \n",
    "        if front[-1] == back[0]:                             # If the 2 chars one 2 sides are the same\n",
    "            return palindromes(front[-1] + string + back[0], # paste it, and re-apply the function\n",
    "                              front[:-1],                    # Remove the used characters\n",
    "                              back[1:])                      # on both sides\n",
    "        \n",
    "        use_front_char = palindromes(front[-1] + string + front[-1], # If the 2 chars are different\n",
    "                                    front[:-1],                      # Use 2 cases,\n",
    "                                    back)                            # paste the front char around\n",
    "        use_back_char = palindromes(back[0] + string + back[0],      # and move on\n",
    "                                   front,                            # Then paste the back and move on\n",
    "                                   back[1:])\n",
    "        \n",
    "        if len(use_front_char) == len(use_back_char): # If the 2 cases are equally short\n",
    "            return min(use_front_char, use_back_char) # Then use the string that is lexicographically smaller\n",
    "        else:                                         # Else, choose the shorter one\n",
    "            return [use_front_char, use_back_char][len(use_front_char) > len(use_back_char)]\n",
    "        \n",
    "    possible_palindromes = []\n",
    "    # It will loop through the string\n",
    "    # Treat each one as a possible center\n",
    "    # And run the sub-function\n",
    "    # Including the space between 2 characters\n",
    "    for i in range(len(string)):\n",
    "        possible_palindromes.append(palindromes(string[i],     # Center character\n",
    "                                                string[:i],    # everything before the center\n",
    "                                                string[i+1:])) # everything after\n",
    "        possible_palindromes.append(palindromes('',            # Center space\n",
    "                                               string[:i],     # everything before the space\n",
    "                                               string[i:]))    # everything after\n",
    "    # Find the min length\n",
    "    min_palindrome_length = min(map(len, possible_palindromes))\n",
    "    # Then filter to keep only the shortest ones\n",
    "    possible_palindromes = filter(lambda palindrome: len(palindrome) == min_palindrome_length,\n",
    "                                  possible_palindromes)\n",
    "    \n",
    "    return min(possible_palindromes) # Choose the string that is lexicographically smaller"
   ]
  },
  {
   "cell_type": "code",
   "execution_count": 15,
   "metadata": {},
   "outputs": [],
   "source": [
    "s1 = 'race'\n",
    "s2 = 'book'\n",
    "s3 = 'google'\n",
    "s4 = 'elamaan'"
   ]
  },
  {
   "cell_type": "code",
   "execution_count": 18,
   "metadata": {},
   "outputs": [
    {
     "name": "stdout",
     "output_type": "stream",
     "text": [
      "This solution was not founded by me, please refer to the original solution in the description, the hyperlink, if needed\n",
      "For solution explanation, refer to the function, there are explanations in comments\n",
      "Given 4 strings 'race', 'book', 'google' and 'elamaan'\n",
      "The shortest strings in length and lexicographically are 'ecarace', 'bkookb', 'elgoogle' and 'elnaamaanle'\n"
     ]
    }
   ],
   "source": [
    "print('This solution was not founded by me, please refer to the original solution in the description, the hyperlink, if needed')\n",
    "print('For solution explanation, refer to the function, there are explanations in comments')\n",
    "print('Given 4 strings \\'{}\\', \\'{}\\', \\'{}\\' and \\'{}\\''.format(s1, s2, s3, s4))\n",
    "print('The shortest strings in length and lexicographically are \\'{}\\', \\'{}\\', \\'{}\\' and \\'{}\\''.format(\n",
    "find_palindrome(s1), find_palindrome(s2), find_palindrome(s3), find_palindrome(s4)))"
   ]
  }
 ],
 "metadata": {
  "kernelspec": {
   "display_name": "Python 3",
   "language": "python",
   "name": "python3"
  },
  "language_info": {
   "codemirror_mode": {
    "name": "ipython",
    "version": 3
   },
   "file_extension": ".py",
   "mimetype": "text/x-python",
   "name": "python",
   "nbconvert_exporter": "python",
   "pygments_lexer": "ipython3",
   "version": "3.7.1"
  }
 },
 "nbformat": 4,
 "nbformat_minor": 2
}
