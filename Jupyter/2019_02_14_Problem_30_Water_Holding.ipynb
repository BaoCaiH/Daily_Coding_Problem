{
 "cells": [
  {
   "cell_type": "markdown",
   "metadata": {},
   "source": [
    "## 2019 February 14th\n",
    "\n",
    "Problem: You are given an array of non-negative integers that represents a two-dimensional elevation map where each element is unit-width wall and the integer is the height. Suppose it will rain and all spots between two walls get filled up.\n",
    "\n",
    "Compute how many units of water remain trapped on the map in O(N) time and O(1) space.\n",
    "\n",
    "For example, given the input [2, 1, 2], we can hold 1 unit of water in the middle.\n",
    "\n",
    "Given the input [3, 0, 1, 3, 0, 5], we can hold 3 units in the first index, 2 in the second, and 3 in the fourth index (we cannot hold 5 since it would run off to the left), so we can trap 8 units of water."
   ]
  },
  {
   "cell_type": "code",
   "execution_count": 2,
   "metadata": {},
   "outputs": [],
   "source": [
    "def water_holding(walls):\n",
    "    hollows = 0                                     # Count the actual space that hold water\n",
    "    water = 0                                       # Count unit water\n",
    "    for i, wall in enumerate(walls):\n",
    "        if i == 0:                                  # If this is the first wall it cannot hold water\n",
    "            holder = wall                           # It would be the first holder\n",
    "        elif i == len(walls) - 1:                   # If it's the last one, same thing\n",
    "            if wall < holder:                       # Also if this wall is shorter, \n",
    "                water -= (holder - wall) * hollows  # Water will flow out\n",
    "        else:                                       # Otherwise\n",
    "            if wall < holder:                       # If the wall is shorter\n",
    "                water += holder - wall              # Fill water\n",
    "                hollows += 1                        # Count the space\n",
    "            else:                                   # If it's higher\n",
    "                holder = wall                       # Change the holder\n",
    "                hollows = 0                         # Recount\n",
    "    return water"
   ]
  },
  {
   "cell_type": "code",
   "execution_count": 8,
   "metadata": {},
   "outputs": [],
   "source": [
    "w1 = [2, 1, 2]\n",
    "w2 = [3, 0, 1, 3, 0, 5]\n",
    "w3 = [5, 3, 2, 0, 5, 0, 1, 3]\n",
    "w4 = [3, 1, 0, 5, 0, 2, 3, 5]"
   ]
  },
  {
   "cell_type": "code",
   "execution_count": 7,
   "metadata": {},
   "outputs": [
    {
     "name": "stdout",
     "output_type": "stream",
     "text": [
      "Given 3 different layouts [2, 1, 2], [3, 0, 1, 3, 0, 5] and [5, 3, 2, 0, 5, 0, 1, 3]\n",
      "These layout can hold 1, 8 and 15 unit of water respectively\n"
     ]
    }
   ],
   "source": [
    "print('Given 3 different layouts {}, {} and {}'.format(w1, w2, w3))\n",
    "print('These layout can hold {}, {} and {} unit of water respectively'.format(water_holding(w1), water_holding(w2), water_holding(w3)))"
   ]
  },
  {
   "cell_type": "code",
   "execution_count": null,
   "metadata": {},
   "outputs": [],
   "source": []
  }
 ],
 "metadata": {
  "kernelspec": {
   "display_name": "Python 3",
   "language": "python",
   "name": "python3"
  },
  "language_info": {
   "codemirror_mode": {
    "name": "ipython",
    "version": 3
   },
   "file_extension": ".py",
   "mimetype": "text/x-python",
   "name": "python",
   "nbconvert_exporter": "python",
   "pygments_lexer": "ipython3",
   "version": "3.7.1"
  }
 },
 "nbformat": 4,
 "nbformat_minor": 2
}
