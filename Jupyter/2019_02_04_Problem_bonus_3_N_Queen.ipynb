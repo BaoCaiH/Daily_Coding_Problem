{
 "cells": [
  {
   "cell_type": "markdown",
   "metadata": {},
   "source": [
    "## 2019 February 4th\n",
    "\n",
    "Problem: You have an N by N board. Write a function that returns the number of possible arrangements of the board where N queens can be placed on the board without threatening each other, i.e. no two queens share the same row, column, or diagonal."
   ]
  },
  {
   "cell_type": "code",
   "execution_count": 19,
   "metadata": {},
   "outputs": [],
   "source": [
    "def n_queen(N, board = []):\n",
    "    def valid(board):\n",
    "        current_queen_col, current_queen_row = board[-1], len(board) - 1\n",
    "        for i in range(len(board) - 1):\n",
    "            col_diff = abs(current_queen_col - board[i])\n",
    "            row_diff = abs(current_queen_row - i)\n",
    "            is_directly_under = (col_diff == 0) # No need checking horizontally because each row only has 1 value\n",
    "            is_standing_diagonally = (col_diff == row_diff)\n",
    "            if is_directly_under or is_standing_diagonally:\n",
    "                return False\n",
    "        return True\n",
    "    \n",
    "    if len(board) == N:                          # If there is only 1 queen left\n",
    "        return 1                                 # The should only be 1 possible position for it\n",
    "    arrangement = 0\n",
    "    for n in range(N):                           # For each column of the first row\n",
    "        board.append(n)                          # Try put the queen in\n",
    "        if valid(board):                         # Check if the board is still valid\n",
    "            arrangement += n_queen(N, board)     # Move on to the next row and repeat\n",
    "        board.pop()                              # Erase that queen and try other positions\n",
    "        \n",
    "    return arrangement"
   ]
  },
  {
   "cell_type": "code",
   "execution_count": 20,
   "metadata": {},
   "outputs": [
    {
     "data": {
      "text/plain": [
       "10"
      ]
     },
     "execution_count": 20,
     "metadata": {},
     "output_type": "execute_result"
    }
   ],
   "source": [
    "n_queen(5)"
   ]
  }
 ],
 "metadata": {
  "kernelspec": {
   "display_name": "Python 3",
   "language": "python",
   "name": "python3"
  },
  "language_info": {
   "codemirror_mode": {
    "name": "ipython",
    "version": 3
   },
   "file_extension": ".py",
   "mimetype": "text/x-python",
   "name": "python",
   "nbconvert_exporter": "python",
   "pygments_lexer": "ipython3",
   "version": "3.7.1"
  }
 },
 "nbformat": 4,
 "nbformat_minor": 2
}
