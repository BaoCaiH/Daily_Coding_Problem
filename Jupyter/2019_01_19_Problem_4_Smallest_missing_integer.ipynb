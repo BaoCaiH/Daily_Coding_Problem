{
 "cells": [
  {
   "cell_type": "markdown",
   "metadata": {},
   "source": [
    "## 2019 January 19th\n",
    "\n",
    "Problem: Given an array of integers, find the first missing positive integer in linear time and constant space. In other words, find the lowest positive integer that does not exist in the array. The array can contain duplicates and negative numbers as well.\n",
    "\n",
    "For example, the input [3, 4, -1, 1] should give 2. The input [1, 2, 0] should give 3.\n",
    "\n",
    "You can modify the input array in-place."
   ]
  },
  {
   "cell_type": "code",
   "execution_count": 3,
   "metadata": {},
   "outputs": [],
   "source": [
    "def smallest_missing_integer(array_or_list):\n",
    "    import numpy as np                                        # This function need numpy\n",
    "    array = np.array(array_or_list)                           # We neen the characteristic of numpy array\n",
    "    array.sort()                                              # Sort it ascending so we know when it turn from negative to positive\n",
    "    print('The given array was {}'.format(array))             # This is just for fun\n",
    "    compare_array = [0]                                       # Create a compare array, to compare the 2 adjacent numbers\n",
    "    for i in range(len(array) - 1):                           # There's probably a better way\n",
    "        compare_array.append(array[i])\n",
    "    compare_array = np.array(compare_array)\n",
    "#     print(compare_array)\n",
    "    compared = array - compare_array                          # The comparison is here, we will have an array of the differences between 2 adjacent numbers\n",
    "    for j in range(len(compared)):\n",
    "        if (compared[j] > 1 and array[j] > 0):                # If the difference is greater than 1, there should be something in between, and if the later is positive then the in-between might be positive too\n",
    "            for k in range(compare_array[j], (array[j] + 1)): # So wo loop through the gap\n",
    "                if k > 0 and (k not in array):                # If anything in the gap is not in the array, and is positive\n",
    "                    print('The smallest missing integer was {}'.format(k))\n",
    "                    return k                                  # That's the missing number and stop the function right there"
   ]
  },
  {
   "cell_type": "code",
   "execution_count": 4,
   "metadata": {},
   "outputs": [
    {
     "name": "stdout",
     "output_type": "stream",
     "text": [
      "The given array was [-4 -1  1  1  2  2  3  5  5  6  6 45]\n"
     ]
    },
    {
     "data": {
      "text/plain": [
       "4"
      ]
     },
     "execution_count": 4,
     "metadata": {},
     "output_type": "execute_result"
    }
   ],
   "source": [
    "smallest_missing_integer([1, 2, -1, 5, 5, 6, -4, 2, 45, 1, 6, 3]) # Mayhemmmm"
   ]
  }
 ],
 "metadata": {
  "kernelspec": {
   "display_name": "Python 3",
   "language": "python",
   "name": "python3"
  },
  "language_info": {
   "codemirror_mode": {
    "name": "ipython",
    "version": 3
   },
   "file_extension": ".py",
   "mimetype": "text/x-python",
   "name": "python",
   "nbconvert_exporter": "python",
   "pygments_lexer": "ipython3",
   "version": "3.7.1"
  }
 },
 "nbformat": 4,
 "nbformat_minor": 2
}
