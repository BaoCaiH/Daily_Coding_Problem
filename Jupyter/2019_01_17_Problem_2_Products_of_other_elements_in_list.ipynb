{
 "cells": [
  {
   "cell_type": "markdown",
   "metadata": {},
   "source": [
    "## 2019 January 17th\n",
    "\n",
    "Problem: Given an array of integers, return a new array such that each element at index i of the new array is the product of all the numbers in the original array except the one at i.\n",
    "\n",
    "For example, if our input was [1, 2, 3, 4, 5], the expected output would be [120, 60, 40, 30, 24]. If our input was [3, 2, 1], the expected output would be [2, 3, 6]."
   ]
  },
  {
   "cell_type": "code",
   "execution_count": 46,
   "metadata": {},
   "outputs": [],
   "source": [
    "def product_of_other_elements(array):\n",
    "    \"\"\"\n",
    "    return a new array such that\n",
    "    each element at index i of the new array is the product\n",
    "    of all the numbers in the original array except the one at i\n",
    "    \"\"\"\n",
    "    \n",
    "    # This problems need numpy\n",
    "    import numpy as np\n",
    "    \n",
    "    print('The original array/list was ', end = '')\n",
    "    print(array)\n",
    "    \n",
    "    # Function start here\n",
    "    \n",
    "    return_array = []\n",
    "    \n",
    "    for i in range(len(array)):\n",
    "        copy_array = array.copy()\n",
    "        copy_array[i] = 1\n",
    "        product = np.prod(copy_array)\n",
    "        return_array.append(product)\n",
    "    \n",
    "    print('The output is ', end = '')\n",
    "    print(return_array)\n",
    "    \n",
    "    return return_array\n",
    "        "
   ]
  },
  {
   "cell_type": "code",
   "execution_count": 49,
   "metadata": {},
   "outputs": [
    {
     "name": "stdout",
     "output_type": "stream",
     "text": [
      "The original array/list was [3, 2, 1, 4, 7, 2, 8, 3]\n",
      "The output is [2688, 4032, 8064, 2016, 1152, 4032, 1008, 2688]\n"
     ]
    }
   ],
   "source": [
    "input_array = [3, 2, 1, 4, 7, 2, 8, 3]\n",
    "output_array = product_of_other_elements(input_array)"
   ]
  }
 ],
 "metadata": {
  "kernelspec": {
   "display_name": "Python 3",
   "language": "python",
   "name": "python3"
  },
  "language_info": {
   "codemirror_mode": {
    "name": "ipython",
    "version": 3
   },
   "file_extension": ".py",
   "mimetype": "text/x-python",
   "name": "python",
   "nbconvert_exporter": "python",
   "pygments_lexer": "ipython3",
   "version": "3.7.1"
  }
 },
 "nbformat": 4,
 "nbformat_minor": 2
}
