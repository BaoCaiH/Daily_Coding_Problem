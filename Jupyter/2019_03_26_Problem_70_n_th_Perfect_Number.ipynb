{
 "cells": [
  {
   "cell_type": "markdown",
   "metadata": {},
   "source": [
    "## 2019 March 26th\n",
    "\n",
    "Problem: A number is considered perfect if its digits sum up to exactly 10.\n",
    "\n",
    "Given a positive integer n, return the n-th perfect number.\n",
    "\n",
    "For example, given 1, you should return 19. Given 2, you should return 28."
   ]
  },
  {
   "cell_type": "code",
   "execution_count": 9,
   "metadata": {},
   "outputs": [],
   "source": [
    "def is_perfect_number(number):              # Supporting function\n",
    "    total = 0                               # Sum of all the digits\n",
    "    while number > 0:                       #\n",
    "        total += number % 10                # Take each digit by retrieve the remainder when divide by 10\n",
    "        number = number // 10               # Then remove that digit\n",
    "    return True if total == 10 else False   # \n",
    "                                            #\n",
    "def n_th_perfect_number(n):                 #\n",
    "    counter = 0                             # Count the n-th number\n",
    "    integer = 19                            # The smallest perfect number is 19 so start here\n",
    "    while True:                             # This loop will only stop when it finds a number fits requirement\n",
    "        if is_perfect_number(integer):      # If the integer is perfect (by this question definition, not math)\n",
    "            counter += 1                    # Increase the counter\n",
    "            if counter == n:                # Check if the n-th is met\n",
    "                return integer              # Then return the integer\n",
    "        integer += 1                        # If not, increase the integer by 1 and continue"
   ]
  },
  {
   "cell_type": "code",
   "execution_count": 11,
   "metadata": {},
   "outputs": [
    {
     "name": "stdout",
     "output_type": "stream",
     "text": [
      "Which perfect number do you want to see (i.e: 5th)?: 110\n"
     ]
    },
    {
     "data": {
      "text/plain": [
       "1612"
      ]
     },
     "execution_count": 11,
     "metadata": {},
     "output_type": "execute_result"
    }
   ],
   "source": [
    "n = int(input('Which perfect number do you want to see (i.e: 5th)?: '))\n",
    "n_th_perfect_number(n)"
   ]
  }
 ],
 "metadata": {
  "kernelspec": {
   "display_name": "Python 3",
   "language": "python",
   "name": "python3"
  },
  "language_info": {
   "codemirror_mode": {
    "name": "ipython",
    "version": 3
   },
   "file_extension": ".py",
   "mimetype": "text/x-python",
   "name": "python",
   "nbconvert_exporter": "python",
   "pygments_lexer": "ipython3",
   "version": "3.7.1"
  }
 },
 "nbformat": 4,
 "nbformat_minor": 2
}
