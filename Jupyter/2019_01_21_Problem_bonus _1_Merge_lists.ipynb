{
 "cells": [
  {
   "cell_type": "markdown",
   "metadata": {},
   "source": [
    "## 2019 January 21st - bonus\n",
    "\n",
    "Problem: return a new sorted merged list from K sorted lists, each with size N"
   ]
  },
  {
   "cell_type": "code",
   "execution_count": 1,
   "metadata": {},
   "outputs": [],
   "source": [
    "list_1 = [[10, 15, 30], [12, 15, 20], [17, 20, 32]]\n",
    "list_2 = []\n",
    "list_3 = [[], [1], [1,2]]\n",
    "list_4 = [[1]]\n",
    "list_5 = [[1], [1, 3, 5], [1, 10, 20, 30, 40]]"
   ]
  },
  {
   "cell_type": "code",
   "execution_count": 57,
   "metadata": {},
   "outputs": [],
   "source": [
    "# This method use only list and base python\n",
    "def merge_lists_just_list(lists):\n",
    "    merged_list = []\n",
    "    for lst in lists:                   # Take each list\n",
    "        for element in lst:             # View each element in the respective list\n",
    "            merged_list.append(element) # Put it in the merged\n",
    "    merged_list.sort()                  # Sort it\n",
    "    return merged_list                  # Done"
   ]
  },
  {
   "cell_type": "code",
   "execution_count": 60,
   "metadata": {},
   "outputs": [],
   "source": [
    "# This method use heap, suggested by Marc from DailyCodingProblem\n",
    "# Heap is a binary tree where parent nodes are less than their children\n",
    "# I learnt this and modified so I can understand better\n",
    "def merge_lists_heap(lists):\n",
    "    import heapq                                                 # We need to import heapq\n",
    "    merged_list = []                                             # Prepared an empty list\n",
    "    heap = []                                                    # Also one for heap\n",
    "    for i, lst in enumerate(lists):                              # We can also substitute i by calling index later\n",
    "        if lst:                                                  # If the inside list exist, not empty\n",
    "            heap.append((lst[0], i, 0))                          # Each element of heap will have the value itself, which list it belongs to, and which element in the list\n",
    "    heapq.heapify(heap)                                          # At this point, only the first element of each list is in the heap, other elements will be added later    \n",
    "    while heap:                                                  # So while the heap is still exist, not empty. We will slowly delete the heap during the loops\n",
    "        element, list_index, element_index = heapq.heappop(heap) # Each heap has 3 values so take it out. heappop will take out and delete the smallest element in the heaps\n",
    "        merged_list.append(element)                              # Because the element in the heap is sorted automatically, we immediately add the taken out element to the merged list\n",
    "        if element_index + 1 < len(lists[list_index]):           # Add a new heap element if the value we just used is not the last element of its respective list\n",
    "            new_element = (lists[list_index][element_index + 1], # So add 1 unit of element index accordingly\n",
    "                          list_index,                            # Also the new element will be automatically sorted\n",
    "                          element_index + 1)\n",
    "            heapq.heappush(heap, new_element)                    # Add the new heap element here and continue looping\n",
    "    return merged_list                                           # Finish"
   ]
  },
  {
   "cell_type": "code",
   "execution_count": 62,
   "metadata": {},
   "outputs": [],
   "source": [
    "import datetime as dt"
   ]
  },
  {
   "cell_type": "code",
   "execution_count": 103,
   "metadata": {},
   "outputs": [
    {
     "name": "stdout",
     "output_type": "stream",
     "text": [
      "There are 2 methods in this problem\n",
      "One use heap and the one use just the list and base python\n",
      "We can benchmark them to see which one solve the question the best\n",
      "Given the original list is [[1], [1, 3, 5], [1, 10, 20, 30, 40]]\n",
      "The results from heap and just_list respective are\n",
      "[1, 1, 1, 3, 5, 10, 20, 30, 40]\n",
      "[1, 1, 1, 3, 5, 10, 20, 30, 40]\n",
      "{'heap': datetime.timedelta(microseconds=125), 'just_list': datetime.timedelta(microseconds=83)}\n",
      "Which one is faster?\n"
     ]
    }
   ],
   "source": [
    "print('There are 2 methods in this problem\\nOne use heap and the one use just the list and base python\\nWe can benchmark them to see which one solve the question the best')\n",
    "a = dt.datetime.now()\n",
    "x = merge_lists_heap(list_5)\n",
    "b = dt.datetime.now()\n",
    "y = merge_lists_just_list(list_5)\n",
    "c = dt.datetime.now()\n",
    "print('Given the original list is {}\\nThe results from heap and just_list respective are\\n{}\\n{}'.format(list_5, x, y))\n",
    "e = {'heap' : b - a,\n",
    "    'just_list' : c - b}\n",
    "print(e)\n",
    "print('Which one is faster?')"
   ]
  }
 ],
 "metadata": {
  "kernelspec": {
   "display_name": "Python 3",
   "language": "python",
   "name": "python3"
  },
  "language_info": {
   "codemirror_mode": {
    "name": "ipython",
    "version": 3
   },
   "file_extension": ".py",
   "mimetype": "text/x-python",
   "name": "python",
   "nbconvert_exporter": "python",
   "pygments_lexer": "ipython3",
   "version": "3.7.1"
  }
 },
 "nbformat": 4,
 "nbformat_minor": 2
}
