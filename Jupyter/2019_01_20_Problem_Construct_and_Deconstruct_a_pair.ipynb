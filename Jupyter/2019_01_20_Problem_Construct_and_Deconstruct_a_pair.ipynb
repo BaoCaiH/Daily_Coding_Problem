{
 "cells": [
  {
   "cell_type": "markdown",
   "metadata": {},
   "source": [
    "## 2019 January 20th\n",
    "\n",
    "Problem: cons(a, b) constructs a pair, and car(pair) and cdr(pair) returns the first and last element of that pair. For example, car(cons(3, 4)) returns 3, and cdr(cons(3, 4)) returns 4.\n",
    "\n",
    "Given this implementation of cons:\n",
    "\n",
    "`def cons(a, b):\n",
    "    def pair(f):\n",
    "        return f(a, b)\n",
    "    return pair`\n",
    "    \n",
    "Implement car and cdr."
   ]
  },
  {
   "cell_type": "code",
   "execution_count": 34,
   "metadata": {},
   "outputs": [],
   "source": [
    "def cons(a, b):        # The trick of this question is in the strange structure of this function `cons`\n",
    "    def pair(f):       # It defines another function inside, but that's not the strange thing\n",
    "        return f(a, b) # The secondary function ends here\n",
    "    return pair        # Then the main function ends too"
   ]
  },
  {
   "cell_type": "code",
   "execution_count": 39,
   "metadata": {},
   "outputs": [
    {
     "name": "stdout",
     "output_type": "stream",
     "text": [
      "A pair of 6 and 7 will be created\n"
     ]
    }
   ],
   "source": [
    "print('A pair of {} and {} will be created'.format(6, 7))\n",
    "p = cons(6, 7)         # Guess what type this guys is"
   ]
  },
  {
   "cell_type": "code",
   "execution_count": 35,
   "metadata": {},
   "outputs": [
    {
     "name": "stdout",
     "output_type": "stream",
     "text": [
      "The type of the pair is a <class 'function'>, strange right?\n"
     ]
    }
   ],
   "source": [
    "print('The type of the pair is a {}, strange right?'.format(type(p)))"
   ]
  },
  {
   "cell_type": "code",
   "execution_count": 36,
   "metadata": {},
   "outputs": [],
   "source": [
    "# Basically, the pair is now a function, which stores 2 digits 6 and 7 in this case\n",
    "# What's left in the pair now is the function pair(f)\n",
    "# So the pair will substitute any function `f`, wrap around 6 and 7\n",
    "# So pair(something) -> something(a, b) and we need `something` to release only a or b"
   ]
  },
  {
   "cell_type": "code",
   "execution_count": 37,
   "metadata": {},
   "outputs": [],
   "source": [
    "# This is more than enough\n",
    "def return_a(a, b):\n",
    "    return a\n",
    "def return_b(a, b):\n",
    "    return b"
   ]
  },
  {
   "cell_type": "markdown",
   "metadata": {},
   "source": [
    "Everything in one function for anyone who feels like it\n",
    "\n",
    "`def car(pair):\n",
    "    def return_a(a, b):\n",
    "        return a\n",
    "    return pair(return_a)`\n",
    "\n",
    "`def cdr(pair):\n",
    "    def return_b(a, b):\n",
    "        return b\n",
    "    return pair(return_b)`"
   ]
  },
  {
   "cell_type": "code",
   "execution_count": 42,
   "metadata": {},
   "outputs": [
    {
     "data": {
      "text/plain": [
       "6"
      ]
     },
     "execution_count": 42,
     "metadata": {},
     "output_type": "execute_result"
    }
   ],
   "source": [
    "# p(return_a)\n",
    "\n",
    "# p(return_b)"
   ]
  },
  {
   "cell_type": "code",
   "execution_count": 47,
   "metadata": {},
   "outputs": [],
   "source": [
    "# But the problem asked for a function to wrap around the pair like `car(pair)`\n",
    "# Let's do just that\n",
    "# So tedious\n",
    "def car(pair):\n",
    "    return pair(return_a)\n",
    "def cdr(pair):\n",
    "    return pair(return_b)"
   ]
  },
  {
   "cell_type": "code",
   "execution_count": 49,
   "metadata": {},
   "outputs": [
    {
     "data": {
      "text/plain": [
       "7"
      ]
     },
     "execution_count": 49,
     "metadata": {},
     "output_type": "execute_result"
    }
   ],
   "source": [
    "# car(p)\n",
    "\n",
    "# cdr(p)"
   ]
  },
  {
   "cell_type": "code",
   "execution_count": 54,
   "metadata": {},
   "outputs": [
    {
     "name": "stdout",
     "output_type": "stream",
     "text": [
      "car(cons(6, 7)) returns 6\n"
     ]
    }
   ],
   "source": [
    "print('car(cons(6, 7)) returns {}'.format(car(cons(6, 7))))"
   ]
  },
  {
   "cell_type": "code",
   "execution_count": 53,
   "metadata": {},
   "outputs": [
    {
     "name": "stdout",
     "output_type": "stream",
     "text": [
      "cdr(cons(6, 7)) returns 7\n"
     ]
    }
   ],
   "source": [
    "print('cdr(cons(6, 7)) returns {}'.format(cdr(cons(6, 7))))"
   ]
  }
 ],
 "metadata": {
  "kernelspec": {
   "display_name": "Python 3",
   "language": "python",
   "name": "python3"
  },
  "language_info": {
   "codemirror_mode": {
    "name": "ipython",
    "version": 3
   },
   "file_extension": ".py",
   "mimetype": "text/x-python",
   "name": "python",
   "nbconvert_exporter": "python",
   "pygments_lexer": "ipython3",
   "version": "3.7.1"
  }
 },
 "nbformat": 4,
 "nbformat_minor": 2
}
