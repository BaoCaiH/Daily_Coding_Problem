{
 "cells": [
  {
   "cell_type": "markdown",
   "metadata": {},
   "source": [
    "## 2019 March 29th\n",
    "\n",
    "Problem: Given the head of a singly linked list, reverse it in-place"
   ]
  },
  {
   "cell_type": "code",
   "execution_count": 1,
   "metadata": {},
   "outputs": [],
   "source": [
    "class Node:                                                             # Class to holder the linked list values\n",
    "    def __init__(self, value):                                          #\n",
    "        self.value = value                                              #\n",
    "        self.next = None                                                #\n",
    "                                                                        #\n",
    "class singly_linked_list:                                               # The linked list\n",
    "    def __init__(self):                                                 # The items will be added in reverse\n",
    "        self.head = None                                                # ironically, because Python doesn't have\n",
    "                                                                        # a pointer\n",
    "    def add_item(self, value):                                          # Add new item\n",
    "        node = Node(value)                                              # Give it the value\n",
    "        node.next = self.head                                           # Point the next value to value in front\n",
    "        self.head = node                                                # Expose the head of the list\n",
    "                                                                        #\n",
    "    def print_list(self):                                               # Printing items\n",
    "        printing = self.head                                            # Because items are added in reverse\n",
    "        while printing:                                                 # The last item is actually the first\n",
    "            print(printing.value, end = ' ')                            # Print the first value\n",
    "            printing = printing.next                                    # And use the next pointer to move forward\n",
    "        print('')                                                       #\n",
    "                                                                        #\n",
    "    def reverse(self):                                                  # Reversing\n",
    "        prev = None                                                     # The end of the list is None, like 'init'\n",
    "        current = self.head                                             # Start from the head like printing\n",
    "        while current is not None:                                      # Swap the pointers, Next becomes Previous\n",
    "             current.next, prev, current = prev, current, current.next  # Prev and Current are just holders\n",
    "        self.head = prev                                                # Move them along the list"
   ]
  },
  {
   "cell_type": "code",
   "execution_count": 2,
   "metadata": {},
   "outputs": [],
   "source": [
    "l = singly_linked_list()\n",
    "l.add_item(20)\n",
    "l.add_item(30)\n",
    "l.add_item(40)\n",
    "l.add_item(50)\n",
    "l.add_item(60)"
   ]
  },
  {
   "cell_type": "code",
   "execution_count": 3,
   "metadata": {},
   "outputs": [
    {
     "name": "stdout",
     "output_type": "stream",
     "text": [
      "60 50 40 30 20 \n"
     ]
    }
   ],
   "source": [
    "l.print_list()"
   ]
  },
  {
   "cell_type": "code",
   "execution_count": 4,
   "metadata": {},
   "outputs": [],
   "source": [
    "l.reverse()"
   ]
  },
  {
   "cell_type": "code",
   "execution_count": 5,
   "metadata": {},
   "outputs": [
    {
     "name": "stdout",
     "output_type": "stream",
     "text": [
      "20 30 40 50 60 \n"
     ]
    }
   ],
   "source": [
    "l.print_list()"
   ]
  }
 ],
 "metadata": {
  "kernelspec": {
   "display_name": "Python 3",
   "language": "python",
   "name": "python3"
  },
  "language_info": {
   "codemirror_mode": {
    "name": "ipython",
    "version": 3
   },
   "file_extension": ".py",
   "mimetype": "text/x-python",
   "name": "python",
   "nbconvert_exporter": "python",
   "pygments_lexer": "ipython3",
   "version": "3.7.1"
  }
 },
 "nbformat": 4,
 "nbformat_minor": 2
}
