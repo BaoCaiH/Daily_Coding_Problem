{
 "cells": [
  {
   "cell_type": "markdown",
   "metadata": {},
   "source": [
    "## 2019 March 28th\n",
    "\n",
    "Problem: In a directed graph, each node is assigned an uppercase letter. We define a path's value as the number of most frequently-occurring letter along that path. For example, if a path in the graph goes through \"ABACA\", the value of the path is 3, since there are 3 occurrences of 'A' on the path.\n",
    "\n",
    "Given a graph with n nodes and m directed edges, return the largest value path of the graph. If the largest value is infinite, then return null.\n",
    "\n",
    "The graph is represented with a string and an edge list. The i-th character represents the uppercase letter of the i-th node. Each tuple in the edge list (i, j) means there is a directed edge from the i-th node to the j-th node. Self-edges are possible, as well as multi-edges.\n",
    "\n",
    "For example, the following input graph:\n",
    "\n",
    "ABACA<br>\n",
    "[(0, 1),<br>\n",
    " (0, 2),<br>\n",
    " (2, 3),<br>\n",
    " (3, 4)]\n",
    "\n",
    "Would have maximum value 3 using the path of vertices [0, 2, 3, 4], (A, A, C, A).\n",
    "\n",
    "The following input graph:\n",
    "\n",
    "A<br>\n",
    "[(0, 0)]\n",
    "\n",
    "Should return null, since we have an infinite loop."
   ]
  },
  {
   "cell_type": "code",
   "execution_count": 68,
   "metadata": {},
   "outputs": [],
   "source": [
    "def find_path(path, remaining):                                           # Supporting function\n",
    "    if len(remaining) == 0:                                               # If there is no other nodes\n",
    "        return [path]                                                     # Return the last end\n",
    "    paths = [path]                                                        # Otherwise create a holder\n",
    "    for i, node in enumerate(remaining):                                  # For each node\n",
    "        if node[0] == path[-1]:                                           # If the last end matches the node start\n",
    "            paths = paths + [path + case for case in find_path([node[1]], # Re-run the function for the remaining\n",
    "                                    remaining[:i] + remaining[i+1:])]     # nodes. Treat results as possibility\n",
    "    return paths                                                          #\n",
    "                                                                          #\n",
    "def has_duplicate(path):                                                  # Supporting function\n",
    "    tmp = []                                                              # To check if the path is an infinite loop\n",
    "    for node in path:                                                     #\n",
    "        if node not in tmp:                                               #\n",
    "            tmp.append(node)                                              #\n",
    "        else:                                                             #\n",
    "            return True                                                   #\n",
    "    return False                                                          #\n",
    "                                                                          #\n",
    "def mode_on_path(s, p):                                                   # Main function\n",
    "    possible_paths = []                                                   # Holder, similar to the first support\n",
    "    for i, node in enumerate(p):                                          # Run the first step of the support\n",
    "        possible_paths = possible_paths + find_path([node[0], node[1]],   # function on each node\n",
    "                                                       p[:i] + p[i+1:])   #\n",
    "    modes = []                                                            # Holder for the modes of each path\n",
    "    for path in possible_paths:                                           # For each path\n",
    "        if not has_duplicate(path):                                       # That is not an infinite loop\n",
    "            dictionary_temp = {}                                          # Create a dictionary for counting\n",
    "            for node in path:                                             # Check each node\n",
    "                if s[node] not in dictionary_temp:                        # If the node is not yet in dictionary\n",
    "                    dictionary_temp[s[node]] = 0                          # Add it in\n",
    "                dictionary_temp[s[node]] += 1                             # Increase the value\n",
    "            modes.append(max(dictionary_temp.values()))                   # Add the max to the modes\n",
    "        else:                                                             # If the path is looped infinitely\n",
    "            modes.append(None)                                            # Add None\n",
    "    return max(modes)                                                     # Then find the max among the Modes"
   ]
  },
  {
   "cell_type": "code",
   "execution_count": 60,
   "metadata": {},
   "outputs": [],
   "source": [
    "s = \"ABACA\"\n",
    "p_1 = [(0, 1), (0, 2), (2, 3), (3, 4)]\n",
    "p_2 = [(0, 0)]"
   ]
  },
  {
   "cell_type": "code",
   "execution_count": 71,
   "metadata": {},
   "outputs": [
    {
     "name": "stdout",
     "output_type": "stream",
     "text": [
      "Given the graph \"ABACA\" and the paths [(0, 1), (0, 2), (2, 3), (3, 4)]. The largest value path is 3\n"
     ]
    }
   ],
   "source": [
    "print('Given the graph \"{}\" and the paths {}. The largest value path is {}'.format(s, p_1, mode_on_path(s, p_1)))"
   ]
  }
 ],
 "metadata": {
  "kernelspec": {
   "display_name": "Python 3",
   "language": "python",
   "name": "python3"
  },
  "language_info": {
   "codemirror_mode": {
    "name": "ipython",
    "version": 3
   },
   "file_extension": ".py",
   "mimetype": "text/x-python",
   "name": "python",
   "nbconvert_exporter": "python",
   "pygments_lexer": "ipython3",
   "version": "3.7.1"
  }
 },
 "nbformat": 4,
 "nbformat_minor": 2
}
