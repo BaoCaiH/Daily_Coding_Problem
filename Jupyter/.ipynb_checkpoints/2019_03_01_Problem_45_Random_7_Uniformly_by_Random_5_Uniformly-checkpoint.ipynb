{
 "cells": [
  {
   "cell_type": "markdown",
   "metadata": {},
   "source": [
    "## 2019 March 1st\n",
    "\n",
    "Problem: Using a function rand5() that returns an integer from 1 to 5 (inclusive) with uniform probability, implement a function rand7() that returns an integer from 1 to 7 (inclusive)."
   ]
  },
  {
   "cell_type": "code",
   "execution_count": 13,
   "metadata": {},
   "outputs": [
    {
     "data": {
      "text/plain": [
       "1"
      ]
     },
     "execution_count": 13,
     "metadata": {},
     "output_type": "execute_result"
    }
   ],
   "source": [
    "3 + "
   ]
  },
  {
   "cell_type": "code",
   "execution_count": 41,
   "metadata": {},
   "outputs": [],
   "source": [
    "def rand5():                            # Apparently python does not have a built-in rand5()\n",
    "    import random                       # Still need random\n",
    "    element = None                      # Create a holder\n",
    "    for i in range(1, 6):               # For 5 times\n",
    "        if i == 1:                      # First, give number '1' a starting probability of 100%\n",
    "            element = i\n",
    "        elif random.randint(1, i) == 1: # Then gradually decreasing it while increase other elements' probs\n",
    "            element = i\n",
    "    return element                      # Find the math in Problem_15_Random_Picker"
   ]
  },
  {
   "cell_type": "code",
   "execution_count": 42,
   "metadata": {},
   "outputs": [],
   "source": [
    "def rand7():                    # Since rand5() is already uniform\n",
    "    i = 5*rand5() + rand5() - 5 # This expression using rand5() twice to create a range of number from 1 to 25\n",
    "    if i < 22:                  # We only use those less than 21 (FYI, a multiple of 7)\n",
    "        return i % 7 + 1        # Take the remainder after divided by 7, ranging from 0 to 6, so add 1\n",
    "    return rand7()              # Otherwise make it choose another number"
   ]
  },
  {
   "cell_type": "code",
   "execution_count": 52,
   "metadata": {},
   "outputs": [
    {
     "data": {
      "text/plain": [
       "4"
      ]
     },
     "execution_count": 52,
     "metadata": {},
     "output_type": "execute_result"
    }
   ],
   "source": [
    "rand7()"
   ]
  }
 ],
 "metadata": {
  "kernelspec": {
   "display_name": "Python 3",
   "language": "python",
   "name": "python3"
  },
  "language_info": {
   "codemirror_mode": {
    "name": "ipython",
    "version": 3
   },
   "file_extension": ".py",
   "mimetype": "text/x-python",
   "name": "python",
   "nbconvert_exporter": "python",
   "pygments_lexer": "ipython3",
   "version": "3.7.1"
  }
 },
 "nbformat": 4,
 "nbformat_minor": 2
}
