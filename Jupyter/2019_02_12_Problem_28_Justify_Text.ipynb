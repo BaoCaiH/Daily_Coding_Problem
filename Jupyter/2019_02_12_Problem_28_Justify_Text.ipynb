{
 "cells": [
  {
   "cell_type": "markdown",
   "metadata": {},
   "source": [
    "## 2019 February 12th\n",
    "\n",
    "Problem: Write an algorithm to justify text. Given a sequence of words and an integer line length k, return a list of strings which represents each line, fully justified.\n",
    "\n",
    "More specifically, you should have as many words as possible in each line. There should be at least one space between each word. Pad extra spaces when necessary so that each line has exactly length k. Spaces should be distributed as equally as possible, with the extra spaces, if any, distributed starting from the left.\n",
    "\n",
    "If you can only fit one word on a line, then you should pad the right-hand side with spaces.\n",
    "\n",
    "Each word is guaranteed not to be longer than k.\n",
    "\n",
    "For example, given the list of words [\"the\", \"quick\", \"brown\", \"fox\", \"jumps\", \"over\", \"the\", \"lazy\", \"dog\"] and k = 16, you should return the following:\n",
    "\n",
    "`[\"the  quick brown\",` # 1 extra space on the left<br>\n",
    "`\"fox  jumps  over\",` # 2 extra spaces distributed evenly<br>\n",
    "`\"the   lazy   dog\"]` # 4 extra spaces distributed evenly"
   ]
  },
  {
   "cell_type": "code",
   "execution_count": 54,
   "metadata": {},
   "outputs": [],
   "source": [
    "def justify_text(lst, k):\n",
    "    def paste_text(lst, k):                                 # Sub-func to help paste the strings\n",
    "        if len(lst) == 1:                                   # If the list only has 1 element\n",
    "            n_space_left = k - len(lst[0])                  # FInd out how many spaces are needed\n",
    "            return lst[0] +  ' ' * n_space_left             # Then paste it at the end\n",
    "        n_required_space = lst.count(' ')                   # Count the number of spaces needed\n",
    "        n_space_left = k - len(''.join(lst))                # And how many more to fill in\n",
    "        while n_space_left > 0:                             # Until there is no spaces left\n",
    "            for i, e in enumerate(lst):                     # Loop through the text list\n",
    "                if ' ' in e:                                # If it's a space element\n",
    "                    lst[i] = e + ' '                        # Add 1 more space\n",
    "                    n_space_left -= 1                       # Reduce 1 space from the pool\n",
    "                    if n_space_left == 0:                   # If it's empty\n",
    "                        return ''.join(lst)                 # Return the joined string\n",
    "    # Main function starts here\n",
    "    temp_lst = []                                           # Create a holder for strings\n",
    "    results = []                                            # And the results list\n",
    "    for e in lst:                                           # For each element of the list\n",
    "        if not temp_lst:                                    # If the holder is empty\n",
    "            temp_lst.append(e)                              # Just put the element in as the start of the string\n",
    "        else:                                               # Otherwise\n",
    "            text_length = len(''.join(temp_lst))            # Find out the length at that point\n",
    "            e_length = len(e)                               # Also the length of the new element\n",
    "            if text_length + e_length + 1 == k:             # If their sum fits just fine with the required k\n",
    "                results.append(''.join(temp_lst) + ' ' + e) # Paste them together and add to the results list\n",
    "                temp_lst = []                               # Empty the holder\n",
    "            elif text_length + e_length + 1 > k:            # If the length is larger:\n",
    "                results.append(paste_text(temp_lst, k))     # Paste what ever is in the temp list\n",
    "                temp_lst = [e]                              # Then replace the temp list with a new list\n",
    "            elif text_length + e_length + 1 < k:            # If the length is smaller\n",
    "                temp_lst.append(' ')                        # Add a space\n",
    "                temp_lst.append(e)                          # And add the element\n",
    "    if temp_lst:                                            # If the temp list still has some element\n",
    "        results.append(paste_text(temp_lst, k))             # Paste them already\n",
    "    return results                                          # Here are the results"
   ]
  },
  {
   "cell_type": "code",
   "execution_count": 52,
   "metadata": {},
   "outputs": [],
   "source": [
    "l = [\"the\", \"quick\", \"brown\", \"fox\", \"jumps\", \"over\", \"the\", \"lazy\", \"dog\"]\n",
    "k = 17\n",
    "sl = [\"Don't\", 'learn', 'to', 'code', 'blindly', 'like', 'reading', 'a', 'text', 'book', 'Learn', 'to', 'solve', 'problems']\n",
    "sk = 16"
   ]
  },
  {
   "cell_type": "code",
   "execution_count": 42,
   "metadata": {},
   "outputs": [
    {
     "name": "stdout",
     "output_type": "stream",
     "text": [
      "Given the list ['the', 'quick', 'brown', 'fox', 'jumps', 'over', 'the', 'lazy', 'dog'] and k is 17\n",
      "The justified text looks like this: ['the  quick  brown', 'fox   jumps  over', 'the    lazy   dog']\n"
     ]
    }
   ],
   "source": [
    "print('Given the list {} and k is {}'.format(l, k))\n",
    "print('The justified text looks like this: {}'.format(justify_text(l, k)))"
   ]
  },
  {
   "cell_type": "code",
   "execution_count": 55,
   "metadata": {},
   "outputs": [
    {
     "name": "stdout",
     "output_type": "stream",
     "text": [
      "Given the list [\"Don't\", 'learn', 'to', 'code', 'blindly', 'like', 'reading', 'a', 'text', 'book', 'Learn', 'to', 'solve', 'problems'] and k is 16\n",
      "The justified text looks like this: [\"Don't  learn  to\", 'code     blindly', 'like  reading  a', 'text  book Learn', 'to         solve', 'problems        ']\n"
     ]
    }
   ],
   "source": [
    "print('Given the list {} and k is {}'.format(sl, sk))\n",
    "print('The justified text looks like this: {}'.format(justify_text(sl, sk)))"
   ]
  }
 ],
 "metadata": {
  "kernelspec": {
   "display_name": "Python 3",
   "language": "python",
   "name": "python3"
  },
  "language_info": {
   "codemirror_mode": {
    "name": "ipython",
    "version": 3
   },
   "file_extension": ".py",
   "mimetype": "text/x-python",
   "name": "python",
   "nbconvert_exporter": "python",
   "pygments_lexer": "ipython3",
   "version": "3.7.1"
  }
 },
 "nbformat": 4,
 "nbformat_minor": 2
}
