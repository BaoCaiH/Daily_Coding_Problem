{
 "cells": [
  {
   "cell_type": "markdown",
   "metadata": {},
   "source": [
    "## 2019 February 4th\n",
    "\n",
    "Problem: Given two singly linked lists that intersect at some point, find the intersecting node. The lists are non-cyclical.\n",
    "\n",
    "For example, given A = 3 -> 7 -> 8 -> 10 and B = 99 -> 1 -> 8 -> 10, return the node with value 8.\n",
    "\n",
    "In this example, assume nodes with the same value are the exact same node objects.\n",
    "\n",
    "Do this in O(M + N) time (where M and N are the lengths of the lists) and constant space."
   ]
  },
  {
   "cell_type": "code",
   "execution_count": 1,
   "metadata": {},
   "outputs": [],
   "source": [
    "a = [3, 7, 8, 10]\n",
    "b = [99, 1, 8, 10]"
   ]
  },
  {
   "cell_type": "code",
   "execution_count": 4,
   "metadata": {},
   "outputs": [],
   "source": [
    "def intersections(lst1, lst2):\n",
    "    node = []\n",
    "    for e1 in lst1:\n",
    "        if len(node) == 1:\n",
    "            return node\n",
    "        if e1 in lst2 and e1 not in node:\n",
    "            node.append(e1)\n",
    "    return node"
   ]
  },
  {
   "cell_type": "code",
   "execution_count": 6,
   "metadata": {},
   "outputs": [
    {
     "name": "stdout",
     "output_type": "stream",
     "text": [
      "Given list a - [3, 7, 8, 10] and list b - [99, 1, 8, 10]\n",
      "The intersect node is [8]\n"
     ]
    }
   ],
   "source": [
    "print('Given list a - {} and list b - {}'.format(a, b))\n",
    "print('The intersect node is {}'.format(intersections(a, b)))"
   ]
  },
  {
   "cell_type": "code",
   "execution_count": 7,
   "metadata": {},
   "outputs": [
    {
     "name": "stdout",
     "output_type": "stream",
     "text": [
      "Input list c, i.e.: 1,3,4,7,8 3,6,9,1,65,16,0\n",
      "Input list d, i.e.: 1,3,4,7,8 2,4,73,8,06,25,9,36,7\n",
      "The intersect node is ['9']\n"
     ]
    }
   ],
   "source": [
    "c = input('Input list c (i.e.: 1,3,4,7,8) ')\n",
    "c = c.split(',')\n",
    "d = input('Input list d (i.e.: 1,3,4,7,8) ')\n",
    "d = d.split(',')\n",
    "print('The intersect node is {}'.format(intersections(c, d)))"
   ]
  }
 ],
 "metadata": {
  "kernelspec": {
   "display_name": "Python 3",
   "language": "python",
   "name": "python3"
  },
  "language_info": {
   "codemirror_mode": {
    "name": "ipython",
    "version": 3
   },
   "file_extension": ".py",
   "mimetype": "text/x-python",
   "name": "python",
   "nbconvert_exporter": "python",
   "pygments_lexer": "ipython3",
   "version": "3.7.1"
  }
 },
 "nbformat": 4,
 "nbformat_minor": 2
}
