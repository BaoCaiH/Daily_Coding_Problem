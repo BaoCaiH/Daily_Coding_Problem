{
 "cells": [
  {
   "cell_type": "markdown",
   "metadata": {},
   "source": [
    "## 2019 March 19th\n",
    "\n",
    "Problem: Given a 2D matrix of characters and a target word, write a function that returns whether the word can be found in the matrix by going left-to-right, or up-to-down.\n",
    "\n",
    "For example, given the following matrix:\n",
    "\n",
    "`[['F', 'A', 'C', 'I'],\n",
    " ['O', 'B', 'Q', 'P'],\n",
    " ['A', 'N', 'O', 'B'],\n",
    " ['M', 'A', 'S', 'S']]`\n",
    "\n",
    "and the target word 'FOAM', you should return true, since it's the leftmost column. Similarly, given the target word 'MASS', you should return true, since it's the last row."
   ]
  },
  {
   "cell_type": "code",
   "execution_count": 6,
   "metadata": {},
   "outputs": [],
   "source": [
    "def find_next_char(positions, matrix, chars):                       #\n",
    "    neighbors = []                                                  # Listing all the neighbors\n",
    "    m = len(matrix)                                                 # Dimensions of the matrix\n",
    "    n = len(matrix[0])                                              #\n",
    "    x = positions[-1][0]                                            #\n",
    "    y = positions[-1][1]                                            #\n",
    "    if x > 0:                                                       # Conditions to make sure the indexing is\n",
    "        neighbors.append((x - 1, y))                                # correct and not out of bound\n",
    "    if x < m - 1:                                                   #\n",
    "        neighbors.append((x + 1, y))                                #\n",
    "    if y > 0:                                                       #\n",
    "        neighbors.append((x, y - 1))                                #\n",
    "    if y < n - 1:                                                   #\n",
    "        neighbors.append((x, y + 1))                                #\n",
    "    if len(chars) == 1:                                             # If there is only 1 character left\n",
    "        for i, j in neighbors:                                      # If it's not one of the neighbor\n",
    "            if matrix[i][j] == chars and (i, j) not in positions:   # Then return None\n",
    "                return positions + [(i, j)]                         # Otherwise, return its position\n",
    "        return None                                                 #\n",
    "    for i, j in neighbors:                                          # If there are more than 1 character\n",
    "        if matrix[i][j] == chars[0] and (i, j) not in positions:    # Find it in the neighbor\n",
    "            next_positions = find_next_char(positions + [(i, j)], matrix, chars[1:]) # And recurse the problem\n",
    "            if next_positions:                                      # If the result is not None\n",
    "                return next_positions                               # Add it to the positions list\n",
    "    return None                                                     # If it is None, return None then\n",
    "                                                                    #\n",
    "def find_word(matrix, word):                                        # The main function job is to find\n",
    "    for i, row in enumerate(matrix):                                # the first character position\n",
    "        for j, char in enumerate(row):                              #\n",
    "            if char == word[0]:                                     # Then the other function will handle\n",
    "                next_positions = find_next_char([(i, j)], matrix, word[1:])# the rest\n",
    "                if next_positions:                                  # Same drill, if the result is not None\n",
    "                    return next_positions                           # then return the position list\n",
    "    print('The word \"{}\" cannot be found in this matrix'.format(word)) # If not then throw an error\n",
    "    return None                                                        # Return nothing"
   ]
  },
  {
   "cell_type": "code",
   "execution_count": 3,
   "metadata": {},
   "outputs": [],
   "source": [
    "m = [['F', 'A', 'C', 'T'],\n",
    "     ['O', 'B', 'A', 'P'],\n",
    "     ['A', 'S', 'S', 'E'],\n",
    "     ['M', 'N', 'O', 'T']]"
   ]
  },
  {
   "cell_type": "code",
   "execution_count": 25,
   "metadata": {},
   "outputs": [
    {
     "name": "stdout",
     "output_type": "stream",
     "text": [
      "Given the matrix below:\n",
      "['F', 'A', 'C', 'T']\n",
      "['O', 'B', 'A', 'P']\n",
      "['A', 'S', 'S', 'E']\n",
      "['M', 'N', 'O', 'T']\n"
     ]
    }
   ],
   "source": [
    "print('Given the matrix below:')\n",
    "for row in m:\n",
    "    print(row)"
   ]
  },
  {
   "cell_type": "code",
   "execution_count": 13,
   "metadata": {},
   "outputs": [
    {
     "name": "stdout",
     "output_type": "stream",
     "text": [
      "The word \"FACT\" has the following character positions: [(0, 0), (0, 1), (0, 2), (0, 3)]\n",
      "The word \"BASS\" has the following character positions: [(1, 1), (1, 2), (2, 2), (2, 1)]\n",
      "The word \"NOTE\" has the following character positions: [(3, 1), (3, 2), (3, 3), (2, 3)]\n",
      "The word \"NOSE\" has the following character positions: [(3, 1), (3, 2), (2, 2), (2, 3)]\n",
      "The word \"ASSET\" has the following character positions: [(2, 0), (2, 1), (2, 2), (2, 3), (3, 3)]\n",
      "The word \"BASE\" has the following character positions: [(1, 1), (1, 2), (2, 2), (2, 3)]\n",
      "The word \"BASSS\" cannot be found in this matrix\n",
      "The word \"BASSS\" has the following character positions: None\n",
      "Ha!\n"
     ]
    }
   ],
   "source": [
    "import time\n",
    "print('The word \"FACT\" has the following character positions: {}'.format(find_word(m, 'FACT')))\n",
    "print('The word \"BASS\" has the following character positions: {}'.format(find_word(m, 'BASS')))\n",
    "print('The word \"NOTE\" has the following character positions: {}'.format(find_word(m, 'NOTE')))\n",
    "print('The word \"NOSE\" has the following character positions: {}'.format(find_word(m, 'NOSE')))\n",
    "print('The word \"ASSET\" has the following character positions: {}'.format(find_word(m, 'ASSET')))\n",
    "print('The word \"BASE\" has the following character positions: {}'.format(find_word(m, 'BASE')))\n",
    "print('The word \"BASSS\" has the following character positions: {}'.format(find_word(m, 'BASSS')))\n",
    "time.sleep(1)\n",
    "print('Ha!')"
   ]
  }
 ],
 "metadata": {
  "kernelspec": {
   "display_name": "Python 3",
   "language": "python",
   "name": "python3"
  },
  "language_info": {
   "codemirror_mode": {
    "name": "ipython",
    "version": 3
   },
   "file_extension": ".py",
   "mimetype": "text/x-python",
   "name": "python",
   "nbconvert_exporter": "python",
   "pygments_lexer": "ipython3",
   "version": "3.7.1"
  }
 },
 "nbformat": 4,
 "nbformat_minor": 2
}
