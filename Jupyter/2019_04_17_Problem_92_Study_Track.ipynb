{
 "cells": [
  {
   "cell_type": "markdown",
   "metadata": {},
   "source": [
    "### 2019 April 17th\n",
    "\n",
    "Problem: We're given a hashmap associating each courseId key with a list of courseIds values, which represents that the prerequisites of `courseId` are `courseId`s. Return a sorted ordering of courses such that we can finish all courses.\n",
    "\n",
    "Return null if there is no such ordering.\n",
    "\n",
    "For example, given `{'CSC300': ['CSC100', 'CSC200'], 'CSC200': ['CSC100'], 'CSC100': []}`, should return `['CSC100', 'CSC200', 'CSCS300']`."
   ]
  },
  {
   "cell_type": "code",
   "execution_count": 15,
   "metadata": {},
   "outputs": [],
   "source": [
    "def coursesTrack(courses, track = []):                              #\n",
    "    if not track:                                                   # If we are looking for the first course\n",
    "        for courseID, courseIDs in courses.items():                 # We search for a course\n",
    "            if not courseIDs:                                       # That does not require anything\n",
    "                otherCourses = coursesTrack(courses, [courseID])    # Recurse function on the remaining courses\n",
    "                if otherCourses:                                    # If there is indeed a path\n",
    "                    return otherCourses                             # Return it\n",
    "        return None                                                 # Return None if there is nothing satisfy\n",
    "                                                                    #\n",
    "    if len(track) == len(courses):                                  # If we learned all the courses\n",
    "        return track                                                # Dude, stop!\n",
    "                                                                    #\n",
    "    for courseID, courseIDs in courses.items():                     # If we are in the middle of the track\n",
    "        if courseID not in track and\\\n",
    "        all(course in track for course in courseIDs):               # Search for a course we haven't learned\n",
    "            otherCourses = coursesTrack(courses, track + [courseID])# and we satisfied all prerequisites\n",
    "            if otherCourses:                                        # Check for a valid path\n",
    "                return otherCourses                                 # and return\n",
    "    return None                                                     # Else, return None"
   ]
  },
  {
   "cell_type": "code",
   "execution_count": 25,
   "metadata": {},
   "outputs": [],
   "source": [
    "courses1 = {'CSC300': ['CSC100', 'CSC200'], 'CSC200': ['CSC100'], 'CSC100': []}\n",
    "courses2 = {'CSC300': ['CSC100'], 'CSC200': ['CSC100'], 'CSC100': []}\n",
    "courses3 = {'CSC300': ['CSC100'], 'CSC200': ['CSC100', 'CSC300'], 'CSC100': []}\n",
    "courses4 = {'CSC300': ['CSC100', 'CSC200'], 'CSC200': ['CSC100', 'CSC400'], 'CSC100': []}\n",
    "courses5 = {'CSC300': ['CSC100', 'CSC200'], 'CSC200': ['CSC100', 'CSC400'], 'CSC100': [], 'CSC400':[]}"
   ]
  },
  {
   "cell_type": "code",
   "execution_count": 29,
   "metadata": {},
   "outputs": [],
   "source": [
    "courses = [courses1, courses2, courses3, courses4, courses5]"
   ]
  },
  {
   "cell_type": "code",
   "execution_count": 35,
   "metadata": {},
   "outputs": [
    {
     "name": "stdout",
     "output_type": "stream",
     "text": [
      "Example 1:\n",
      "Given the courses and their respective prerequisites:\n",
      "CSC300 : ['CSC100', 'CSC200']\n",
      "CSC200 : ['CSC100']\n",
      "CSC100 : []\n",
      "The suggested path to study is ['CSC100', 'CSC200', 'CSC300']\n",
      "\n",
      "Example 2:\n",
      "Given the courses and their respective prerequisites:\n",
      "CSC300 : ['CSC100']\n",
      "CSC200 : ['CSC100']\n",
      "CSC100 : []\n",
      "The suggested path to study is ['CSC100', 'CSC300', 'CSC200']\n",
      "\n",
      "Example 3:\n",
      "Given the courses and their respective prerequisites:\n",
      "CSC300 : ['CSC100']\n",
      "CSC200 : ['CSC100', 'CSC300']\n",
      "CSC100 : []\n",
      "The suggested path to study is ['CSC100', 'CSC300', 'CSC200']\n",
      "\n",
      "Example 4:\n",
      "Given the courses and their respective prerequisites:\n",
      "CSC300 : ['CSC100', 'CSC200']\n",
      "CSC200 : ['CSC100', 'CSC400']\n",
      "CSC100 : []\n",
      "The suggested path to study is None\n",
      "\n",
      "Example 5:\n",
      "Given the courses and their respective prerequisites:\n",
      "CSC300 : ['CSC100', 'CSC200']\n",
      "CSC200 : ['CSC100', 'CSC400']\n",
      "CSC100 : []\n",
      "CSC400 : []\n",
      "The suggested path to study is ['CSC100', 'CSC400', 'CSC200', 'CSC300']\n",
      "\n"
     ]
    }
   ],
   "source": [
    "examples = 1\n",
    "for course in courses:\n",
    "    print('Example {}:'.format(examples))\n",
    "    print('Given the courses and their respective prerequisites:')\n",
    "    for ID, IDs in course.items():\n",
    "        print(ID + ' : ' + str(IDs))\n",
    "    print('The suggested path to study is {}'.format(coursesTrack(course)))\n",
    "    print()\n",
    "    examples += 1"
   ]
  },
  {
   "cell_type": "code",
   "execution_count": 36,
   "metadata": {},
   "outputs": [
    {
     "name": "stdout",
     "output_type": "stream",
     "text": [
      "In example 2, the path suggested CSC300 before CSC200 simply because it was listed first.\n",
      "\n",
      "In example 5, the path suggested CSC100 before CSC400 for the same reason\n"
     ]
    }
   ],
   "source": [
    "print('In example 2, the path suggested CSC300 before CSC200 simply because it was listed first.')\n",
    "print()\n",
    "print('In example 5, the path suggested CSC100 before CSC400 for the same reason')"
   ]
  },
  {
   "cell_type": "code",
   "execution_count": null,
   "metadata": {},
   "outputs": [],
   "source": []
  }
 ],
 "metadata": {
  "kernelspec": {
   "display_name": "Python 3",
   "language": "python",
   "name": "python3"
  },
  "language_info": {
   "codemirror_mode": {
    "name": "ipython",
    "version": 3
   },
   "file_extension": ".py",
   "mimetype": "text/x-python",
   "name": "python",
   "nbconvert_exporter": "python",
   "pygments_lexer": "ipython3",
   "version": "3.7.3"
  }
 },
 "nbformat": 4,
 "nbformat_minor": 2
}
