{
 "cells": [
  {
   "cell_type": "markdown",
   "metadata": {},
   "source": [
    "## 2019 April 11th\n",
    "\n",
    "Problem: Given a string of parentheses, write a function to compute the minimum number of parentheses to be removed to make the string valid (i.e. each open parenthesis is eventually closed).\n",
    "\n",
    "For example, given the string \"()())()\", you should return 1. Given the string \")(\", you should return 2, since we must remove all of them."
   ]
  },
  {
   "cell_type": "code",
   "execution_count": 9,
   "metadata": {},
   "outputs": [],
   "source": [
    "def removeParantheses(string):\n",
    "    # Empty string does not need any removal\n",
    "    if not string:\n",
    "        return 0\n",
    "    \n",
    "    # If there is no pairs, everything must be removed\n",
    "    if '()' not in string:\n",
    "        return len(string)\n",
    "    \n",
    "    # Otherwise, take the lesser of remove the pair or search both sides of the pair\n",
    "    ind = string.index('()')\n",
    "    return min((removeParantheses(string[:ind]) + removeParantheses(string[ind+2:])),\n",
    "              removeParantheses(string[:ind] + string[ind+2:]))"
   ]
  },
  {
   "cell_type": "code",
   "execution_count": 11,
   "metadata": {},
   "outputs": [],
   "source": [
    "s1 = '()())()'\n",
    "s2 = ')('\n",
    "s3 = '(())))(()'"
   ]
  },
  {
   "cell_type": "code",
   "execution_count": 14,
   "metadata": {},
   "outputs": [
    {
     "name": "stdout",
     "output_type": "stream",
     "text": [
      "The string \"()())()\" has 1 parantheses that need to be removed\n",
      "The string \")(\" has 2 parantheses that need to be removed\n",
      "The string \"(())))(()\" has 3 parantheses that need to be removed\n"
     ]
    }
   ],
   "source": [
    "print('The string \"{}\" has {} parantheses that need to be removed'.format(s1, removeParantheses(s1)))\n",
    "print('The string \"{}\" has {} parantheses that need to be removed'.format(s2, removeParantheses(s2)))\n",
    "print('The string \"{}\" has {} parantheses that need to be removed'.format(s3, removeParantheses(s3)))"
   ]
  }
 ],
 "metadata": {
  "kernelspec": {
   "display_name": "Python 3",
   "language": "python",
   "name": "python3"
  },
  "language_info": {
   "codemirror_mode": {
    "name": "ipython",
    "version": 3
   },
   "file_extension": ".py",
   "mimetype": "text/x-python",
   "name": "python",
   "nbconvert_exporter": "python",
   "pygments_lexer": "ipython3",
   "version": "3.7.3"
  }
 },
 "nbformat": 4,
 "nbformat_minor": 2
}
