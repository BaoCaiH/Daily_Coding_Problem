{
 "cells": [
  {
   "cell_type": "markdown",
   "metadata": {},
   "source": [
    "## 2019 April 8th\n",
    "\n",
    "Problem: Invert a binary tree.\n",
    "\n",
    "For example, given the following tree:\n",
    "\n",
    "`>   a\n",
    "   /  \\\n",
    "  b    c\n",
    " / \\   /\n",
    "d   e f`\n",
    "\n",
    "should become:\n",
    "\n",
    "`>    a\n",
    "   /   \\\n",
    "  c     b\n",
    "   \\   / \\\n",
    "    f e   d`"
   ]
  },
  {
   "cell_type": "code",
   "execution_count": 1,
   "metadata": {},
   "outputs": [],
   "source": [
    "class Node:\n",
    "    def __init__(self, value, left = None, right = None):\n",
    "        self.value = value\n",
    "        self.left = left\n",
    "        self.right = right"
   ]
  },
  {
   "cell_type": "code",
   "execution_count": 2,
   "metadata": {},
   "outputs": [],
   "source": [
    "nodeA = Node('a', Node('b', Node('d'), Node('e')), Node('c', Node('f')))"
   ]
  },
  {
   "cell_type": "code",
   "execution_count": 4,
   "metadata": {},
   "outputs": [],
   "source": [
    "def invertBinaryTree(root):                     #\n",
    "    if not root:                                # If the node is not available\n",
    "        return None                             # Return nothing\n",
    "    node = Node(root.value)                     # Create a node if otherwise\n",
    "    node.left = invertBinaryTree(root.right)    # And simply reverse the sides\n",
    "    node.right = invertBinaryTree(root.left)    # Recursively\n",
    "    return node                                 # Then return the node"
   ]
  },
  {
   "cell_type": "code",
   "execution_count": 5,
   "metadata": {},
   "outputs": [],
   "source": [
    "nodeB = invertBinaryTree(nodeA)"
   ]
  }
 ],
 "metadata": {
  "kernelspec": {
   "display_name": "Python 3",
   "language": "python",
   "name": "python3"
  },
  "language_info": {
   "codemirror_mode": {
    "name": "ipython",
    "version": 3
   },
   "file_extension": ".py",
   "mimetype": "text/x-python",
   "name": "python",
   "nbconvert_exporter": "python",
   "pygments_lexer": "ipython3",
   "version": "3.7.1"
  }
 },
 "nbformat": 4,
 "nbformat_minor": 2
}
