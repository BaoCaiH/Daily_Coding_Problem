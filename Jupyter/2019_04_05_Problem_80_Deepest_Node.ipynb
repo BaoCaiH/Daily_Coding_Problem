{
 "cells": [
  {
   "cell_type": "markdown",
   "metadata": {},
   "source": [
    "## 2019 April 5th\n",
    "\n",
    "Problem: Given the root of a binary tree, return a deepest node. For example, in the following tree, return d.\n",
    "\n",
    "`>   a\n",
    "   /  \\\n",
    "  b    c\n",
    " /\n",
    "d`"
   ]
  },
  {
   "cell_type": "code",
   "execution_count": 1,
   "metadata": {},
   "outputs": [],
   "source": [
    "class Node:\n",
    "    def __init__(self, value, left = None, right = None):\n",
    "        self.value = value\n",
    "        self.left = left\n",
    "        self.right = right"
   ]
  },
  {
   "cell_type": "code",
   "execution_count": 2,
   "metadata": {},
   "outputs": [],
   "source": [
    "node_a = Node('a', Node('a', Node('a', Node('a'))), Node('a', Node('a'), Node('a', Node('a', Node('b')), Node('a'))))\n",
    "node_b = Node('a', Node('b', Node('d')), Node('c'))"
   ]
  },
  {
   "cell_type": "code",
   "execution_count": 3,
   "metadata": {},
   "outputs": [],
   "source": [
    "def deepestNode(root):                                              # Main function\n",
    "    targetDepth = depth(root)                                       # Check the depth of the deepest node\n",
    "    goLeft = deepPath(root.left, '.left', targetDepth)              # Check the left side\n",
    "    goRight = deepPath(root.right, '.right', targetDepth)           # Check the right side\n",
    "    if goLeft:                                                      # If left is not None (prioritize left path)\n",
    "        return goLeft                                               # Return the value and the path\n",
    "    else:                                                           # Else, return right\n",
    "        return goRight                                              #\n",
    "                                                                    #\n",
    "def deepPath(node, path, targetDepth):                              # Supportive function\n",
    "    if not node:                                                    # If there is no node\n",
    "        return None                                                 # Return None\n",
    "    layer = path.count('.') + 1                                     # The layer is 1 more than the number of dots\n",
    "    if layer == targetDepth:                                        # If this is the targeted node\n",
    "        return (node.value, path)                                   # Return the value and the path to here\n",
    "    else:                                                           # Otherwise\n",
    "        goLeft = deepPath(node.left, path + '.left', targetDepth)   # Check left and right\n",
    "        goRight = deepPath(node.right, path + '.right', targetDepth)# Add new direction to the path\n",
    "    if goLeft:                                                      # Similarly, prioritize the left side\n",
    "        return goLeft                                               # if possible\n",
    "    else:                                                           #\n",
    "        return goRight                                              #\n",
    "                                                                    #\n",
    "def depth(node):                                                    # Supportive function\n",
    "    if not node:                                                    # If there is no node here\n",
    "        return 0                                                    # Return 0\n",
    "    goLeft = depth(node.left) + 1                                   # Otherwise go left and right\n",
    "    goRight = depth(node.right) + 1                                 # Depth is 1 step further than current level\n",
    "    return max(goLeft, goRight)                                     # Return the deeper side"
   ]
  },
  {
   "cell_type": "code",
   "execution_count": 4,
   "metadata": {},
   "outputs": [
    {
     "name": "stdout",
     "output_type": "stream",
     "text": [
      "Given the tree below\n",
      "     a\n",
      "    / \\\n",
      "   a   a\n",
      "  /   / \\\n",
      " a   a   a\n",
      "    /   / \\\n",
      "   a   a   a\n",
      "      /\n",
      "     b\n"
     ]
    }
   ],
   "source": [
    "print('Given the tree below')\n",
    "print('     a\\n    / \\\\\\n   a   a\\n  /   / \\\\\\n a   a   a\\n    /   / \\\\\\n   a   a   a\\n      /\\n     b')"
   ]
  },
  {
   "cell_type": "code",
   "execution_count": 5,
   "metadata": {},
   "outputs": [
    {
     "name": "stdout",
     "output_type": "stream",
     "text": [
      "The deepest node is \"b\", the path is \".right.right.left.left\" and it is at level 5\n"
     ]
    }
   ],
   "source": [
    "a, b = deepestNode(node_a)\n",
    "print('The deepest node is \"{}\", the path is \"{}\" and it is at level {}'.format(a, b, b.count('.') + 1))"
   ]
  },
  {
   "cell_type": "code",
   "execution_count": 6,
   "metadata": {},
   "outputs": [
    {
     "name": "stdout",
     "output_type": "stream",
     "text": [
      "Given the tree below\n",
      "     a\n",
      "    / \\\n",
      "   b   c\n",
      "  /\n",
      " d\n"
     ]
    }
   ],
   "source": [
    "print('Given the tree below')\n",
    "print('     a\\n    / \\\\\\n   b   c\\n  /\\n d')"
   ]
  },
  {
   "cell_type": "code",
   "execution_count": 7,
   "metadata": {},
   "outputs": [
    {
     "name": "stdout",
     "output_type": "stream",
     "text": [
      "The deepest node is \"d\", the path is \".left.left\" and it is at level 3\n"
     ]
    }
   ],
   "source": [
    "a, b = deepestNode(node_b)\n",
    "print('The deepest node is \"{}\", the path is \"{}\" and it is at level {}'.format(a, b, b.count('.') + 1))"
   ]
  }
 ],
 "metadata": {
  "kernelspec": {
   "display_name": "Python 3",
   "language": "python",
   "name": "python3"
  },
  "language_info": {
   "codemirror_mode": {
    "name": "ipython",
    "version": 3
   },
   "file_extension": ".py",
   "mimetype": "text/x-python",
   "name": "python",
   "nbconvert_exporter": "python",
   "pygments_lexer": "ipython3",
   "version": "3.7.1"
  }
 },
 "nbformat": 4,
 "nbformat_minor": 2
}
