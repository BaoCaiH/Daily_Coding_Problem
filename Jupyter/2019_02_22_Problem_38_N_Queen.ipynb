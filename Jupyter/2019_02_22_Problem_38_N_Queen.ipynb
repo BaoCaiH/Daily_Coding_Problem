{
 "cells": [
  {
   "cell_type": "markdown",
   "metadata": {},
   "source": [
    "## 2019 February 2nd\n",
    "\n",
    "Problem: You have an N by N board. Write a function that, given N, returns the number of possible arrangements of the board where N queens can be placed on the board without threatening each other, i.e. no two queens share the same row, column, or diagonal.\n",
    "\n",
    ">This is the same as the bonus problem number 3 posted previously, re-did it, might be slightly different, work either ways"
   ]
  },
  {
   "cell_type": "code",
   "execution_count": 11,
   "metadata": {},
   "outputs": [],
   "source": [
    "def n_queen(N, board = []):\n",
    "    \n",
    "    def valid(board):                                                    # After adding queens by each row\n",
    "        current_queen_col, current_queen_row = board[-1], len(board) - 1 # Take the last row position\n",
    "        for row in range(len(board) - 1):                                # Then compare to the previous rows\n",
    "            col_distance = abs(current_queen_col - board[row])           # Compare if they are at the same col\n",
    "            row_distance = abs(current_queen_row - row)                  # How far away, in rows\n",
    "            is_directly_under = col_distance == 0\n",
    "            is_standing_diagonally = col_distance == row_distance\n",
    "            if any([is_directly_under, is_standing_diagonally]):         # If any is true\n",
    "                return False                                             # That position is not valid\n",
    "        return True                                                      # Else, true\n",
    "    \n",
    "    if len(board) == N:                                                  # If the board is already filled\n",
    "        return 1                                                         # Only one possible arrangement\n",
    "    arrangement = 0                                                      # Else, start at 0\n",
    "    for column in range(N):                                              # On each position on each row,\n",
    "        board.append(column)                                             # Place the queen\n",
    "        if valid(board):                                                 # If it's valid\n",
    "            arrangement += n_queen(N, board)                             # Move on to the next row\n",
    "        board.pop()                                                      # Then remove it, and change position\n",
    "    return arrangement                                                   # Return the total sum"
   ]
  },
  {
   "cell_type": "code",
   "execution_count": 10,
   "metadata": {},
   "outputs": [
    {
     "data": {
      "text/plain": [
       "10"
      ]
     },
     "execution_count": 10,
     "metadata": {},
     "output_type": "execute_result"
    }
   ],
   "source": [
    "n_queen(5)"
   ]
  }
 ],
 "metadata": {
  "kernelspec": {
   "display_name": "Python 3",
   "language": "python",
   "name": "python3"
  },
  "language_info": {
   "codemirror_mode": {
    "name": "ipython",
    "version": 3
   },
   "file_extension": ".py",
   "mimetype": "text/x-python",
   "name": "python",
   "nbconvert_exporter": "python",
   "pygments_lexer": "ipython3",
   "version": "3.7.1"
  }
 },
 "nbformat": 4,
 "nbformat_minor": 2
}
