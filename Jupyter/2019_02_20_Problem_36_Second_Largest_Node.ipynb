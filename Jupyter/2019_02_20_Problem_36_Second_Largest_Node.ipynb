{
 "cells": [
  {
   "cell_type": "markdown",
   "metadata": {},
   "source": [
    "## 2019 February 20th\n",
    "\n",
    "Problem: Given the root to a binary search tree, find the second largest node in the tree."
   ]
  },
  {
   "cell_type": "code",
   "execution_count": 3,
   "metadata": {},
   "outputs": [],
   "source": [
    "class Node:\n",
    "    def __init__(self, val, left = None, right = None):\n",
    "        self.val = val\n",
    "        self.left = left\n",
    "        self.right = right"
   ]
  },
  {
   "cell_type": "code",
   "execution_count": 30,
   "metadata": {},
   "outputs": [],
   "source": [
    "def second_largest_node(root):\n",
    "    def flatten(node):                         # Sub-function to flat out the values in the tree\n",
    "        values = []                            # A values holder\n",
    "        if node:                               # If the node exist\n",
    "            values.append(node.val)            # Put the value in first\n",
    "            values.extend(flatten(node.left))  # Then examine the left branch\n",
    "            values.extend(flatten(node.right)) # Then the right branch and add those to the holder\n",
    "        return values                          # Return the holder\n",
    "    \n",
    "    flat_tree = flatten(root)                  # Completely flatten\n",
    "    \n",
    "    second_largest = max(filter(lambda x: x != max(flat_tree), flat_tree)) # Simply take the second largest\n",
    "    \n",
    "    # Done\n",
    "    return second_largest"
   ]
  },
  {
   "cell_type": "code",
   "execution_count": 28,
   "metadata": {},
   "outputs": [],
   "source": [
    "a = Node(4, Node(6, Node(1), Node(7, Node(2, Node(2)), Node(3))), Node(9, Node(8), Node(5)))"
   ]
  },
  {
   "cell_type": "code",
   "execution_count": 75,
   "metadata": {},
   "outputs": [
    {
     "name": "stdout",
     "output_type": "stream",
     "text": [
      "Given the tree below:\n",
      "         4\n",
      "       /   \\\n",
      "      6      9\n",
      "     / \\    / \\\n",
      "    1   7  8   5\n",
      "   /\n",
      "  2\n",
      " / \\\n",
      "2   3\n",
      "The second largest node is 8\n"
     ]
    }
   ],
   "source": [
    "print('Given the tree below:')\n",
    "print('         4\\n       /   \\\\\\n      6      9\\n     / \\\\    / \\\\\\n    1   7  8   5\\n   /\\n  2\\n / \\\\\\n2   3')\n",
    "print('The second largest node is {}'.format(second_largest_node(a)))"
   ]
  }
 ],
 "metadata": {
  "kernelspec": {
   "display_name": "Python 3",
   "language": "python",
   "name": "python3"
  },
  "language_info": {
   "codemirror_mode": {
    "name": "ipython",
    "version": 3
   },
   "file_extension": ".py",
   "mimetype": "text/x-python",
   "name": "python",
   "nbconvert_exporter": "python",
   "pygments_lexer": "ipython3",
   "version": "3.7.1"
  }
 },
 "nbformat": 4,
 "nbformat_minor": 2
}
