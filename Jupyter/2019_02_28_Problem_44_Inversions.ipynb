{
 "cells": [
  {
   "cell_type": "markdown",
   "metadata": {},
   "source": [
    "## 2019 February 28th\n",
    "\n",
    "Problem: We can determine how \"out of order\" an array A is by counting the number of inversions it has. Two elements A[i] and A[j] form an inversion if A[i] > A[j] but i < j. That is, a smaller element appears after a larger element.\n",
    "\n",
    "Given an array, count the number of inversions it has. Do this faster than O(N^2) time.\n",
    "\n",
    "You may assume each element in the array is distinct.\n",
    "\n",
    "For example, a sorted list has zero inversions. The array [2, 4, 1, 3, 5] has three inversions: (2, 1), (4, 1), and (4, 3). The array [5, 4, 3, 2, 1] has ten inversions: every distinct pair forms an inversion."
   ]
  },
  {
   "cell_type": "code",
   "execution_count": 66,
   "metadata": {},
   "outputs": [],
   "source": [
    "def inversions(lst):\n",
    "    inverse = []\n",
    "    for i, e in enumerate(lst[:-1]):    # For each number\n",
    "        for f in lst[i+1:]:             # Compare to the rest\n",
    "            if e > f:                   # If it the condition meet (condition above)\n",
    "                inverse.append((e, f))  # Add it\n",
    "    return inverse"
   ]
  },
  {
   "cell_type": "code",
   "execution_count": 2,
   "metadata": {},
   "outputs": [],
   "source": [
    "l1 = [1, 2, 3, 4, 5]\n",
    "l2 = [2, 4, 1, 3, 5]\n",
    "l3 = [5, 4, 3, 2, 1]"
   ]
  },
  {
   "cell_type": "code",
   "execution_count": 89,
   "metadata": {},
   "outputs": [
    {
     "name": "stdout",
     "output_type": "stream",
     "text": [
      "[1, 2, 3, 4, 5]\n",
      "[]\n",
      "[2, 4, 1, 3, 5]\n",
      "[(2, 1), (4, 1), (4, 3)]\n",
      "[5, 4, 3, 2, 1]\n",
      "[(5, 4), (5, 3), (5, 2), (5, 1), (4, 3), (4, 2), (4, 1), (3, 2), (3, 1), (2, 1)]\n"
     ]
    }
   ],
   "source": [
    "print(l1)\n",
    "print(inversions(l1))\n",
    "print(l2)\n",
    "print(inversions(l2))\n",
    "print(l3)\n",
    "print(inversions(l3))"
   ]
  }
 ],
 "metadata": {
  "kernelspec": {
   "display_name": "Python 3",
   "language": "python",
   "name": "python3"
  },
  "language_info": {
   "codemirror_mode": {
    "name": "ipython",
    "version": 3
   },
   "file_extension": ".py",
   "mimetype": "text/x-python",
   "name": "python",
   "nbconvert_exporter": "python",
   "pygments_lexer": "ipython3",
   "version": "3.7.1"
  }
 },
 "nbformat": 4,
 "nbformat_minor": 2
}
