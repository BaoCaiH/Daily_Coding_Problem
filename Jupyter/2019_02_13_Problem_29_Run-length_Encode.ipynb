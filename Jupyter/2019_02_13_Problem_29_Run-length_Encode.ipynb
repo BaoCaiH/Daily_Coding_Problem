{
 "cells": [
  {
   "cell_type": "markdown",
   "metadata": {},
   "source": [
    "## 2019 February 13th\n",
    "\n",
    "Problem: Run-length encoding is a fast and simple method of encoding strings. The basic idea is to represent repeated successive characters as a single count and character. For example, the string \"AAAABBBCCDAA\" would be encoded as \"4A3B2C1D2A\".\n",
    "\n",
    "Implement run-length encoding and decoding. You can assume the string to be encoded have no digits and consists solely of alphabetic characters. You can assume the string to be decoded is valid."
   ]
  },
  {
   "cell_type": "code",
   "execution_count": 64,
   "metadata": {},
   "outputs": [],
   "source": [
    "def run_length_encode(string):\n",
    "    compare_str = ''\n",
    "    result = ''\n",
    "    for c in string:\n",
    "        if not compare_str:\n",
    "            compare_str = c\n",
    "            counter = 1\n",
    "        elif c == compare_str:\n",
    "            counter += 1\n",
    "        elif c != compare_str:\n",
    "            result += str(counter) + compare_str\n",
    "            compare_str = c\n",
    "            counter = 1\n",
    "    result += str(counter) + compare_str\n",
    "    return result"
   ]
  },
  {
   "cell_type": "code",
   "execution_count": 67,
   "metadata": {},
   "outputs": [],
   "source": [
    "s1 = 'AAAABBBCCDAA'\n",
    "s2 = 'AABBBUUUUTTTTTTTJJMMMFPOPPPPPK'"
   ]
  },
  {
   "cell_type": "code",
   "execution_count": 69,
   "metadata": {},
   "outputs": [
    {
     "name": "stdout",
     "output_type": "stream",
     "text": [
      "Given the strings 'AAAABBBCCDAA' and 'AABBBUUUUTTTTTTTJJMMMFPOPPPPPK'\n",
      "The encoded versions are '4A3B2C1D2A' and '2A3B4U7T2J3M1F1P1O5P1K'\n"
     ]
    }
   ],
   "source": [
    "print('Given the strings \\'{}\\' and \\'{}\\''.format(s1, s2))\n",
    "print('The encoded versions are \\'{}\\' and \\'{}\\''.format(run_length_encode(s1), run_length_encode(s2)))"
   ]
  }
 ],
 "metadata": {
  "kernelspec": {
   "display_name": "Python 3",
   "language": "python",
   "name": "python3"
  },
  "language_info": {
   "codemirror_mode": {
    "name": "ipython",
    "version": 3
   },
   "file_extension": ".py",
   "mimetype": "text/x-python",
   "name": "python",
   "nbconvert_exporter": "python",
   "pygments_lexer": "ipython3",
   "version": "3.7.1"
  }
 },
 "nbformat": 4,
 "nbformat_minor": 2
}
