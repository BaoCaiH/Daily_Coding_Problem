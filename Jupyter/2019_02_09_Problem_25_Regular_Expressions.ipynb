{
 "cells": [
  {
   "cell_type": "markdown",
   "metadata": {},
   "source": [
    "## 2019 February 9th\n",
    "\n",
    "Problem: Implement regular expression matching with the following special characters:\n",
    "\n",
    ". (period) which matches any single character\n",
    "* (asterisk) which matches zero or more of the preceding element\n",
    "That is, implement a function that takes in a string and a valid regular expression and returns whether or not the string matches the regular expression.\n",
    "\n",
    "For example, given the regular expression \"ra.\" and the string \"ray\", your function should return true. The same regular expression on the string \"raymond\" should return false.\n",
    "\n",
    "Given the regular expression \".*at\" and the string \"chat\", your function should return true. The same regular expression on the string \"chats\" should return false.\n",
    "\n"
   ]
  },
  {
   "cell_type": "code",
   "execution_count": 47,
   "metadata": {},
   "outputs": [],
   "source": [
    "s1 = 'chats'\n",
    "reg1 = '.*at'\n",
    "s2 = 'killer'\n",
    "s3 = 'thriller'\n",
    "s4 = 'todlers'\n",
    "reg2 = 't*ler.'\n",
    "reg3 = 't*ler*'"
   ]
  },
  {
   "cell_type": "code",
   "execution_count": 49,
   "metadata": {},
   "outputs": [],
   "source": [
    "def reg_ex(string, reg):\n",
    "    \n",
    "    def reg_lst(reg):                                                        # Sub func to turn reg_ex to a list\n",
    "        lst = []                                                             # So it's easier to process\n",
    "        txt = ''\n",
    "        for c in reg:                                                        # For each character\n",
    "            if c != '.' and c != '*':                                        # Separate them into text vs special\n",
    "                txt += c                                                     # Texts will be pasted together\n",
    "            else:                                                            # Special chars, separately\n",
    "                if txt:\n",
    "                    lst.append(txt)\n",
    "                    txt = ''\n",
    "                lst.append(c)\n",
    "        if txt:\n",
    "            lst.append(txt)\n",
    "        return lst\n",
    "    \n",
    "    reg_lst = reg_lst(reg)                                                   # Run the sub-function\n",
    "    result = []                                                              # A match reg_ex must true at all places, so a list\n",
    "    ist = 0                                                                  # String index, counter of sort\n",
    "    iex = 0                                                                  # Reg_ex index\n",
    "    for i, reg in enumerate(reg_lst):                                        # Iterate through the reg_ex list\n",
    "        if reg != '.' and reg != '*':                                        # We deal with strings only\n",
    "            if reg not in string:                                            # If it's not in, immediatly False\n",
    "                return False\n",
    "            else:                                                            # Else, check before it\n",
    "                j = string.index(reg)                                        # If the number of characters before it\n",
    "                sub_reg_lst = reg_lst[iex:i]                                 # matches the number suggested by reg_ex\n",
    "                sub_string = string[ist:j]                                   # then give a True component to the list\n",
    "                if '*' in sub_reg_lst:                                       # The number suggested by reg_ex will be\n",
    "                    result.append(len(sub_string) >= sub_reg_lst.count('.')) # Affected by the '*' so they will have\n",
    "                else:                                                        # different sign because '*' allows\n",
    "                    result.append(len(sub_string) == sub_reg_lst.count('.')) # flexibility\n",
    "                ist = j + len(reg)                                           # Move the counter so the reg_ex won't be\n",
    "                iex = i + 1                                                  # counted twice\n",
    "    if reg_lst[-1] == '.' or reg_lst[-1] == '*':                             # At the end, if there's still reg_ex\n",
    "        sub_reg_lst = reg_lst[iex:]                                          # repeat the procedure above\n",
    "        sub_string = string[ist:]\n",
    "        if '*' in sub_reg_lst:\n",
    "            result.append(len(sub_string) >= sub_reg_lst.count('.'))\n",
    "        else:\n",
    "            result.append(len(sub_string) == sub_reg_lst.count('.'))\n",
    "    else:                                                                    # If not, check if the string has ended\n",
    "        if len(string) > ist:\n",
    "            return False\n",
    "                    \n",
    "    \n",
    "    return all(result)                                                       # If all the elements are True"
   ]
  },
  {
   "cell_type": "code",
   "execution_count": 43,
   "metadata": {},
   "outputs": [
    {
     "name": "stdout",
     "output_type": "stream",
     "text": [
      "Given the string: \"chats\" and the regular expression \".*at\", the matching results would be False\n",
      "Given the same string without \"s\": \"chat\" and the regular expression \".*at\", the matching results would be True\n"
     ]
    }
   ],
   "source": [
    "print('Given the string: \"{}\" and the regular expression \"{}\", the matching results would be {}'.format(s1, reg1, reg_ex(s1, reg1)))\n",
    "print('Given the same string without \"s\": \"{}\" and the regular expression \"{}\", the matching results would be {}'.format(s1[0:4], reg1, reg_ex(s1[0:4], reg1)))"
   ]
  },
  {
   "cell_type": "code",
   "execution_count": 45,
   "metadata": {},
   "outputs": [
    {
     "name": "stdout",
     "output_type": "stream",
     "text": [
      "Given the strings: \"killer\", \"thriller\" and \"todlers\", and the regular expression \"t*ler.\"\n",
      "The matching results will be as follow: False, False, and True\n"
     ]
    }
   ],
   "source": [
    "print('Given the strings: \"{}\", \"{}\" and \"{}\", and the regular expression \"{}\"'.format(s2, s3, s4, reg2))\n",
    "print('The matching results will be as follow: {}, {}, and {}'.format(reg_ex(s2, reg2), reg_ex(s3, reg2), reg_ex(s4, reg2)))"
   ]
  },
  {
   "cell_type": "code",
   "execution_count": 48,
   "metadata": {},
   "outputs": [
    {
     "name": "stdout",
     "output_type": "stream",
     "text": [
      "But if we change the regular expression to \"t*ler*\", the matching results will be as follow: False, True and True\n"
     ]
    }
   ],
   "source": [
    "print('But if we change the regular expression to \"{}\", the matching results will be as follow: {}, {} and {}'.format(\n",
    "reg3, reg_ex(s2, reg3), reg_ex(s3, reg3), reg_ex(s4, reg3)))"
   ]
  }
 ],
 "metadata": {
  "kernelspec": {
   "display_name": "Python 3",
   "language": "python",
   "name": "python3"
  },
  "language_info": {
   "codemirror_mode": {
    "name": "ipython",
    "version": 3
   },
   "file_extension": ".py",
   "mimetype": "text/x-python",
   "name": "python",
   "nbconvert_exporter": "python",
   "pygments_lexer": "ipython3",
   "version": "3.7.1"
  }
 },
 "nbformat": 4,
 "nbformat_minor": 2
}
