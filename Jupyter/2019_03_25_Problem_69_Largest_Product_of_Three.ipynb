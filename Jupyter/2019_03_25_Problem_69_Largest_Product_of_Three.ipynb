{
 "cells": [
  {
   "cell_type": "markdown",
   "metadata": {},
   "source": [
    "## 2019 March 25th\n",
    "\n",
    "Problem: Given a list of integers, return the largest product that can be made by multiplying any three integers.\n",
    "\n",
    "For example, if the list is [-10, -10, 5, 2], we should return 500, since that's -10 * -10 * 5."
   ]
  },
  {
   "cell_type": "code",
   "execution_count": 25,
   "metadata": {},
   "outputs": [],
   "source": [
    "def largest_product_of_three(lst):                      #\n",
    "    largest = None                                      # Largest number for preference\n",
    "    combination = []                                    # Combination holder\n",
    "    for i, num_1 in enumerate(lst[:-2]):                # A 3 layers nested loop\n",
    "        for j, num_2 in enumerate(lst[i + 1 : -1]):     # To search for a combination of 3 numbers\n",
    "            for k, num_3 in enumerate(lst[j + 1 :]):    #\n",
    "                if not largest:                         # If none of the combination was recorded\n",
    "                    combination = [num_1, num_2, num_3] # Well, record it\n",
    "                    largest = num_1 * num_2 * num_3     #\n",
    "                elif num_1 * num_2 * num_3 > largest:   # If yes then compared with the recorded\n",
    "                    combination = [num_1, num_2, num_3] # Then replace if needed\n",
    "                    largest = num_1 * num_2 * num_3     #\n",
    "    return largest, combination                         #"
   ]
  },
  {
   "cell_type": "code",
   "execution_count": 2,
   "metadata": {},
   "outputs": [],
   "source": [
    "import random"
   ]
  },
  {
   "cell_type": "code",
   "execution_count": 10,
   "metadata": {},
   "outputs": [
    {
     "data": {
      "text/plain": [
       "[-4, 7, 7, 1, -2, 3, -5, 6, 1, -10]"
      ]
     },
     "execution_count": 10,
     "metadata": {},
     "output_type": "execute_result"
    }
   ],
   "source": [
    "a = [random.randint(-10, 10) for _ in range(random.randint(4, 10))]"
   ]
  },
  {
   "cell_type": "code",
   "execution_count": 16,
   "metadata": {},
   "outputs": [
    {
     "name": "stdout",
     "output_type": "stream",
     "text": [
      "This list of number is randomly generated each time this program is run, both length and elements: [-4, 7, 7, 1, -2, 3, -5, 6, 1, -10]\n"
     ]
    }
   ],
   "source": [
    "print('This list of number is randomly generated each time this program is run, both length and elements: {}'.format(a))"
   ]
  },
  {
   "cell_type": "code",
   "execution_count": 23,
   "metadata": {},
   "outputs": [
    {
     "name": "stdout",
     "output_type": "stream",
     "text": [
      "And the largest product of 3 numbers is 350 by multiplying [7, -5, -10]\n"
     ]
    }
   ],
   "source": [
    "p, l = largest_product_of_three(a)\n",
    "print('And the largest product of 3 numbers is {} by multiplying {}'.format(p, l))"
   ]
  }
 ],
 "metadata": {
  "kernelspec": {
   "display_name": "Python 3",
   "language": "python",
   "name": "python3"
  },
  "language_info": {
   "codemirror_mode": {
    "name": "ipython",
    "version": 3
   },
   "file_extension": ".py",
   "mimetype": "text/x-python",
   "name": "python",
   "nbconvert_exporter": "python",
   "pygments_lexer": "ipython3",
   "version": "3.7.1"
  }
 },
 "nbformat": 4,
 "nbformat_minor": 2
}
