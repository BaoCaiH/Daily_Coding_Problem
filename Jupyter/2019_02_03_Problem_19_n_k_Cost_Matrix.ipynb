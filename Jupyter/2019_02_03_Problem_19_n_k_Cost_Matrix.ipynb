{
 "cells": [
  {
   "cell_type": "markdown",
   "metadata": {},
   "source": [
    "## 2019 February 3rd\n",
    "\n",
    "Problem: A builder is looking to build a row of N houses that can be of K different colors. He has a goal of minimizing cost while ensuring that no two neighboring houses are of the same color.\n",
    "\n",
    "Given an N by K matrix where the nth row and kth column represents the cost to build the nth house with kth color, return the minimum cost which achieves this goal."
   ]
  },
  {
   "cell_type": "code",
   "execution_count": 1,
   "metadata": {},
   "outputs": [],
   "source": [
    "def generate_matrix(n_row, k_col):\n",
    "    import random\n",
    "    matrix = []\n",
    "    for n in range(n_row):\n",
    "        row = [random.randint(1, 100) for k in range(k_col)]\n",
    "        matrix.append(row)\n",
    "    return matrix"
   ]
  },
  {
   "cell_type": "code",
   "execution_count": 2,
   "metadata": {},
   "outputs": [],
   "source": [
    "m = generate_matrix(5, 3)"
   ]
  },
  {
   "cell_type": "code",
   "execution_count": 3,
   "metadata": {},
   "outputs": [
    {
     "name": "stdout",
     "output_type": "stream",
     "text": [
      "Given a random cost matrix below:\n",
      "[36, 99, 84]\n",
      "[73, 78, 97]\n",
      "[17, 90, 48]\n",
      "[83, 15, 76]\n",
      "[86, 76, 20]\n"
     ]
    }
   ],
   "source": [
    "print('Given a random cost matrix below:')\n",
    "for i in m:\n",
    "    print(i)"
   ]
  },
  {
   "cell_type": "code",
   "execution_count": 4,
   "metadata": {},
   "outputs": [],
   "source": [
    "def min_matrix_cost(matrix):\n",
    "    '''\n",
    "    Accept a matrix in nested list form\n",
    "    Return a list of minimum cost and a sub-list of the path taken leading to that cost\n",
    "    '''\n",
    "    N = len(matrix)\n",
    "    K = len(matrix[0])\n",
    "    # Create an empty holder for cummulative costs after each layer\n",
    "    cummulative_cost = [[[0, []] for _ in range(K)] for i in range(N)]\n",
    "    # For every position\n",
    "    for n in range(N):\n",
    "        for k in range(K):\n",
    "            # Check all the possible previous path leading to that point to find the min\n",
    "            # Without repeating a column, excluding k\n",
    "            # The first layer will be a dummy since it reference the last layer, which is empty at first\n",
    "            previous_cummulative_cost = cummulative_cost[n - 1][:k] + cummulative_cost[n - 1][k + 1:]\n",
    "            previous_min = min(previous_cummulative_cost)\n",
    "            previous_index = cummulative_cost[n - 1].index(previous_min)\n",
    "            # Deep copy is required here, or else it will be extensive when the original value is changed\n",
    "            previous_path = cummulative_cost[n - 1][previous_index][-1].copy()\n",
    "            # Create a list of path\n",
    "            previous_path.append(previous_index)\n",
    "            # Assign the current min value\n",
    "            cummulative_cost[n][k][0] = matrix[n][k] + previous_min[0]\n",
    "            # Assign the current path\n",
    "            cummulative_cost[n][k][-1] = previous_path\n",
    "            # If this is the last layer\n",
    "            if n == N - 1:\n",
    "                # Remove the unecessary first dummy layer\n",
    "                cummulative_cost[n][k][-1] = cummulative_cost[n][k][-1][1:]\n",
    "                # Append the last layer positions\n",
    "                cummulative_cost[n][k][-1].append(k)\n",
    "    min_cost, path_0 = min(cummulative_cost[-1])\n",
    "    path = [matrix[i][path_0[i]] for i in range(len(path_0))]\n",
    "    return min_cost, path"
   ]
  },
  {
   "cell_type": "code",
   "execution_count": 5,
   "metadata": {},
   "outputs": [],
   "source": [
    "min_cost, path = min_matrix_cost(m)"
   ]
  },
  {
   "cell_type": "code",
   "execution_count": 6,
   "metadata": {},
   "outputs": [
    {
     "name": "stdout",
     "output_type": "stream",
     "text": [
      "The minimum cost is 166\n",
      "The path leading toward that is [36, 78, 17, 15, 20]\n"
     ]
    }
   ],
   "source": [
    "print('The minimum cost is {}'.format(min_cost))\n",
    "print('The path leading toward that is {}'.format(path))"
   ]
  }
 ],
 "metadata": {
  "kernelspec": {
   "display_name": "Python 3",
   "language": "python",
   "name": "python3"
  },
  "language_info": {
   "codemirror_mode": {
    "name": "ipython",
    "version": 3
   },
   "file_extension": ".py",
   "mimetype": "text/x-python",
   "name": "python",
   "nbconvert_exporter": "python",
   "pygments_lexer": "ipython3",
   "version": "3.7.1"
  }
 },
 "nbformat": 4,
 "nbformat_minor": 2
}
