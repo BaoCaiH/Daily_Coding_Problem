{
 "cells": [
  {
   "cell_type": "markdown",
   "metadata": {},
   "source": [
    "## 2019 March 17th\n",
    "\n",
    "Problem: Implement integer exponentiation. That is, implement the pow(x, y) function, where x and y are integers and returns x^y.\n",
    "\n",
    "Do this faster than the naive method of repeated multiplication.\n",
    "\n",
    "For example, pow(2, 10) should return 1024."
   ]
  },
  {
   "cell_type": "code",
   "execution_count": 14,
   "metadata": {},
   "outputs": [],
   "source": [
    "def power(x, y):                            #\n",
    "    if y == 0:                              # If the power is 0\n",
    "        return 1                            # The exponential is 1\n",
    "    elif y > 0:                             # If the power is positive\n",
    "        if y % 2 != 0:                      # And the power is odd\n",
    "            return x * power(x, y - 1)      # Recurse with 1 less unit power\n",
    "        elif y % 2 == 0:                    # If the power is even\n",
    "            return power(x * x, y // 2)     # Recurse with the number squared and half the power\n",
    "    else:                                   # If the power is negative\n",
    "        if y % 2 != 0:                      # And is odd\n",
    "            return (1/x) * power(x, y + 1)  # Recurse with 1 more unit power, this time, with division\n",
    "        elif y % 2 == 0:                    # If the power is even\n",
    "            return power((1/(x*x)), y // 2) # Recurse with 1 divided by the number squared and half the power"
   ]
  },
  {
   "cell_type": "code",
   "execution_count": 15,
   "metadata": {},
   "outputs": [
    {
     "name": "stdout",
     "output_type": "stream",
     "text": [
      "Please give an \"x\" number, it can be negative: 2\n",
      "Please give a \"y\" number, this one cannot be negative: 10\n",
      "2 power 10 is 1024\n"
     ]
    }
   ],
   "source": [
    "x = int(input('Please give an \"x\" number, it can be negative: '))\n",
    "y = int(input('Please give a \"y\" number, this one cannot be negative: '))\n",
    "print('{} power {} is {}'.format(x, y, power(x, y)))"
   ]
  }
 ],
 "metadata": {
  "kernelspec": {
   "display_name": "Python 3",
   "language": "python",
   "name": "python3"
  },
  "language_info": {
   "codemirror_mode": {
    "name": "ipython",
    "version": 3
   },
   "file_extension": ".py",
   "mimetype": "text/x-python",
   "name": "python",
   "nbconvert_exporter": "python",
   "pygments_lexer": "ipython3",
   "version": "3.7.1"
  }
 },
 "nbformat": 4,
 "nbformat_minor": 2
}
