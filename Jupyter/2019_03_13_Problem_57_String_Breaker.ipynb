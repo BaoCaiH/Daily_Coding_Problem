{
 "cells": [
  {
   "cell_type": "markdown",
   "metadata": {},
   "source": [
    "## 2019 March 13th\n",
    "\n",
    "Problem: Given a string s and an integer k, break up the string into multiple texts such that each text has a length of k or less. You must break it up so that words don't break across lines. If there's no way to break the text up, then return null.\n",
    "\n",
    "You can assume that there are no spaces at the ends of the string and that there is exactly one space between each word.\n",
    "\n",
    "For example, given the string \"the quick brown fox jumps over the lazy dog\" and k = 10, you should return: [\"the quick\", \"brown fox\", \"jumps over\", \"the lazy\", \"dog\"]. No string in the list has a length of more than 10."
   ]
  },
  {
   "cell_type": "code",
   "execution_count": 11,
   "metadata": {},
   "outputs": [],
   "source": [
    "def string_breaker(string, k):                              #\n",
    "    word = ''                                               # Holder for each word\n",
    "    cluster = []                                            # Holder for each GROUP of words\n",
    "    result = []                                             # Final result\n",
    "    for char in string:                                     # Search each character\n",
    "        if char != ' ':                                     # If the character is not a space\n",
    "            word = word + char                              # Add them together to form a word\n",
    "        else:                                               # If it is a space, anything previous become a word\n",
    "            if len(word) > k:                               # Then if any word longer than k\n",
    "                return None                                 # Will render the result null\n",
    "            if len(' '.join(cluster + [word])) == k:        # If not, then when pasted the previous group and\n",
    "                result.append(' '.join(cluster + [word]))   # the new word, equal to the requirement\n",
    "                word = ''                                   # Put the GROUP into the result\n",
    "                cluster = []                                # And wipe the holders\n",
    "            elif len(' '.join(cluster + [word])) < k:       # If when pasted, it is still less than k\n",
    "                cluster.append(word)                        # Add the new word to the group\n",
    "                word = ''                                   # And wipe the word holder\n",
    "            else:                                           # If when pasted, it is longer than k\n",
    "                result.append(' '.join(cluster))            # Add only the group to the result\n",
    "                cluster = [word]                            # And create a new group\n",
    "                word = ''                                   # Wipe the word holder\n",
    "                                                            #\n",
    "    if cluster:                                             # Then because there is no space at the end\n",
    "        if len(' '.join(cluster + [word])) <= k:            # Check if there is any available cluster\n",
    "            result.append(' '.join(cluster + [word]))       # And repeat the same procedure\n",
    "            word = ''                                       #\n",
    "        else:                                               #\n",
    "            result.append(' '.join(cluster))                #\n",
    "    if word:                                                # Same goes for the word\n",
    "        result.append(word)                                 #\n",
    "    return result                                           #"
   ]
  },
  {
   "cell_type": "code",
   "execution_count": 17,
   "metadata": {},
   "outputs": [
    {
     "name": "stdout",
     "output_type": "stream",
     "text": [
      "The given string is \"the quick brown fox jumps over the lazy dog\"\n"
     ]
    }
   ],
   "source": [
    "s = 'the quick brown fox jumps over the lazy dog'\n",
    "print('The given string is \"{}\"'.format(s))"
   ]
  },
  {
   "cell_type": "code",
   "execution_count": 18,
   "metadata": {},
   "outputs": [
    {
     "name": "stdout",
     "output_type": "stream",
     "text": [
      "Please choose a limit \"k\": 00009\n"
     ]
    },
    {
     "data": {
      "text/plain": [
       "['the quick', 'brown fox', 'jumps', 'over the', 'lazy dog']"
      ]
     },
     "execution_count": 18,
     "metadata": {},
     "output_type": "execute_result"
    }
   ],
   "source": [
    "k = int(input('Please choose a limit \"k\": '))\n",
    "string_breaker(s, k)"
   ]
  }
 ],
 "metadata": {
  "kernelspec": {
   "display_name": "Python 3",
   "language": "python",
   "name": "python3"
  },
  "language_info": {
   "codemirror_mode": {
    "name": "ipython",
    "version": 3
   },
   "file_extension": ".py",
   "mimetype": "text/x-python",
   "name": "python",
   "nbconvert_exporter": "python",
   "pygments_lexer": "ipython3",
   "version": "3.7.1"
  }
 },
 "nbformat": 4,
 "nbformat_minor": 2
}
