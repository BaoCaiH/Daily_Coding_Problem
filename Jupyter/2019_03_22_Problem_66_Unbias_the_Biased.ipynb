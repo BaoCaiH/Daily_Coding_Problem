{
 "cells": [
  {
   "cell_type": "markdown",
   "metadata": {},
   "source": [
    "## 2019 March 22nd\n",
    "\n",
    "Problem: Assume you have access to a function toss_biased() which returns 0 or 1 with a probability that's not 50-50 (but also not 0-100 or 100-0). You do not know the bias of the coin.\n",
    "\n",
    "Write a function to simulate an unbiased coin toss."
   ]
  },
  {
   "cell_type": "code",
   "execution_count": 8,
   "metadata": {},
   "outputs": [],
   "source": [
    "# Assume??? ASSUME???\n",
    "# That's not how we do things here\n",
    "# We'll make it\n",
    "def toss_biassed(bias = 0.7):                   #\n",
    "    import random                               #\n",
    "    return 1 if random.random() > 0.7 else 0    # Return result according to the bias\n",
    "\n",
    "# Now let's make it unbias\n",
    "def unbias():                                   #\n",
    "    roll_1 = toss_biassed()                     # Roll the biased coin twice\n",
    "    roll_2 = toss_biassed()                     # The probabilities of the combined rolls will always be\n",
    "    if roll_1 == 1 and roll_2 == 0:             # r(1 - r)\n",
    "        return 1                                # So it would be fair and unbias\n",
    "    elif roll_1 == 0 and roll_2 == 1:           #\n",
    "        return 0                                #\n",
    "    else:                                       # Any other combination will cause a re-roll\n",
    "        return unbias()                         #"
   ]
  },
  {
   "cell_type": "code",
   "execution_count": 20,
   "metadata": {},
   "outputs": [
    {
     "data": {
      "text/plain": [
       "1"
      ]
     },
     "execution_count": 20,
     "metadata": {},
     "output_type": "execute_result"
    }
   ],
   "source": [
    "unbias()"
   ]
  }
 ],
 "metadata": {
  "kernelspec": {
   "display_name": "Python 3",
   "language": "python",
   "name": "python3"
  },
  "language_info": {
   "codemirror_mode": {
    "name": "ipython",
    "version": 3
   },
   "file_extension": ".py",
   "mimetype": "text/x-python",
   "name": "python",
   "nbconvert_exporter": "python",
   "pygments_lexer": "ipython3",
   "version": "3.7.1"
  }
 },
 "nbformat": 4,
 "nbformat_minor": 2
}
