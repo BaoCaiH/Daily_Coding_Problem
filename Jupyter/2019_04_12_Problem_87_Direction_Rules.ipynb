{
 "cells": [
  {
   "cell_type": "markdown",
   "metadata": {},
   "source": [
    "## 2019 April 12th\n",
    "\n",
    "Problem: A rule looks like this:\n",
    "\n",
    "`A NE B`\n",
    "\n",
    "This means this means point A is located northeast of point B.\n",
    "\n",
    "`A SW C`\n",
    "\n",
    "means that point A is southwest of C.\n",
    "\n",
    "Given a list of rules, check if the sum of the rules validate. For example:\n",
    "\n",
    "`A N B\n",
    "B NE C\n",
    "C N A`\n",
    "\n",
    "does not validate, since A cannot be both north and south of C.\n",
    "\n",
    "`A NW B\n",
    "A N B`\n",
    "\n",
    "is considered valid."
   ]
  },
  {
   "cell_type": "code",
   "execution_count": 143,
   "metadata": {},
   "outputs": [],
   "source": [
    "class Node:\n",
    "    def __init__(self, value):\n",
    "        self.value = value\n",
    "        self.neighbour = {\n",
    "            'N' : [],\n",
    "            'S' : [],\n",
    "            'E' : [],\n",
    "            'W' : []\n",
    "        }\n",
    "        \n",
    "def add_rule(nodeA, directions, nodeB):\n",
    "    opposite = {\n",
    "        'N' : 'S',\n",
    "        'S' : 'N',\n",
    "        'E' : 'W',\n",
    "        'W' : 'E'\n",
    "    }\n",
    "    for direction in directions:\n",
    "        if nodeA in nodeB.neighbour[opposite[direction]] or\\\n",
    "            nodeB in nodeA.neighbour[direction]:\n",
    "            raise Exception\n",
    "        else:\n",
    "            nodeB.neighbour[direction].append(nodeA)\n",
    "            nodeA.neighbour[opposite[direction]].append(nodeB)\n",
    "            try:\n",
    "                for node in nodeB.neighbour[opposite[direction]]:\n",
    "                    add_rule(nodeA, direction, node)\n",
    "            except Exception:\n",
    "                nodeB.neighbour[direction].pop()\n",
    "                nodeA.neighbour[opposite[direction]].pop()\n",
    "                print('Invalid rules')"
   ]
  },
  {
   "cell_type": "code",
   "execution_count": 144,
   "metadata": {},
   "outputs": [],
   "source": [
    "a = Node('a')\n",
    "b = Node('b')\n",
    "c = Node('c')"
   ]
  },
  {
   "cell_type": "code",
   "execution_count": 145,
   "metadata": {},
   "outputs": [
    {
     "name": "stdout",
     "output_type": "stream",
     "text": [
      "Invalid rules\n"
     ]
    }
   ],
   "source": [
    "add_rule(a, 'N', b)\n",
    "add_rule(b, 'NE', c)\n",
    "add_rule(c, 'N', a)"
   ]
  },
  {
   "cell_type": "code",
   "execution_count": null,
   "metadata": {},
   "outputs": [],
   "source": [
    "a = Node('a')\n",
    "b = Node('b')\n",
    "c = Node('c')"
   ]
  },
  {
   "cell_type": "code",
   "execution_count": 142,
   "metadata": {},
   "outputs": [],
   "source": [
    "add_rule(a, 'NW', b)\n",
    "add_rule(a, 'N', b)"
   ]
  }
 ],
 "metadata": {
  "kernelspec": {
   "display_name": "Python 3",
   "language": "python",
   "name": "python3"
  },
  "language_info": {
   "codemirror_mode": {
    "name": "ipython",
    "version": 3
   },
   "file_extension": ".py",
   "mimetype": "text/x-python",
   "name": "python",
   "nbconvert_exporter": "python",
   "pygments_lexer": "ipython3",
   "version": "3.7.3"
  }
 },
 "nbformat": 4,
 "nbformat_minor": 2
}
