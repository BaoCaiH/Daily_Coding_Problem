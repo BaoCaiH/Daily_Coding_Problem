{
 "cells": [
  {
   "cell_type": "markdown",
   "metadata": {},
   "source": [
    "## 2019 February 2nd\n",
    "\n",
    "Problem: Given an array of integers and a number k, where 1 <= k <= length of the array, compute the maximum values of each subarray of length k.\n",
    "\n",
    "For example, given array = [10, 5, 2, 7, 8, 7] and k = 3, we should get: [10, 7, 8, 8], since:\n",
    "\n",
    "10 = max(10, 5, 2)\n",
    "\n",
    "7 = max(5, 2, 7)\n",
    "\n",
    "8 = max(2, 7, 8)\n",
    "\n",
    "8 = max(7, 8, 7)\n",
    "\n",
    "Do this in O(n) time and O(k) space. You can modify the input array in-place and you do not need to store the results. You can simply print them out as you compute them."
   ]
  },
  {
   "cell_type": "code",
   "execution_count": 19,
   "metadata": {},
   "outputs": [],
   "source": [
    "ar1 = [10, 5, 2, 7, 8, 7]\n",
    "k1 = 3"
   ]
  },
  {
   "cell_type": "code",
   "execution_count": 7,
   "metadata": {},
   "outputs": [],
   "source": [
    "def max_val_from_sub_k(array, k):\n",
    "    count = len(array) - k\n",
    "    max_val = []\n",
    "    for i in range(0, count + 1):\n",
    "        max_val.append(max(array[i : i + k]))\n",
    "    return max_val"
   ]
  },
  {
   "cell_type": "code",
   "execution_count": 20,
   "metadata": {},
   "outputs": [
    {
     "name": "stdout",
     "output_type": "stream",
     "text": [
      "Given the array [10, 5, 2, 7, 8, 7] and k of 3\n",
      "Return the max values set [10, 7, 8, 8]\n"
     ]
    }
   ],
   "source": [
    "print('Given the array {} and k of {}'.format(ar1, k1))\n",
    "print('Return the max values set {}'.format(max_val_from_sub_k(ar1, k1)))"
   ]
  },
  {
   "cell_type": "code",
   "execution_count": 21,
   "metadata": {},
   "outputs": [
    {
     "name": "stdout",
     "output_type": "stream",
     "text": [
      "Give your own array of numbers separated by comma (i.e 1,2,3): 12,54,1,72,8,36,12\n",
      "[12, 54, 1, 72, 8, 36, 12]\n",
      "Give your own k: 4\n",
      "Return the max values set [72, 72, 72, 72]\n"
     ]
    }
   ],
   "source": [
    "ar2 = input('Give your own array of numbers separated by comma (i.e 1,2,3): ')\n",
    "ar2 = ar2.split(',')\n",
    "ar2 = [int(i) for i in ar2]\n",
    "print(ar2)\n",
    "k2 = int(input('Give your own k: '))\n",
    "print('Return the max values set {}'.format(max_val_from_sub_k(ar2, k2)))"
   ]
  }
 ],
 "metadata": {
  "kernelspec": {
   "display_name": "Python 3",
   "language": "python",
   "name": "python3"
  },
  "language_info": {
   "codemirror_mode": {
    "name": "ipython",
    "version": 3
   },
   "file_extension": ".py",
   "mimetype": "text/x-python",
   "name": "python",
   "nbconvert_exporter": "python",
   "pygments_lexer": "ipython3",
   "version": "3.7.1"
  }
 },
 "nbformat": 4,
 "nbformat_minor": 2
}
