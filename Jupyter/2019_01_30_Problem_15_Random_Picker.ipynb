{
 "cells": [
  {
   "cell_type": "markdown",
   "metadata": {},
   "source": [
    "## 2019 January 30th\n",
    "\n",
    "Problem: Given a stream of elements too large to store in memory, pick a random element from the stream with uniform probability."
   ]
  },
  {
   "cell_type": "markdown",
   "metadata": {},
   "source": [
    "Let's say the list has 3 elements. When the list is loop, at element i (i_max = size - 1), The rate which the element would be picked is 1/(i + 1) so that in the end the total rate would be 1/(i_max + 1). Here's why.\n",
    "\n",
    "At the first element:\n",
    "\n",
    "The rate of the first element is 1/1, second and third are 0\n",
    "\n",
    ">1 : 1\n",
    "\n",
    ">2 : 0\n",
    "\n",
    ">3 : 0\n",
    "\n",
    "At the second element:\n",
    "\n",
    "The rate of the second element being picked is 1/2, the rate of the first element being not replaced, also mean picked is 1/2.\n",
    "\n",
    ">1 : 1 * 1/2 = 1/2\n",
    "\n",
    ">2 : 1/2\n",
    "\n",
    ">3 : 0\n",
    "\n",
    "At the third element:\n",
    "\n",
    "The rate of the third element being picked is 1/3, the rate of the first and second element not being replaced, also mean picked is 2/3\n",
    "\n",
    ">1 : 1 * 1/2 * 2/3 = 1/3\n",
    "\n",
    ">2 : 1/2 * 2/3 = 1/3\n",
    "\n",
    ">3 : 1/3\n",
    "\n",
    "So in the end, the total rate will be 1/3 for each, which will be what we need"
   ]
  },
  {
   "cell_type": "code",
   "execution_count": 21,
   "metadata": {},
   "outputs": [],
   "source": [
    "def pick_random(big_list):\n",
    "    import random\n",
    "    random_element = None\n",
    "    for index, element in enumerate(big_list): # First element, so 1/1 chance\n",
    "        if index == 0:                         # From the second onward, pick a random number\n",
    "            random_element = element           # and compare to a fixed number\n",
    "        elif random.randint(0, index) == 0:        # The rate will move with i like the example above\n",
    "            random_element = element           # But in python, the first element is counted from 0\n",
    "    return random_element                      # So it looks weird, but nothing changed"
   ]
  },
  {
   "cell_type": "code",
   "execution_count": 23,
   "metadata": {},
   "outputs": [],
   "source": [
    "# This proves nothing though\n",
    "# pick_random([1,2,3,4,5,6,7,8,9,10,11,12,13,14,15,16,17,18,19,20])"
   ]
  },
  {
   "cell_type": "code",
   "execution_count": 18,
   "metadata": {},
   "outputs": [
    {
     "name": "stdout",
     "output_type": "stream",
     "text": [
      "In case you run this Python file, view with a text editor or jupyter file for explanation. Because I don't have a huge list to run an example, sorry\n"
     ]
    }
   ],
   "source": [
    "print(\"In case you run this Python file, view with a text editor or jupyter file for explanation. Because I don't have a huge list to run an example, sorry\")"
   ]
  }
 ],
 "metadata": {
  "kernelspec": {
   "display_name": "Python 3",
   "language": "python",
   "name": "python3"
  },
  "language_info": {
   "codemirror_mode": {
    "name": "ipython",
    "version": 3
   },
   "file_extension": ".py",
   "mimetype": "text/x-python",
   "name": "python",
   "nbconvert_exporter": "python",
   "pygments_lexer": "ipython3",
   "version": "3.7.3"
  }
 },
 "nbformat": 4,
 "nbformat_minor": 2
}
