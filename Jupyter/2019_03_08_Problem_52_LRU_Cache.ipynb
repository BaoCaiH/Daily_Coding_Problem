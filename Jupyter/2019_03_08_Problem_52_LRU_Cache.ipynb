{
 "cells": [
  {
   "cell_type": "markdown",
   "metadata": {},
   "source": [
    "## 2019 March 8th\n",
    "\n",
    "Problem: Implement an LRU (Least Recently Used) cache. It should be able to be initialized with a cache size n, and contain the following methods:\n",
    "\n",
    ">set(key, value): sets key to value. If there are already n items in the cache and we are adding a new item, then it should also remove the least recently used item.\n",
    "\n",
    ">get(key): gets the value at key. If no such key exists, return null.\n",
    "\n",
    "Each operation should run in O(1) time."
   ]
  },
  {
   "cell_type": "code",
   "execution_count": 29,
   "metadata": {},
   "outputs": [],
   "source": [
    "class LRU_cache:\n",
    "    \n",
    "    def __init__(self, cache_size):                        #\n",
    "        self.cache_size = cache_size                       # Save the cache size as a permanent element\n",
    "        self.cache = {}                                    # The actual cache\n",
    "                                                           #\n",
    "    def set(self, key, value):                             #\n",
    "        try:                                               # If the key already exist,\n",
    "            self.cache.pop(key)                            # remove the current element\n",
    "        except KeyError:                                   # If not\n",
    "            if len(self.cache) >= self.cache_size:         # If the capacity is reached\n",
    "                self.cache.pop(list(self.cache.keys())[0]) # Remove the first element added == least used\n",
    "        self.cache[key] = value                            # Add a new key and value\n",
    "                                                           #\n",
    "    def get(self, key):                                    #\n",
    "        try:                                               # If the key exist\n",
    "            value = self.cache.pop(key)                    # Remove key and value from cache and store the value\n",
    "            self.cache[key] = value                        # Put the key and value at the end of the list\n",
    "            return value                                   # Return the value\n",
    "        except KeyError:                                   # If not\n",
    "            return False                                   # Return false"
   ]
  },
  {
   "cell_type": "code",
   "execution_count": 39,
   "metadata": {},
   "outputs": [
    {
     "name": "stdout",
     "output_type": "stream",
     "text": [
      "Create a LRU cache with size of 3\n",
      "\n",
      "Give it 3 caches\n",
      "{1: 45, 4: 12, 5: 9}\n",
      "\n",
      "Use the items a few time so the cache changes a little bit\n",
      "{5: 9, 4: 12, 1: 45}\n",
      "\n",
      "Add a new cache\n",
      "See how the least used element disappeared\n",
      "{4: 12, 1: 45, 7: 3}\n"
     ]
    }
   ],
   "source": [
    "print('Create a LRU cache with size of 3')\n",
    "b = LRU_cache(3)\n",
    "print('')\n",
    "\n",
    "print('Give it 3 caches')\n",
    "b.set(1, 45)\n",
    "b.set(4, 12)\n",
    "b.set(5, 9)\n",
    "print(b.cache)\n",
    "print('')\n",
    "\n",
    "print('Use the items a few time so the cache changes a little bit')\n",
    "b.get(4)\n",
    "b.get(1)\n",
    "print(b.cache)\n",
    "print('')\n",
    "\n",
    "print('Add a new cache')\n",
    "b.set(7, 3)\n",
    "print('See how the least used element disappeared')\n",
    "print(b.cache)"
   ]
  }
 ],
 "metadata": {
  "kernelspec": {
   "display_name": "Python 3",
   "language": "python",
   "name": "python3"
  },
  "language_info": {
   "codemirror_mode": {
    "name": "ipython",
    "version": 3
   },
   "file_extension": ".py",
   "mimetype": "text/x-python",
   "name": "python",
   "nbconvert_exporter": "python",
   "pygments_lexer": "ipython3",
   "version": "3.7.1"
  }
 },
 "nbformat": 4,
 "nbformat_minor": 2
}
