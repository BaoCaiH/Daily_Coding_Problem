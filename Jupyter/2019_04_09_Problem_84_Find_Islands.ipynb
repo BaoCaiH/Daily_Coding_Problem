{
 "cells": [
  {
   "cell_type": "markdown",
   "metadata": {},
   "source": [
    "## 2019 April 9th\n",
    "\n",
    "Problem: Given a matrix of 1s and 0s, return the number of \"islands\" in the matrix. A 1 represents land and 0 represents water, so an island is a group of 1s that are neighboring whose perimeter is surrounded by water.\n",
    "\n",
    "For example, this matrix has 4 islands.\n",
    "\n",
    "1 0 0 0 0<br>\n",
    "0 0 1 1 0<br>\n",
    "0 1 1 0 0<br>\n",
    "0 0 0 0 0<br>\n",
    "1 1 0 0 1<br>\n",
    "1 1 0 0 1"
   ]
  },
  {
   "cell_type": "code",
   "execution_count": 25,
   "metadata": {},
   "outputs": [],
   "source": [
    "def findIslands(m):                                 #\n",
    "    def neighbours(land, m):                        # Supportive function\n",
    "        neighbour = []                              # To find all the eligible\n",
    "        h = len(m)                                  # cells that is surrounding the current land\n",
    "        w = len(m[0])                               # Regardless if it is land or not\n",
    "        r, c = land                                 #\n",
    "        if r > 0:                                   #\n",
    "            neighbour.append((r - 1, c))            #\n",
    "            if c > 0:                               #\n",
    "                neighbour.append((r - 1, c - 1))    #\n",
    "            if c < w - 1:                           #\n",
    "                neighbour.append((r - 1, c + 1))    #\n",
    "        if r < h - 1:                               #\n",
    "            neighbour.append((r + 1, c))            #\n",
    "            if c > 0:                               #\n",
    "                neighbour.append((r + 1, c - 1))    #\n",
    "            if c < w - 1:                           #\n",
    "                neighbour.append((r + 1, c + 1))    #\n",
    "        if c > 0:                                   #\n",
    "            neighbour.append((r, c - 1))            #\n",
    "        if c < w - 1:                               #\n",
    "            neighbour.append((r, c + 1))            #\n",
    "        return neighbour                            #\n",
    "                                                    #\n",
    "    lands = []                                      # So find all the lands\n",
    "    for r in range(len(m)):                         # and put it in a list\n",
    "        for c in range(len(m[0])):                  #\n",
    "            if m[r][c] == 1:                        #\n",
    "                lands.append((r, c))                #\n",
    "                                                    #\n",
    "    islands = []                                    # Create a holder for all the island\n",
    "    for land in lands:                              # For each cell that is land\n",
    "        if not islands:                             # If there is no island yet\n",
    "            islands.append([land])                  # Create one for the land\n",
    "        else:                                       # Otherwise\n",
    "            cells = neighbours(land, m)             # Find all the neighbouring cells\n",
    "            tracker = 1                             # And a tracker for that land, 1 land belongs to 1 island\n",
    "            for cell in cells:                      # For each neighbouring cell\n",
    "                for i, island in enumerate(islands):# If the cell exists in one of the existing island\n",
    "                    if cell in island:              #\n",
    "                        islands[i].append(land)     # Put the land in that island\n",
    "                        tracker -= 1                # And remove the tracker, like take away an RFID tag\n",
    "                        break                       # Break the loop, no need to search anymore\n",
    "                if tracker == 0:                    # If there is no more tracker\n",
    "                    break                           # Break also the loop for each cell\n",
    "            if tracker == 1:                        # If after all, the tracker is still there\n",
    "                islands.append([land])              # It should be a new island, so create one\n",
    "    return len(islands)                             # Return the number of islands"
   ]
  },
  {
   "cell_type": "code",
   "execution_count": 1,
   "metadata": {},
   "outputs": [],
   "source": [
    "m = [[1, 0, 0, 0, 0],\n",
    "    [0, 0, 1, 1, 0],\n",
    "    [0, 1, 1, 0, 0],\n",
    "    [0, 0, 0, 0, 0],\n",
    "    [1, 1, 0, 0, 1],\n",
    "    [1, 1, 0, 0, 1]]"
   ]
  },
  {
   "cell_type": "code",
   "execution_count": 27,
   "metadata": {},
   "outputs": [
    {
     "name": "stdout",
     "output_type": "stream",
     "text": [
      "Given the map:\n",
      "[1, 0, 0, 0, 0]\n",
      "[0, 0, 1, 1, 0]\n",
      "[0, 1, 1, 0, 0]\n",
      "[0, 0, 0, 0, 0]\n",
      "[1, 1, 0, 0, 1]\n",
      "[1, 1, 0, 0, 1]\n"
     ]
    }
   ],
   "source": [
    "print('Given the map:')\n",
    "for r in m:\n",
    "    print(r)"
   ]
  },
  {
   "cell_type": "code",
   "execution_count": 29,
   "metadata": {},
   "outputs": [
    {
     "name": "stdout",
     "output_type": "stream",
     "text": [
      "There are 4 islands on this map\n"
     ]
    }
   ],
   "source": [
    "print('There are {} islands on this map'.format(findIslands(m)))"
   ]
  }
 ],
 "metadata": {
  "kernelspec": {
   "display_name": "Python 3",
   "language": "python",
   "name": "python3"
  },
  "language_info": {
   "codemirror_mode": {
    "name": "ipython",
    "version": 3
   },
   "file_extension": ".py",
   "mimetype": "text/x-python",
   "name": "python",
   "nbconvert_exporter": "python",
   "pygments_lexer": "ipython3",
   "version": "3.7.1"
  }
 },
 "nbformat": 4,
 "nbformat_minor": 2
}
