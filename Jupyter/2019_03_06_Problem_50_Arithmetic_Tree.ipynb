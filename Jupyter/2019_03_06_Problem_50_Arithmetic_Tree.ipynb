{
 "cells": [
  {
   "cell_type": "markdown",
   "metadata": {},
   "source": [
    "## 2019 March 6th\n",
    "\n",
    "Problem: Suppose an arithmetic expression is given as a binary tree. Each leaf is an integer and each internal node is one of '+', '−', '∗', or '/'.\n",
    "\n",
    "Given the root to such a tree, write a function to evaluate it.\n",
    "\n",
    "For example, given the following tree:\n",
    "\n",
    "`\\  *\n",
    "   / \\\n",
    "\\ +   +\n",
    " /\\   /\\\n",
    "3  2 4  5`\n",
    "\n",
    "You should return 45, as it is (3 + 2) * (4 + 5)."
   ]
  },
  {
   "cell_type": "code",
   "execution_count": 1,
   "metadata": {},
   "outputs": [],
   "source": [
    "class Node:\n",
    "    def __init__(self, val, left = None, right = None):\n",
    "        self.val = val\n",
    "        self.left = left\n",
    "        self.right = right"
   ]
  },
  {
   "cell_type": "code",
   "execution_count": 26,
   "metadata": {},
   "outputs": [],
   "source": [
    "a = Node('*', Node('+', Node(3), Node(2)), Node('+', Node(4), Node(5)))\n",
    "b = Node('*', Node('+', Node(3), Node(2)), Node('+', Node(4)))\n",
    "c = Node('/', Node('+', Node(4), Node(5)), Node('-', Node('*', Node(8), Node(2))))"
   ]
  },
  {
   "cell_type": "code",
   "execution_count": 24,
   "metadata": {},
   "outputs": [],
   "source": [
    "def arithmetic(tree):                          #\n",
    "    if not tree:                               # If the node is not available\n",
    "        return None                            # Return None\n",
    "    left = arithmetic(tree.left)               # Calculate the left side of the node\n",
    "    right = arithmetic(tree.right)             # And the right side\n",
    "    if tree.val == '+':                        # If the node is a addition function\n",
    "        if left is None or right is None:      # but if either of them is None, return the other\n",
    "            return [left, right][left is None] # (if both are None, it does not matter which one we return)\n",
    "        return left + right                    # If both are not None, perform addition\n",
    "    if tree.val == '-':                        # If subtraction\n",
    "        if left is None or right is None:      #\n",
    "            return [left, right][left is None] #\n",
    "        return left - right                    # Perform subtraction, left to right\n",
    "    if tree.val == '*':                        # If multiplication\n",
    "        if left is None or right is None:      #\n",
    "            return [left, right][left is None] #\n",
    "        return left * right                    # Perform multiplication\n",
    "    if tree.val == '/':                        # If division\n",
    "        if left is None or right is None:      #\n",
    "            return [left, right][left is None] #\n",
    "        return left / right                    # Perform division\n",
    "    return tree.val                            # If neither, means it's a number, return the number\n",
    "        "
   ]
  },
  {
   "cell_type": "code",
   "execution_count": 58,
   "metadata": {},
   "outputs": [
    {
     "name": "stdout",
     "output_type": "stream",
     "text": [
      "Given the tree below:\n",
      "    *\n",
      "   / \\\n",
      "  +   +\n",
      " /\\   /\\\n",
      "3  2 4  5\n",
      "That is (3 + 2) * (4 + 5) = 5*9\n",
      "The evaluation returned 45\n"
     ]
    }
   ],
   "source": [
    "print('Given the tree below:')\n",
    "print('    *\\n   / \\\\\\n  +   +\\n /\\\\   /\\\\\\n3  2 4  5')\n",
    "print('That is (3 + 2) * (4 + 5) = 5*9')\n",
    "print('The evaluation returned {}'.format(arithmetic(a)))"
   ]
  },
  {
   "cell_type": "code",
   "execution_count": 59,
   "metadata": {},
   "outputs": [
    {
     "name": "stdout",
     "output_type": "stream",
     "text": [
      "Given the tree below:\n",
      "    *\n",
      "   / \\\n",
      "  +   +\n",
      " /\\   /\n",
      "3  2 4\n",
      "That is (3 + 2) * 4 = 5*4\n",
      "The evaluation returned 20\n"
     ]
    }
   ],
   "source": [
    "print('Given the tree below:')\n",
    "print('    *\\n   / \\\\\\n  +   +\\n /\\\\   /\\n3  2 4')\n",
    "print('That is (3 + 2) * 4 = 5*4')\n",
    "print('The evaluation returned {}'.format(arithmetic(b)))"
   ]
  },
  {
   "cell_type": "code",
   "execution_count": 57,
   "metadata": {},
   "outputs": [
    {
     "name": "stdout",
     "output_type": "stream",
     "text": [
      "Given the tree below:\n",
      "    /\n",
      "   / \\\n",
      "  +   -\n",
      " /\\   /\n",
      "4  5 *\n",
      "     /\\\n",
      "    2  8\n",
      "That is (4 + 5) / (2 * 8) = 9/16\n",
      "The evaluation returned 0.5625\n"
     ]
    }
   ],
   "source": [
    "print('Given the tree below:')\n",
    "print('    /\\n   / \\\\\\n  +   -\\n /\\\\   /\\n4  5 *\\n     /\\\\\\n    2  8')\n",
    "print('That is (4 + 5) / (2 * 8) = 9/16')\n",
    "print('The evaluation returned {}'.format(arithmetic(c)))"
   ]
  }
 ],
 "metadata": {
  "kernelspec": {
   "display_name": "Python 3",
   "language": "python",
   "name": "python3"
  },
  "language_info": {
   "codemirror_mode": {
    "name": "ipython",
    "version": 3
   },
   "file_extension": ".py",
   "mimetype": "text/x-python",
   "name": "python",
   "nbconvert_exporter": "python",
   "pygments_lexer": "ipython3",
   "version": "3.7.1"
  }
 },
 "nbformat": 4,
 "nbformat_minor": 2
}
