{
 "cells": [
  {
   "cell_type": "markdown",
   "metadata": {},
   "source": [
    "## 2019 April 7th\n",
    "\n",
    "Problem: Using a read7() method that returns 7 characters from a file, implement readN(n) which reads n characters.\n",
    "\n",
    "For example, given a file with the content “Hello world”, three read7() returns “Hello w”, “orld” and then “”."
   ]
  },
  {
   "cell_type": "code",
   "execution_count": 104,
   "metadata": {},
   "outputs": [],
   "source": [
    "class files:                                                    #\n",
    "    def __init__(self, contents):                               # Create the file\n",
    "        self.contents = contents                                # Put in the contents\n",
    "        self.offset = 0                                         # Offseting is to move along the file without\n",
    "        self.buffer = ''                                        # modifying. Buffer is to temporarily storing\n",
    "                                                                #\n",
    "    def read7(self):                                            # Read 7 characters\n",
    "        start = self.offset                                     # Read from the old offset mark\n",
    "        self.offset = min(self.offset + 7, len(self.contents))  # To the new offset mark, 7 steps away\n",
    "        return self.contents[start : self.offset]               #\n",
    "                                                                #\n",
    "    def readN(self, n):                                         # Read N characters\n",
    "        buffer = len(self.buffer)                               # Check the buffer\n",
    "        if buffer > n:                                          # If the buffer is more than enough for this print\n",
    "            buffer = self.buffer[:n]                            # Trim the buffer\n",
    "            self.buffer = self.buffer[n:]                       # And return the sufficent amount of character\n",
    "            return buffer                                       # If not\n",
    "        if self.offset == len(self.contents):                   # Check the offset\n",
    "            buffer = self.buffer                                # If it's already at the end of the file\n",
    "            self.buffer = ''                                    # Clean the buffer\n",
    "            return buffer                                       # And return it at the same time\n",
    "        self.buffer = self.buffer + self.read7()                # Otherwise, increase the buffer with read7\n",
    "        return self.readN(n)                                    # Then recurse"
   ]
  },
  {
   "cell_type": "code",
   "execution_count": 124,
   "metadata": {},
   "outputs": [
    {
     "name": "stdout",
     "output_type": "stream",
     "text": [
      "Input anything: oiaoiusdjqoiwunocij oiqwjdbckl\n",
      "Starting with the file contains: oiaoiusdjqoiwunocij oiqwjdbckl\n"
     ]
    }
   ],
   "source": [
    "file = input('Input anything: ')\n",
    "a = files(file)\n",
    "print('Starting with the file contains: {}'.format(a.contents))"
   ]
  },
  {
   "cell_type": "code",
   "execution_count": 125,
   "metadata": {},
   "outputs": [
    {
     "name": "stdout",
     "output_type": "stream",
     "text": [
      "Enter an integer: 5\n",
      "This will print the file, 5 characters at a time, including spaces\n",
      "\"oiaoi\"\n",
      "\"usdjq\"\n",
      "\"oiwun\"\n",
      "\"ocij \"\n",
      "\"oiqwj\"\n",
      "\"dbckl\"\n",
      "\"\"\n"
     ]
    }
   ],
   "source": [
    "n = int(input('Enter an integer: '))\n",
    "print('This will print the file, {} characters at a time, including spaces'.format(n))\n",
    "b = '.'\n",
    "while b:\n",
    "    b = a.readN(n)\n",
    "    print('\"{}\"'.format(b))"
   ]
  }
 ],
 "metadata": {
  "kernelspec": {
   "display_name": "Python 3",
   "language": "python",
   "name": "python3"
  },
  "language_info": {
   "codemirror_mode": {
    "name": "ipython",
    "version": 3
   },
   "file_extension": ".py",
   "mimetype": "text/x-python",
   "name": "python",
   "nbconvert_exporter": "python",
   "pygments_lexer": "ipython3",
   "version": "3.7.1"
  }
 },
 "nbformat": 4,
 "nbformat_minor": 2
}
