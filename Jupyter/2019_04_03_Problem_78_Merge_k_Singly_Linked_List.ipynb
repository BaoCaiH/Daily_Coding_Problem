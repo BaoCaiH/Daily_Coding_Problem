{
 "cells": [
  {
   "cell_type": "markdown",
   "metadata": {},
   "source": [
    "## 2019 April 3rd\n",
    "\n",
    "Problem: Given k sorted singly linked lists, write a function to merge all the lists into one sorted singly linked list."
   ]
  },
  {
   "cell_type": "code",
   "execution_count": 153,
   "metadata": {},
   "outputs": [],
   "source": [
    "class Node:                                                             # Class to holder the linked list values\n",
    "    def __init__(self, value):                                          #\n",
    "        self.value = value                                              #\n",
    "        self.next = None                                                #\n",
    "                                                                        #\n",
    "class singly_linked_list:                                               # The linked list\n",
    "    def __init__(self):                                                 # The items will be added in reverse\n",
    "        self.head = None                                                # ironically, because Python doesn't have\n",
    "                                                                        # a pointer\n",
    "    def add_item(self, value):                                          # Add new item\n",
    "        node = Node(value)                                              # Give it the value\n",
    "        node.next = self.head                                           # Point the next value to value in front\n",
    "        self.head = node                                                # Expose the head of the list\n",
    "                                                                        #\n",
    "    def print_list(self):                                               # Printing items\n",
    "        printing = self.head                                            # Because items are added in reverse\n",
    "        while printing:                                                 # The last item is actually the first\n",
    "            print(printing.value, end = ' ')                            # Print the first value\n",
    "            printing = printing.next                                    # And use the next pointer to move forward\n",
    "        print('')                                                       #\n",
    "                                                                        #\n",
    "    def reverse(self):                                                  # Reversing\n",
    "        prev = None                                                     # The end of the list is None, like 'init'\n",
    "        current = self.head                                             # Start from the head like printing\n",
    "        while current is not None:                                      # Swap the pointers, Next becomes Previous\n",
    "             current.next, prev, current = prev, current, current.next  # Prev and Current are just holders\n",
    "        self.head = prev                                                # Move them along the list\n",
    "        \n",
    "############################# Up to this point, it is to setup the singly linked list ############################\n",
    "        \n",
    "def merge_k_singly_linked_list(kLst):                           #\n",
    "    k = len(kLst)                                               # Find k\n",
    "    kLst = kLst.copy()                                          # Take a copy, so it won't change the original lst\n",
    "    for i in range(k):                                          # Start at the head of each list\n",
    "        kLst[i] = kLst[i].head                                  #\n",
    "    tray = []                                                   # Get all the first values into a heap list\n",
    "    heapq.heapify(tray)                                         # They are all minimum from each list\n",
    "    for e in kLst:                                              #\n",
    "        heapq.heappush(tray, e.value)                           #\n",
    "    merged = singly_linked_list()                               #\n",
    "    while tray:                                                 # While the tray still has at least an element\n",
    "        adding = heapq.heappop(tray)                            # Take the min element\n",
    "        for i in range(k):                                      # Through each list\n",
    "            if kLst[i] is not None and kLst[i].value == adding: # If the current head is not None and equal to min\n",
    "                merged.add_item(adding)                         # Add it to the merged list\n",
    "                kLst[i] = kLst[i].next                          # Then move to the next element in that list\n",
    "                if kLst[i] is not None:                         # If the new element is not None\n",
    "                    heapq.heappush(tray, kLst[i].value)         # Add new value to the heap list\n",
    "                break                                           #\n",
    "    merged.reverse()                                            # Reverse to become an ascending list\n",
    "    merged.print_list()                                         #"
   ]
  },
  {
   "cell_type": "code",
   "execution_count": 111,
   "metadata": {},
   "outputs": [],
   "source": [
    "l1 = singly_linked_list()\n",
    "l2 = singly_linked_list()\n",
    "l3 = singly_linked_list()"
   ]
  },
  {
   "cell_type": "code",
   "execution_count": 112,
   "metadata": {},
   "outputs": [],
   "source": [
    "l1.add_item(7)\n",
    "l1.add_item(5)\n",
    "l1.add_item(3)\n",
    "l1.add_item(1)\n",
    "\n",
    "l2.add_item(8)\n",
    "l2.add_item(6)\n",
    "l2.add_item(4)\n",
    "l2.add_item(2)\n",
    "\n",
    "l3.add_item(11)\n",
    "l3.add_item(10)\n",
    "l3.add_item(9)\n",
    "l3.add_item(0)"
   ]
  },
  {
   "cell_type": "code",
   "execution_count": 156,
   "metadata": {},
   "outputs": [
    {
     "name": "stdout",
     "output_type": "stream",
     "text": [
      "Given the 3 sorted list:\n",
      "1 3 5 7 \n",
      "2 4 6 8 \n",
      "0 9 10 11 \n"
     ]
    }
   ],
   "source": [
    "k = [l1, l2, l3]\n",
    "print('Given the 3 sorted list:')\n",
    "for e in k:\n",
    "    e.print_list()"
   ]
  },
  {
   "cell_type": "code",
   "execution_count": 157,
   "metadata": {},
   "outputs": [
    {
     "name": "stdout",
     "output_type": "stream",
     "text": [
      "Merge them:\n",
      "0 1 2 3 4 5 6 7 8 9 10 11 \n"
     ]
    }
   ],
   "source": [
    "print('Merge them:')\n",
    "merge_k_singly_linked_list(k)"
   ]
  }
 ],
 "metadata": {
  "kernelspec": {
   "display_name": "Python 3",
   "language": "python",
   "name": "python3"
  },
  "language_info": {
   "codemirror_mode": {
    "name": "ipython",
    "version": 3
   },
   "file_extension": ".py",
   "mimetype": "text/x-python",
   "name": "python",
   "nbconvert_exporter": "python",
   "pygments_lexer": "ipython3",
   "version": "3.7.1"
  }
 },
 "nbformat": 4,
 "nbformat_minor": 2
}
