{
 "cells": [
  {
   "cell_type": "markdown",
   "metadata": {},
   "source": [
    "## 2019 February 23rd\n",
    "\n",
    "Problem: Conway's Game of Life takes place on an infinite two-dimensional board of square cells. Each cell is either dead or alive, and at each tick, the following rules apply:\n",
    "\n",
    ">Any live cell with less than two live neighbours dies.<br>\n",
    ">Any live cell with two or three live neighbours remains living.<br>\n",
    ">Any live cell with more than three live neighbours dies.<br>\n",
    ">Any dead cell with exactly three live neighbours becomes a live cell.<br>\n",
    ">A cell neighbours another cell if it is horizontally, vertically, or diagonally adjacent.\n",
    "\n",
    "Implement Conway's Game of Life. It should be able to be initialized with a starting list of live cell coordinates and the number of steps it should run for. Once initialized, it should print out the board state at each step. Since it's an infinite board, print out only the relevant coordinates, i.e. from the top-leftmost live cell to bottom-rightmost live cell.\n",
    "\n",
    "You can represent a live cell with an asterisk (*) and a dead cell with a dot (.).\n",
    "\n"
   ]
  },
  {
   "cell_type": "code",
   "execution_count": null,
   "metadata": {},
   "outputs": [],
   "source": [
    " 0,   1,   2,   3,   4,   5,  '6'\n",
    " 0,   1,   2,   3,   4,   5,  '6'\n",
    " 0,   1,   2,   3,   4,   5,  '6'\n",
    " 0,   1,   2,   3,   4,   5,  '6'\n",
    " 0,   1,   2,   3,   4,   5,  '6'\n",
    " 0,   1,   2,   3,   4,   5,  '6'\n",
    "'0', '1', '2', '3', '4', '5', '6'"
   ]
  },
  {
   "cell_type": "code",
   "execution_count": 92,
   "metadata": {},
   "outputs": [],
   "source": [
    "def rules(row, col, board, height, length):\n",
    "    '''\n",
    "    Function to return the living status of the cell given\n",
    "    '''\n",
    "    neighbors = []                           # First we list its neighbors\n",
    "    if row != 0:                             # If it is not the first row\n",
    "        if col != 0:                         # And if it's not the first column\n",
    "            neighbors.append((row-1, col-1)) # Add the cell diagonal to the top left\n",
    "        if col < (length - 1):               # If it's not the last 2 columns,\n",
    "            neighbors.append((row-1, col+1)) # cause the new board is 1 cell larger on both sides\n",
    "            neighbors.append((row-1, col))   # Add the cell directly above and diagonally to the top right\n",
    "        elif col == (length - 1):            # If it is the second last column\n",
    "            neighbors.append((row-1, col))   # Add the cell directly above\n",
    "    if row < (height - 1):                   # If it's not the last 2 rows\n",
    "        if col != 0:                         # if it's not the first column\n",
    "            neighbors.append((row+1, col-1)) # Add the cell diagonally to the bottom left\n",
    "        if col < (length - 1):               # and it goes on like above\n",
    "            neighbors.append((row+1, col+1))\n",
    "            neighbors.append((row+1, col))\n",
    "        elif col == (length - 1):\n",
    "            neighbors.append((row+1, col))\n",
    "    if col != 0:                             # If it's not the first column\n",
    "        if row < height:                     # And it is not the last row\n",
    "            neighbors.append((row, col-1))   # Add the cell directly to the left\n",
    "    if col < (length - 1):                   # If it's not the last 2 columns\n",
    "        if row < height:                     # And it is not the last row\n",
    "            neighbors.append((row, col+1))   # Add the cell directly to the right\n",
    "    score = 0                                # Time for the scoring\n",
    "    for i, j in neighbors:                   # Search each neighbor\n",
    "        if board[i][j] == '*':               # Count the number of living cells in the neighbors\n",
    "            score += 1\n",
    "    if row == height or col == length:       # If the cells belong to the new board, naturally it's not living\n",
    "        if score == 3:                       # If there are exactly 3 living cells nearby\n",
    "            return '*'                       # Bring it to live\n",
    "        else:                                # Else\n",
    "            return '.'                       # Stay dead\n",
    "    if board[row][col] == '*':               # If the cell in question is living\n",
    "        if score == 2 or score == 3:         # If the score is between 2 and 3\n",
    "            return '*'                       # Let it live\n",
    "        else:                                # Else\n",
    "            return '.'                       # Kill it\n",
    "    else:                                    # Same rules for the new cells\n",
    "        if score == 3:\n",
    "            return \"*\"\n",
    "        else:\n",
    "            return '.'"
   ]
  },
  {
   "cell_type": "code",
   "execution_count": 103,
   "metadata": {},
   "outputs": [],
   "source": [
    "def conway_game(board, step):\n",
    "    max_row = 0                           # Row and col printing counter\n",
    "    max_col = 0\n",
    "    row_dimension = len(board)            # Original row and col\n",
    "    col_dimension = len(board[0])         # Then create a new board, 1 size larger than the original\n",
    "    new_board = [['.' for j in range(col_dimension + 1)] for i in range(row_dimension + 1)]\n",
    "    for x in range(row_dimension + 1):    # For each cell of the new board\n",
    "        for y in range(col_dimension + 1):# Apply the rule to the cell\n",
    "            new_board[x][y] = rules(x, y, board, row_dimension, col_dimension)\n",
    "            if new_board[x][y] == '*':    # If the result is live\n",
    "                max_row = max(max_row, x) # Check for the new max row and column\n",
    "                max_col = max(max_col, y) # for printing\n",
    "    for row in new_board[:max_row+1]:     # Print each row, for niceness\n",
    "        print(row[:max_col+1])            # Also print enough\n",
    "    print('')                             # Add 1 line separator\n",
    "    if step - 1 > 0:                      # If there is still step to play\n",
    "        conway_game(new_board, step - 1)  # Let's play!"
   ]
  },
  {
   "cell_type": "code",
   "execution_count": 29,
   "metadata": {},
   "outputs": [],
   "source": [
    "import random"
   ]
  },
  {
   "cell_type": "code",
   "execution_count": 101,
   "metadata": {},
   "outputs": [
    {
     "name": "stdout",
     "output_type": "stream",
     "text": [
      "The board below is randomly generated:\n",
      "['*', '.', '*', '*', '.', '*']\n",
      "['.', '*', '.', '*', '.', '.']\n",
      "['*', '.', '.', '*', '*', '*']\n",
      "['.', '*', '.', '.', '.', '.']\n",
      "['*', '.', '.', '.', '.', '*']\n",
      "['.', '*', '.', '*', '.', '*']\n"
     ]
    }
   ],
   "source": [
    "b1 = [['*' if random.randint(0, 1) == 1 else '.' for j in range(6)] for i in range(6)]\n",
    "print('The board below is randomly generated:')\n",
    "for row in b1:\n",
    "    print(row)"
   ]
  },
  {
   "cell_type": "code",
   "execution_count": 104,
   "metadata": {},
   "outputs": [
    {
     "name": "stdout",
     "output_type": "stream",
     "text": [
      "How many step do you want to play2\n",
      "['.', '*', '*', '*', '*', '.']\n",
      "['*', '*', '.', '.', '.', '*']\n",
      "['*', '*', '.', '*', '*', '.']\n",
      "['*', '*', '.', '.', '.', '*']\n",
      "['*', '*', '*', '.', '*', '.']\n",
      "['.', '.', '.', '.', '*', '.']\n",
      "\n",
      "['*', '*', '*', '*', '*', '.']\n",
      "['.', '.', '.', '.', '.', '*']\n",
      "['.', '.', '.', '.', '*', '*']\n",
      "['.', '.', '.', '.', '.', '*']\n",
      "['*', '.', '*', '*', '*', '*']\n",
      "['.', '*', '.', '*', '.', '.']\n",
      "\n"
     ]
    }
   ],
   "source": [
    "step = int(input(\"How many step do you want to play? Don't make it too long though.\"))\n",
    "conway_game(b1, step)"
   ]
  }
 ],
 "metadata": {
  "kernelspec": {
   "display_name": "Python 3",
   "language": "python",
   "name": "python3"
  },
  "language_info": {
   "codemirror_mode": {
    "name": "ipython",
    "version": 3
   },
   "file_extension": ".py",
   "mimetype": "text/x-python",
   "name": "python",
   "nbconvert_exporter": "python",
   "pygments_lexer": "ipython3",
   "version": "3.7.1"
  }
 },
 "nbformat": 4,
 "nbformat_minor": 2
}
