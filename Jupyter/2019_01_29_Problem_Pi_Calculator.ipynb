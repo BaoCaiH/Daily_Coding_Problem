{
 "cells": [
  {
   "cell_type": "markdown",
   "metadata": {},
   "source": [
    "## 2019 January 29th\n",
    "\n",
    "Problem: The area of a circle is defined as πr^2. Estimate π to 3 decimal places using a Monte Carlo method.\n",
    "\n",
    "Hint: The basic equation of a circle is x2 + y2 = r2."
   ]
  },
  {
   "cell_type": "markdown",
   "metadata": {},
   "source": [
    "The [Monte Carklo](https://www.geeksforgeeks.org/estimating-value-pi-using-monte-carlo/) method can be read from the hyperlink"
   ]
  },
  {
   "cell_type": "markdown",
   "metadata": {},
   "source": [
    "Basically, we generate a set of points, inside a 1x1 square, which has a area of 1 unit square and a circle, which r = 1/2. Therefore, it has the area of π/4 unit square. Then we can calculate π by calculating:\n",
    "\n",
    "> 4 * Area_of_the_circle/Area_of_the_square\n",
    "\n",
    "So:\n",
    "\n",
    "> π = 4 * Number_of_points_in_the_circle/Number_of_points_in_the_square\n",
    "\n",
    "Also to make it easier, the circle's center will be at the (0, 0) coordinate. With r = 1"
   ]
  },
  {
   "cell_type": "code",
   "execution_count": 1,
   "metadata": {},
   "outputs": [],
   "source": [
    "def R_Sq_Calculator(x, y):\n",
    "    return x**2 + y**2"
   ]
  },
  {
   "cell_type": "code",
   "execution_count": 2,
   "metadata": {},
   "outputs": [],
   "source": [
    "import random"
   ]
  },
  {
   "cell_type": "code",
   "execution_count": 8,
   "metadata": {},
   "outputs": [
    {
     "data": {
      "text/plain": [
       "3.142"
      ]
     },
     "execution_count": 8,
     "metadata": {},
     "output_type": "execute_result"
    }
   ],
   "source": [
    "circle_points = 0\n",
    "square_points = 0\n",
    "for _ in range(10000000):\n",
    "    x = random.random()\n",
    "    y = random.random()\n",
    "    R_Sq = R_Sq_Calculator(x, y)\n",
    "    if R_Sq <= 1:\n",
    "        circle_points += 1\n",
    "    square_points += 1\n",
    "Pie = 4*circle_points/square_points\n",
    "round(Pie, 3)"
   ]
  }
 ],
 "metadata": {
  "kernelspec": {
   "display_name": "Python 3",
   "language": "python",
   "name": "python3"
  },
  "language_info": {
   "codemirror_mode": {
    "name": "ipython",
    "version": 3
   },
   "file_extension": ".py",
   "mimetype": "text/x-python",
   "name": "python",
   "nbconvert_exporter": "python",
   "pygments_lexer": "ipython3",
   "version": "3.7.1"
  }
 },
 "nbformat": 4,
 "nbformat_minor": 2
}
