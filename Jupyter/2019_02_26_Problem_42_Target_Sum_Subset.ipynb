{
 "cells": [
  {
   "cell_type": "markdown",
   "metadata": {},
   "source": [
    "## 2019 February 26th\n",
    "\n",
    "Problem: Given a list of integers S and a target number k, write a function that returns a subset of S that adds up to k. If such a subset cannot be made, then return null.\n",
    "\n",
    "Integers can appear more than once in the list. You may assume all numbers in the list are positive.\n",
    "\n",
    "For example, given S = [12, 1, 61, 5, 9, 2] and k = 24, return [12, 9, 2, 1] since it sums up to 24."
   ]
  },
  {
   "cell_type": "code",
   "execution_count": 90,
   "metadata": {},
   "outputs": [],
   "source": [
    "def reach_target(s, k):\n",
    "    if len(s) == 1:                                        # If the set is only 1 element long\n",
    "        if s[0] == k:                                      # If that element is the target number\n",
    "            return [k]                                     # Good\n",
    "        else:                                              # If not\n",
    "            return None                                    # Bad\n",
    "                                                           # Otherwise, real work here\n",
    "    for i, num in enumerate(s):                            # For each number\n",
    "        if num == k:                                       # If it's magically equal to the target\n",
    "            return [num]                                   # Great\n",
    "        elif num < k:                                      # Otherwise it should less than the target\n",
    "            subs = reach_target(s[:i] + s[i+1:], k - num)  # Recurse the function with a subset\n",
    "                                                           # without the number, and a smaller target\n",
    "            if subs:                                       # If it returns anything at all\n",
    "                                                           # (otherwise it's not what we're looking for)\n",
    "                return [num] + subs                        # Return the number and whatever come from the recursion\n",
    "    return None                                            # After all that, nothing matches, return None (or null)"
   ]
  },
  {
   "cell_type": "code",
   "execution_count": 87,
   "metadata": {},
   "outputs": [],
   "source": [
    "s1 = [12, 1, 61, 5, 9, 2]\n",
    "k1 = 24\n",
    "k2 = 14\n",
    "k3 = 75"
   ]
  },
  {
   "cell_type": "code",
   "execution_count": 89,
   "metadata": {},
   "outputs": [
    {
     "name": "stdout",
     "output_type": "stream",
     "text": [
      "Given the set [12, 1, 61, 5, 9, 2] and three target sum 24, 14 and 75\n",
      "The subsets are [12, 1, 9, 2],[12, 2] and [12, 61, 2]\n",
      "\n",
      "Notice how 14 can be made up of [12, 2] and [5, 9] but because 12 was at the beginning of the list, it was accounted for first\n"
     ]
    }
   ],
   "source": [
    "print('Given the set {} and three target sum {}, {} and {}'.format(s1, k1, k2, k3))\n",
    "print('The subsets are {},{} and {}'.format(reach_target(s1, k1),\n",
    "                                           reach_target(s1, k2),\n",
    "                                           reach_target(s1, k3)))\n",
    "print('')\n",
    "print('Notice how 14 can be made up of [12, 2] and [5, 9] but because 12 was at the beginning of the list, it was accounted for first')"
   ]
  }
 ],
 "metadata": {
  "kernelspec": {
   "display_name": "Python 3",
   "language": "python",
   "name": "python3"
  },
  "language_info": {
   "codemirror_mode": {
    "name": "ipython",
    "version": 3
   },
   "file_extension": ".py",
   "mimetype": "text/x-python",
   "name": "python",
   "nbconvert_exporter": "python",
   "pygments_lexer": "ipython3",
   "version": "3.7.1"
  }
 },
 "nbformat": 4,
 "nbformat_minor": 2
}
