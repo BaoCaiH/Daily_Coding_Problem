{
 "cells": [
  {
   "cell_type": "markdown",
   "metadata": {},
   "source": [
    "## 2019 March 8th\n",
    "\n",
    "Problem: Implement a queue using two stacks. Recall that a queue is a FIFO (first-in, first-out) data structure with the following methods: enqueue, which inserts an element into the queue, and dequeue, which removes it."
   ]
  },
  {
   "cell_type": "code",
   "execution_count": 23,
   "metadata": {},
   "outputs": [],
   "source": [
    "# Why the two stacks are needed?\n",
    "# Maybe it's just the requirement?\n",
    "class queue:                                            # So the queue\n",
    "                                                        #\n",
    "    def __init__(self):                                 # And it has 2 stacks\n",
    "        self.stack_1 = []                               #\n",
    "        self.stack_2 = []                               #\n",
    "                                                        #\n",
    "    def enqueue(self, insert):                          # Insert the new element in the queue\n",
    "        self.stack_1.append(insert)                     #\n",
    "                                                        #\n",
    "    def dequeue(self):                                  # Removing \n",
    "        if not self.stack_1 and not self.stack_2:       # If the stacks are empty\n",
    "            print('The queue is empty')                 #\n",
    "            return None                                 #\n",
    "        if not self.stack_2:                            # If only the second stack is empty\n",
    "            while self.stack_1:                         # Push element from the first stack, inverted\n",
    "                self.stack_2.append(self.stack_1.pop()) # Return the last element from the second stack\n",
    "        return self.stack_2.pop()                       # (aka 1st element ever)"
   ]
  },
  {
   "cell_type": "code",
   "execution_count": 52,
   "metadata": {},
   "outputs": [],
   "source": [
    "# # This could do just the same\n",
    "# # thanks to Python\n",
    "# class Queue:                            # Meanwhile\n",
    "#                                         #\n",
    "#     def __init__(self):                 # The queue\n",
    "#         self.queue = []                 #\n",
    "#                                         #\n",
    "#     def enQueue(self, insert):          # Insert new element\n",
    "#         self.queue.append(insert)       #\n",
    "#                                         #\n",
    "#     def deQueue(self):                  #\n",
    "#         if not self.queue:              # Certainly if the queue is empty\n",
    "#             print('The queue is empty') #\n",
    "#             return None                 #\n",
    "#         return self.queue.pop(0)        # Otherwise return the first element, by indexing"
   ]
  },
  {
   "cell_type": "code",
   "execution_count": 62,
   "metadata": {},
   "outputs": [],
   "source": [
    "FIFO = queue()"
   ]
  },
  {
   "cell_type": "code",
   "execution_count": 63,
   "metadata": {},
   "outputs": [
    {
     "name": "stdout",
     "output_type": "stream",
     "text": [
      "[3, 4, 5, 6, 7, 8]\n"
     ]
    }
   ],
   "source": [
    "for i in range(3, 9):\n",
    "    FIFO.enqueue(i)\n",
    "print(FIFO.stack_1)"
   ]
  },
  {
   "cell_type": "code",
   "execution_count": 64,
   "metadata": {},
   "outputs": [
    {
     "name": "stdout",
     "output_type": "stream",
     "text": [
      "[3, 4, 5, 6, 7, 8, 9]\n"
     ]
    }
   ],
   "source": [
    "FIFO.enqueue(9)\n",
    "print(FIFO.stack_1)"
   ]
  },
  {
   "cell_type": "code",
   "execution_count": 65,
   "metadata": {},
   "outputs": [
    {
     "name": "stdout",
     "output_type": "stream",
     "text": [
      "3\n",
      "4\n",
      "5\n",
      "6\n",
      "7\n",
      "8\n",
      "9\n",
      "The queue is empty\n",
      "None\n"
     ]
    }
   ],
   "source": [
    "for _ in range(8):\n",
    "    print(FIFO.dequeue())"
   ]
  }
 ],
 "metadata": {
  "kernelspec": {
   "display_name": "Python 3",
   "language": "python",
   "name": "python3"
  },
  "language_info": {
   "codemirror_mode": {
    "name": "ipython",
    "version": 3
   },
   "file_extension": ".py",
   "mimetype": "text/x-python",
   "name": "python",
   "nbconvert_exporter": "python",
   "pygments_lexer": "ipython3",
   "version": "3.7.1"
  }
 },
 "nbformat": 4,
 "nbformat_minor": 2
}
