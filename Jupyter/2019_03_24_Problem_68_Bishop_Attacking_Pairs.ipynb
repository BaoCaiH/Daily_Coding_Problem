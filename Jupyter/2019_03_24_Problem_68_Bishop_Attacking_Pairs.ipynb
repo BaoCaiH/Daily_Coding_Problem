{
 "cells": [
  {
   "cell_type": "markdown",
   "metadata": {},
   "source": [
    "## 2019 March 24th\n",
    "\n",
    "Problem: On our special chessboard, two bishops attack each other if they share the same diagonal. This includes bishops that have another bishop located between them, i.e. bishops can attack through pieces.\n",
    "\n",
    "You are given N bishops, represented as (row, column) tuples on a M by M chessboard. Write a function to count the number of pairs of bishops that attack each other. The ordering of the pair doesn't matter: (1, 2) is considered the same as (2, 1).\n",
    "\n",
    "For example, given M = 5 and the list of bishops:\n",
    "\n",
    "(0, 0)<br>\n",
    "(1, 2)<br>\n",
    "(2, 2)<br>\n",
    "(4, 0)\n",
    "\n",
    "The board would look like this:\n",
    "\n",
    "`[b 0 0 0 0]\n",
    "[0 0 b 0 0]\n",
    "[0 0 b 0 0]\n",
    "[0 0 0 0 0]\n",
    "[b 0 0 0 0]`\n",
    "\n",
    "You should return 2, since bishops 1 and 3 attack each other, as well as bishops 3 and 4."
   ]
  },
  {
   "cell_type": "code",
   "execution_count": 18,
   "metadata": {},
   "outputs": [],
   "source": [
    "def bishop_attacking_pairs(N, M, count = True):                             #\n",
    "    last = len(N)                                                           # Count the number of bishop\n",
    "    attack_pairs = []                                                       # Storage for the pairs\n",
    "    for i, bishop in enumerate(N):                                          # For each bishop\n",
    "        if i == last - 1:                                                   # Skip the last bishop\n",
    "            break                                                           # Because order is not important\n",
    "        if not (bishop[0] >= M or bishop[1] >= M):                          # Skip those outside the board\n",
    "            for another_bishop in N[i+1:]:                                  # Search other bishops\n",
    "                if not (another_bishop[0] >= M or another_bishop[1] >= M):  # Also skip those outside the board\n",
    "                    if abs(bishop[0] - another_bishop[0]) ==\\\n",
    "                        abs(bishop[1] - another_bishop[1]):                 # If they are diagonal from each other\n",
    "                        attack_pairs.append((bishop, another_bishop))       # Add the pair\n",
    "    if count is True:                                                       # Return the number of the pairs\n",
    "        return len(attack_pairs)                                            #\n",
    "    return attack_pairs                                                     # Or the pairs themselves"
   ]
  },
  {
   "cell_type": "code",
   "execution_count": 19,
   "metadata": {},
   "outputs": [
    {
     "name": "stdout",
     "output_type": "stream",
     "text": [
      "Given the 5 by 5 board and the following bishops: [(0, 0), (1, 2), (2, 2), (4, 0)]\n",
      "There are 2 pairs of bishops attacking one another\n"
     ]
    }
   ],
   "source": [
    "lst = [(0, 0), (1, 2), (2, 2), (4, 0)]\n",
    "print('Given the 5 by 5 board and the following bishops: {}'.format(lst))\n",
    "print('There are {} pairs of bishops attacking one another'.format(bishop_attacking_pairs(lst, 5)))"
   ]
  }
 ],
 "metadata": {
  "kernelspec": {
   "display_name": "Python 3",
   "language": "python",
   "name": "python3"
  },
  "language_info": {
   "codemirror_mode": {
    "name": "ipython",
    "version": 3
   },
   "file_extension": ".py",
   "mimetype": "text/x-python",
   "name": "python",
   "nbconvert_exporter": "python",
   "pygments_lexer": "ipython3",
   "version": "3.7.1"
  }
 },
 "nbformat": 4,
 "nbformat_minor": 2
}
