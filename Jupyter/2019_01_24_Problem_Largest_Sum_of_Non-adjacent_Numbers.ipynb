{
 "cells": [
  {
   "cell_type": "markdown",
   "metadata": {},
   "source": [
    "## 2019 January 24th\n",
    "\n",
    "Problem: Given a list of integers, write a function that returns the largest sum of non-adjacent numbers. Numbers can be 0 or negative.\n",
    "\n",
    "For example, [2, 4, 6, 2, 5] should return 13, since we pick 2, 6, and 5. [5, 1, 1, 5] should return 10, since we pick 5 and 5.\n",
    "\n",
    "Follow-up: Can you do this in O(N) time and constant space?"
   ]
  },
  {
   "cell_type": "code",
   "execution_count": 66,
   "metadata": {},
   "outputs": [],
   "source": [
    "list_1 = [2, 4, 6, 2, 5]\n",
    "list_2 = [5, 1, 1, 5]\n",
    "list_3 = [3, 6, 9, 6, 4, 9, -7, -8]\n",
    "list_4 = [3, 6, 9, 6, 0, 0, 4, 9, 0, 0]"
   ]
  },
  {
   "cell_type": "code",
   "execution_count": 64,
   "metadata": {},
   "outputs": [],
   "source": [
    "def largest_sum_non_adjacent(lst):\n",
    "    \n",
    "    if len(lst) == 0:                                            # If the list is empty, largest value is 0\n",
    "        return 0\n",
    "    elif len(lst) <= 2:                                          # If the list only have 1 or 2 elements\n",
    "        return max(max(lst), 0)                                          # Pick which ever is larger among 2 (or 1)\n",
    "    elif len(lst) == 3:                                          # If there are 3, either the middle number\n",
    "        return max((lst[0] + lst[2]), lst[1], 0)                 # or the sum of the outsider would be the largest\n",
    "    else:                                                        # Otherwise, for every 2 adjacent numbers\n",
    "        return max((lst[0] + largest_sum_non_adjacent(lst[2:])), # Compare the sum of each number\n",
    "                   lst[1] + largest_sum_non_adjacent(lst[3:]),   # with the results of the same function\n",
    "                   0 + largest_sum_non_adjacent(lst[1:]),         # iterate over the remaining of the list\n",
    "                   0 + largest_sum_non_adjacent(lst[2:]))         # account also any negative numbers\n",
    "                                                                 # they should simply be skipped"
   ]
  },
  {
   "cell_type": "code",
   "execution_count": 67,
   "metadata": {},
   "outputs": [
    {
     "name": "stdout",
     "output_type": "stream",
     "text": [
      "Given the 4 lists\n",
      "List 1:\n",
      "[2, 4, 6, 2, 5]\n",
      "The largest sum of non-adjacent numbers is: 13\n",
      "List 2:\n",
      "[5, 1, 1, 5]\n",
      "The largest sum of non-adjacent numbers is: 10\n",
      "List 3:\n",
      "[3, 6, 9, 6, 4, 9, -7, -8]\n",
      "The largest sum of non-adjacent numbers is: 21\n",
      "List 4:\n",
      "[3, 6, 9, 6, 0, 0, 4, 9, 0, 0]\n",
      "The largest sum of non-adjacent numbers is: 21\n"
     ]
    }
   ],
   "source": [
    "print('Given the 4 lists')\n",
    "print('List 1:')\n",
    "print(list_1)\n",
    "print('The largest sum of non-adjacent numbers is: {}'.format(largest_sum_non_adjacent(list_1)))\n",
    "print('List 2:')\n",
    "print(list_2)\n",
    "print('The largest sum of non-adjacent numbers is: {}'.format(largest_sum_non_adjacent(list_2)))\n",
    "print('List 3:')\n",
    "print(list_3)\n",
    "print('The largest sum of non-adjacent numbers is: {}'.format(largest_sum_non_adjacent(list_3)))\n",
    "print('List 4:')\n",
    "print(list_4)\n",
    "print('The largest sum of non-adjacent numbers is: {}'.format(largest_sum_non_adjacent(list_4)))"
   ]
  },
  {
   "cell_type": "code",
   "execution_count": 72,
   "metadata": {},
   "outputs": [
    {
     "name": "stdout",
     "output_type": "stream",
     "text": [
      "To be fair, you can give your own list of number in the form of numbers separated by spaces\n",
      "i.e: 3 6 9 6 0 0 4 9 0 0\n",
      "Errors will occur so check your syntax before confirm by press Enter\n"
     ]
    }
   ],
   "source": [
    "print('To be fair, you can give your own list of number in the form of numbers separated by spaces')\n",
    "print('i.e: 3 6 9 6 0 0 4 9 0 0')\n",
    "print('Errors will occur so check your syntax before confirm by press Enter')"
   ]
  },
  {
   "cell_type": "code",
   "execution_count": 68,
   "metadata": {},
   "outputs": [
    {
     "name": "stdout",
     "output_type": "stream",
     "text": [
      "Input here: 3 6 9 6 0 0 4 9 0 0\n"
     ]
    }
   ],
   "source": [
    "list_5 = input('Input here: ')"
   ]
  },
  {
   "cell_type": "code",
   "execution_count": 70,
   "metadata": {},
   "outputs": [],
   "source": [
    "list_5 = [int(i) for i in list_5.split(' ')]"
   ]
  },
  {
   "cell_type": "code",
   "execution_count": 71,
   "metadata": {},
   "outputs": [
    {
     "name": "stdout",
     "output_type": "stream",
     "text": [
      "The largest sum of non-adjacent numbers is: 21\n"
     ]
    }
   ],
   "source": [
    "print('The largest sum of non-adjacent numbers is: {}'.format(largest_sum_non_adjacent(list_5)))"
   ]
  }
 ],
 "metadata": {
  "kernelspec": {
   "display_name": "Python 3",
   "language": "python",
   "name": "python3"
  },
  "language_info": {
   "codemirror_mode": {
    "name": "ipython",
    "version": 3
   },
   "file_extension": ".py",
   "mimetype": "text/x-python",
   "name": "python",
   "nbconvert_exporter": "python",
   "pygments_lexer": "ipython3",
   "version": "3.7.1"
  }
 },
 "nbformat": 4,
 "nbformat_minor": 2
}
