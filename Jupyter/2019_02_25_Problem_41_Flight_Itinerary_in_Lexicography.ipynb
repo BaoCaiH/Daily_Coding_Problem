{
 "cells": [
  {
   "cell_type": "markdown",
   "metadata": {},
   "source": [
    "## 2019 February 25th\n",
    "\n",
    "Problem: Given an unordered list of flights taken by someone, each represented as (origin, destination) pairs, and a starting airport, compute the person's itinerary. If no such itinerary exists, return null. If there are multiple possible itineraries, return the lexicographically smallest one. All flights must be used in the itinerary.\n",
    "\n",
    "For example, given the list of flights [('SFO', 'HKO'), ('YYZ', 'SFO'), ('YUL', 'YYZ'), ('HKO', 'ORD')] and starting airport 'YUL', you should return the list ['YUL', 'YYZ', 'SFO', 'HKO', 'ORD'].\n",
    "\n",
    "Given the list of flights [('SFO', 'COM'), ('COM', 'YYZ')] and starting airport 'COM', you should return null.\n",
    "\n",
    "Given the list of flights [('A', 'B'), ('A', 'C'), ('B', 'C'), ('C', 'A')] and starting airport 'A', you should return the list ['A', 'B', 'C', 'A', 'C'] even though ['A', 'C', 'A', 'B', 'C'] is also a valid itinerary. However, the first one is lexicographically smaller."
   ]
  },
  {
   "cell_type": "code",
   "execution_count": 50,
   "metadata": {},
   "outputs": [],
   "source": [
    "def itinerary(flights, start):\n",
    "    order = []                                                     # The result list\n",
    "    for i, flight in enumerate(flights):                           # For each flight\n",
    "        if flight[0] == start:                                     # If the origin matches the given start\n",
    "            if flights[:i] + flights[i+1:]:                        # Check if there is still flight after this\n",
    "                next_stop = itinerary(flights[:i] + flights[i+1:], # Loop for the next stop\n",
    "                                      flight[-1])                  # with a new given start\n",
    "                if next_stop:                                      # If there is possible order\n",
    "                    order.append(next_stop)                        # Add it to the possible orders\n",
    "                else:                                              # Else\n",
    "                    return None                                    # None all the way\n",
    "            else:                                                  # If this is the last flight\n",
    "                order.append([flight[-1]])                         # Return only the destination\n",
    "    if not order:                                                  # It will check if any path exist\n",
    "        return None                                                # If one fails, everything fails\n",
    "                                                                   # This last if statement is effective\n",
    "                                                                   # only on the first level\n",
    "    return [start] + min(order)                                    # Return the start + the lexicography smallest order"
   ]
  },
  {
   "cell_type": "code",
   "execution_count": 1,
   "metadata": {},
   "outputs": [],
   "source": [
    "l1 = [('SFO', 'HKO'), ('YYZ', 'SFO'), ('YUL', 'YYZ'), ('HKO', 'ORD')]\n",
    "s1 = 'YUL'\n",
    "l2 = [('SFO', 'COM'), ('COM', 'YYZ')]\n",
    "s2 = 'COM'\n",
    "l3 = [('A', 'B'), ('A', 'C'), ('B', 'C'), ('C', 'A')]\n",
    "s3 = 'A'"
   ]
  },
  {
   "cell_type": "code",
   "execution_count": 54,
   "metadata": {},
   "outputs": [
    {
     "name": "stdout",
     "output_type": "stream",
     "text": [
      "Given the flights [('SFO', 'HKO'), ('YYZ', 'SFO'), ('YUL', 'YYZ'), ('HKO', 'ORD')] and the start airport 'YUL'\n",
      "The flights order is ['YUL', 'YYZ', 'SFO', 'HKO', 'ORD']\n"
     ]
    }
   ],
   "source": [
    "print('Given the flights {} and the start airport \\'{}\\''.format(l1, s1))\n",
    "print('The flights order is {}'.format(itinerary(l1, s1)))"
   ]
  },
  {
   "cell_type": "code",
   "execution_count": 56,
   "metadata": {},
   "outputs": [
    {
     "name": "stdout",
     "output_type": "stream",
     "text": [
      "Given the flights [('SFO', 'COM'), ('COM', 'YYZ')] and the start airport 'COM'\n",
      "The flights order is None\n"
     ]
    }
   ],
   "source": [
    "print('Given the flights {} and the start airport \\'{}\\''.format(l2, s2))\n",
    "print('The flights order is {}'.format(itinerary(l2, s2)))"
   ]
  },
  {
   "cell_type": "code",
   "execution_count": 55,
   "metadata": {},
   "outputs": [
    {
     "name": "stdout",
     "output_type": "stream",
     "text": [
      "Given the flights [('A', 'B'), ('A', 'C'), ('B', 'C'), ('C', 'A')] and the start airport 'A'\n",
      "The flights order is ['A', 'B', 'C', 'A', 'C']\n"
     ]
    }
   ],
   "source": [
    "print('Given the flights {} and the start airport \\'{}\\''.format(l3, s3))\n",
    "print('The flights order is {}'.format(itinerary(l3, s3)))"
   ]
  }
 ],
 "metadata": {
  "kernelspec": {
   "display_name": "Python 3",
   "language": "python",
   "name": "python3"
  },
  "language_info": {
   "codemirror_mode": {
    "name": "ipython",
    "version": 3
   },
   "file_extension": ".py",
   "mimetype": "text/x-python",
   "name": "python",
   "nbconvert_exporter": "python",
   "pygments_lexer": "ipython3",
   "version": "3.7.1"
  }
 },
 "nbformat": 4,
 "nbformat_minor": 2
}
