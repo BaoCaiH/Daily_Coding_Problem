{
 "cells": [
  {
   "cell_type": "markdown",
   "metadata": {},
   "source": [
    "## 2019 February 15th\n",
    "\n",
    "Problem: The edit distance between two strings refers to the minimum number of character insertions, deletions, and substitutions required to change one string to the other. For example, the edit distance between “kitten” and “sitting” is three: substitute the “k” for “s”, substitute the “e” for “i”, and append a “g”.\n",
    "\n",
    "Given two strings, compute the edit distance between them."
   ]
  },
  {
   "cell_type": "code",
   "execution_count": 20,
   "metadata": {},
   "outputs": [],
   "source": [
    "def edit_distance(string_1, string_2):\n",
    "    remain = ''\n",
    "    for c in string_1:\n",
    "        if c in string_2:\n",
    "            i = string_2.index(c)\n",
    "            string_2 = string_2[:i] + string_2[i+1:]\n",
    "        else:\n",
    "            remain += c\n",
    "    return max(len(remain), len(string_2))"
   ]
  },
  {
   "cell_type": "code",
   "execution_count": 18,
   "metadata": {},
   "outputs": [],
   "source": [
    "s1 = 'kitten'\n",
    "s2 = 'sitting'\n",
    "s3 = 'mitten'\n",
    "s4 = 'substitute'\n",
    "s5 = 'statue'"
   ]
  },
  {
   "cell_type": "code",
   "execution_count": 24,
   "metadata": {},
   "outputs": [
    {
     "name": "stdout",
     "output_type": "stream",
     "text": [
      "Two strings 'kitten' and 'sitting' have edit distance of 3\n",
      "Two strings 'kitten' and 'mitten' have edit distance of 1\n",
      "Two strings 'substitute' and 'statue' have edit distance of 5\n"
     ]
    }
   ],
   "source": [
    "print('Two strings \\'{}\\' and \\'{}\\' have edit distance of {}'.format(s1, s2, edit_distance(s1, s2)))\n",
    "print('Two strings \\'{}\\' and \\'{}\\' have edit distance of {}'.format(s1, s3, edit_distance(s1, s3)))\n",
    "print('Two strings \\'{}\\' and \\'{}\\' have edit distance of {}'.format(s4, s5, edit_distance(s4, s5)))"
   ]
  },
  {
   "cell_type": "code",
   "execution_count": null,
   "metadata": {},
   "outputs": [],
   "source": []
  }
 ],
 "metadata": {
  "kernelspec": {
   "display_name": "Python 3",
   "language": "python",
   "name": "python3"
  },
  "language_info": {
   "codemirror_mode": {
    "name": "ipython",
    "version": 3
   },
   "file_extension": ".py",
   "mimetype": "text/x-python",
   "name": "python",
   "nbconvert_exporter": "python",
   "pygments_lexer": "ipython3",
   "version": "3.7.1"
  }
 },
 "nbformat": 4,
 "nbformat_minor": 2
}
