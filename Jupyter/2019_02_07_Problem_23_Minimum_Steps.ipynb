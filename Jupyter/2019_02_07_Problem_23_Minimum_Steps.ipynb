{
 "cells": [
  {
   "cell_type": "markdown",
   "metadata": {},
   "source": [
    "## 2019 February 7th\n",
    "\n",
    "Problem: You are given an M by N matrix consisting of booleans that represents a board. Each True boolean represents a wall. Each False boolean represents a tile you can walk on.\n",
    "\n",
    "Given this matrix, a start coordinate, and an end coordinate, return the minimum number of steps required to reach the end coordinate from the start. If there is no possible path, then return null. You can move up, left, down, and right. You cannot move through walls. You cannot wrap around the edges of the board.\n",
    "\n",
    "For example, given the following board:\n",
    "\n",
    "`[[f, f, f, f],\n",
    "[t, t, f, t],\n",
    "[f, f, f, f],\n",
    "[f, f, f, f]]`\n",
    "\n",
    "and start = (3, 0) (bottom left) and end = (0, 0) (top left), the minimum number of steps required to reach the end is 7, since we would need to go through (1, 2) because there is a wall everywhere else on the second row."
   ]
  },
  {
   "cell_type": "code",
   "execution_count": 172,
   "metadata": {},
   "outputs": [],
   "source": [
    "def mininum_steps(board, start, end):\n",
    "    def possible_step(m, n, start):                       # Sub-function return possible steps\n",
    "        possible = []                                     # It will return a list\n",
    "        i, j = start                                      # Current coordinates\n",
    "        if i - 1 >= 0:                                    # Check whether the adjacent steps are out of\n",
    "            possible.append((i - 1, j))                   # the board\n",
    "        if i + 1 < m:                                     # If not, then record the possible step\n",
    "            possible.append((i + 1, j))\n",
    "        if j - 1 >= 0:\n",
    "            possible.append((i, j -1))\n",
    "        if j + 1 < n:\n",
    "            possible.append((i, j + 1))\n",
    "        return possible\n",
    "    \n",
    "    def minimum(board, start, end, prev):\n",
    "        if start == end:                                  # If we are standing on the end point\n",
    "            return len(prev) - 1, prev                    # Then we don't need to step further\n",
    "                                                          # The prev parameter includes the start also,\n",
    "                                                          # that is why -1 is necessary\n",
    "        m = len(board)                                    # The dimensions of the board is calculated here\n",
    "        n = len(board[0])\n",
    "        possibility = possible_step(m, n, start)          # Calculate the possibility\n",
    "        if end in possibility:                            # If the end point is within the possible moves\n",
    "            return len(prev), prev + [end]                # We only need to step 1 more step\n",
    "        min_nsteps = None\n",
    "        min_steps = None                                  # If it's a normal case, we'll figure out the min\n",
    "        for i, j in possibility:                          # Take the coordinates of each possibility\n",
    "            if board[i][j] == 'f' and (i, j) not in prev: # If no wall and not already stepped on\n",
    "                \n",
    "                \n",
    "                # If next STEPS is possible, take only the final value when it reaches the end,\n",
    "                # means when 1 of the conditions at the beginning is satisfied\n",
    "                if all(minimum(board, (i, j), end, prev + [(i, j)])):\n",
    "                    nsteps, steps = minimum(board, (i, j), end, prev + [(i, j)])\n",
    "                    \n",
    "                    # Then, if this is the first calculation, assign the result to the min_steps\n",
    "                    # Otherwise, compare with the existing min value and make changes if necessary\n",
    "                    if not min_nsteps:\n",
    "                        min_nsteps = nsteps\n",
    "                        min_steps = steps\n",
    "                    elif nsteps < min_nsteps:\n",
    "                        min_nsteps = nsteps\n",
    "                        min_steps = steps\n",
    "        \n",
    "        return min_nsteps, min_steps\n",
    "    previous = [start]                                    # Set the start position in the list\n",
    "    return minimum(board, start, end, previous)"
   ]
  },
  {
   "cell_type": "code",
   "execution_count": 171,
   "metadata": {},
   "outputs": [
    {
     "name": "stdout",
     "output_type": "stream",
     "text": [
      "Given the board:\n",
      "['f', 'f', 'f', 'f']\n",
      "['t', 't', 'f', 't']\n",
      "['f', 'f', 'f', 'f']\n",
      "['f', 'f', 'f', 'f']\n",
      "start from (3, 0) and end at (0, 3)\n"
     ]
    }
   ],
   "source": [
    "board = [['f', 'f', 'f', 'f'], ['t', 't', 'f', 't'], ['f', 'f', 'f', 'f'], ['f', 'f', 'f', 'f']]\n",
    "start = (3, 0)\n",
    "end = (0, 3)\n",
    "print('Given the board:')\n",
    "for row in board:\n",
    "    print(row)\n",
    "print('start from {} and end at {}'.format(start, end))"
   ]
  },
  {
   "cell_type": "code",
   "execution_count": 174,
   "metadata": {},
   "outputs": [
    {
     "name": "stdout",
     "output_type": "stream",
     "text": [
      "Requires 6 step(s) and the steps is/are [(3, 0), (2, 0), (2, 1), (2, 2), (1, 2), (0, 2), (0, 3)]\n"
     ]
    }
   ],
   "source": [
    "n_steps, steps = mininum_steps(board, (3, 0), (0, 3))\n",
    "print('Requires {} step(s) and the steps is/are {}'.format(n_steps, steps))"
   ]
  }
 ],
 "metadata": {
  "kernelspec": {
   "display_name": "Python 3",
   "language": "python",
   "name": "python3"
  },
  "language_info": {
   "codemirror_mode": {
    "name": "ipython",
    "version": 3
   },
   "file_extension": ".py",
   "mimetype": "text/x-python",
   "name": "python",
   "nbconvert_exporter": "python",
   "pygments_lexer": "ipython3",
   "version": "3.7.1"
  }
 },
 "nbformat": 4,
 "nbformat_minor": 2
}
