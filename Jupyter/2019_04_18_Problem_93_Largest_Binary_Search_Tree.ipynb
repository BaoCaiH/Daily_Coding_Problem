{
  "cells": [
    {
      "cell_type": "code",
      "source": [
        "#!/usr/bin/env python\n",
        "# coding: utf-8\n",
        "\"\"\"2019 April 18th - Daily_Coding_Problem #93.\"\"\""
      ],
      "outputs": [],
      "execution_count": null,
      "metadata": {
        "collapsed": false,
        "outputHidden": false,
        "inputHidden": false
      }
    },
    {
      "cell_type": "markdown",
      "source": [
        "## 2019 April 18th - Daily_Coding_Problem #93\n",
        "\n",
        "Problem: Given a tree, find the largest tree/subtree that is a BST.\n",
        "\n",
        "Given a tree, return the size of the largest tree/subtree that is a BST.\n"
      ],
      "metadata": {}
    },
    {
      "cell_type": "code",
      "source": [
        "print('Testing Python on Atom')\n"
      ],
      "outputs": [],
      "execution_count": null,
      "metadata": {
        "collapsed": false,
        "outputHidden": false,
        "inputHidden": false
      }
    },
    {
      "cell_type": "code",
      "source": [
        "\n",
        "\n",
        "class Node:\n",
        "    \"\"\"\n",
        "    This is the class for storing the binary tree.\n",
        "\n",
        "    Each value is stored as a node with value, and left and right nodes.\n",
        "    \"\"\"\n",
        "\n",
        "    def __init__(self, value, left=None, right=None):\n",
        "        \"\"\"Initialize the node.\"\"\"\n",
        "        self.value = value\n",
        "        self.left = left\n",
        "        self.right = right\n",
        "\n",
        "\n",
        "def isBinarySearchTree(node):\n",
        "    \"\"\"Return the validity of a binary tree.\"\"\"\n",
        "    if not node:\n",
        "        return None\n",
        "    value = node.value\n",
        "    if node.left and node.right:\n",
        "        left = isBinarySearchTree(node.left)\n",
        "        right = isBinarySearchTree(node.right)\n",
        "        if left is not None and right is not None:\n",
        "            if left < value and right > value:\n",
        "                return value\n",
        "            else:\n",
        "                return None\n",
        "        else:\n",
        "            return None\n",
        "    elif not node.left and not node.right:\n",
        "        return value\n",
        "    else:\n",
        "        return None\n",
        "\n",
        "\n",
        "def binarySearchTreeSize(node):\n",
        "    \"\"\"Return the size of a binary search tree.\"\"\"\n",
        "    if not node:\n",
        "        return 0\n",
        "    if not node.left and not node.right:\n",
        "        return 0\n",
        "    return 1 + binarySearchTreeSize(node.left) +\\\n",
        "        binarySearchTreeSize(node.right)\n",
        "\n",
        "\n",
        "def largestBinarySearchTree(root, maxSize=0):\n",
        "    \"\"\"Return the largest possible binary tree size.\"\"\"\n",
        "    if not root:\n",
        "        return 0\n",
        "    if isBinarySearchTree(root):\n",
        "        nodeSize = binarySearchTreeSize(root)\n",
        "    else:\n",
        "        nodeSize = 0\n",
        "    maxLeft = largestBinarySearchTree(root.left)\n",
        "    maxRight = largestBinarySearchTree(root.right)\n",
        "\n",
        "    return max([maxSize, nodeSize, maxLeft, maxRight])\n"
      ],
      "outputs": [],
      "execution_count": null,
      "metadata": {
        "collapsed": false,
        "outputHidden": false,
        "inputHidden": false
      }
    },
    {
      "cell_type": "code",
      "source": [
        "\n",
        "\n",
        "nodeB = Node(10, Node(5, Node(3, Node(4), Node(4)),\n",
        "             Node(7, Node(8), Node(8))),\n",
        "             Node(15, Node(13, Node(12), Node(14)),\n",
        "             Node(17, Node(16), Node(18))))\n"
      ],
      "outputs": [],
      "execution_count": null,
      "metadata": {
        "collapsed": false,
        "outputHidden": false,
        "inputHidden": false
      }
    },
    {
      "cell_type": "code",
      "source": [
        "print('Given the binary tree:')\n",
        "print('          10')\n",
        "print('        /   \\\\\\n       /     \\\\\\n      /       \\\\')\n",
        "print('     5         15\\n   /  \\\\      /    \\\\')\n",
        "print('  3    7    13     17')\n",
        "print(' /\\\\   /\\\\    /\\\\     /\\\\\\n4  4 8  8 12  14 16  18')\n"
      ],
      "outputs": [],
      "execution_count": null,
      "metadata": {
        "collapsed": false,
        "outputHidden": false,
        "inputHidden": false
      }
    },
    {
      "cell_type": "code",
      "source": [
        "print('Largest binary search tree size is {}'.\n",
        "      format(largestBinarySearchTree(nodeB)))"
      ],
      "outputs": [],
      "execution_count": null,
      "metadata": {
        "collapsed": false,
        "outputHidden": false,
        "inputHidden": false
      }
    }
  ],
  "metadata": {
    "kernelspec": {
      "argv": [
        "/usr/local/opt/python/bin/python3.7",
        "-m",
        "ipykernel_launcher",
        "-f",
        "{connection_file}"
      ],
      "display_name": "Python 3",
      "language": "python",
      "name": "python3"
    }
  },
  "nbformat": 4,
  "nbformat_minor": 0
}