{
 "cells": [
  {
   "cell_type": "markdown",
   "metadata": {},
   "source": [
    "## 2019 March 2nd\n",
    "\n",
    "Problem: Given a string, find the longest palindromic contiguous substring. If there are more than one with the maximum length, return any one.\n",
    "\n",
    "For example, the longest palindromic substring of \"aabcdcb\" is \"bcdcb\". The longest palindromic substring of \"bananas\" is \"anana\"."
   ]
  },
  {
   "cell_type": "code",
   "execution_count": 49,
   "metadata": {},
   "outputs": [],
   "source": [
    "def longest_palindromic_subs(string):\n",
    "    \n",
    "    # Sub function to return any possible palindrome from a position in the original string\n",
    "    # It will be feed with a character or a position in the original string\n",
    "    # If the either side is used up, just return the given substring\n",
    "    # If the next character on both sides are equal to each other,\n",
    "    # add it to the substring and recurse the function until it is used up\n",
    "    # Or the two sides are no longer similar then also return the substring\n",
    "    def palindromes(sub, front, back):    \n",
    "        if not front or not back:\n",
    "            return sub\n",
    "        \n",
    "        if front[-1] == back[0]:\n",
    "            return palindromes(front[-1] + sub + back[0],\n",
    "                               front[:-1], back[1:])\n",
    "        else:\n",
    "            return sub\n",
    "    \n",
    "    # In the main function\n",
    "    # We need a holder\n",
    "    # Then at each position in the string, run the sub-function twice\n",
    "    # First with the character at the position as the center\n",
    "    # Then with the gap between this character and the previous as the center\n",
    "    # All those will appear in the possible holder\n",
    "    possible_palindromes = []\n",
    "    for i in range(len(string)):\n",
    "        possible_palindromes.append(palindromes(string[i],\n",
    "                                                string[:i],\n",
    "                                                string[i+1:]))\n",
    "        possible_palindromes.append(palindromes('',\n",
    "                                                string[:i],\n",
    "                                                string[i:]))\n",
    "    \n",
    "    # Filter the holder from any None or '' results\n",
    "    possible_palindromes = [palindrome for palindrome in possible_palindromes if palindrome]\n",
    "    \n",
    "    # Find out the max length in the holder\n",
    "    max_length = max(map(len, possible_palindromes))\n",
    "    \n",
    "    # Filter again\n",
    "    possible_palindromes = filter(lambda palindrome: len(palindrome) == max_length, possible_palindromes)\n",
    "    \n",
    "    # Return the lexicographically largest, because why not\n",
    "    return max(possible_palindromes)"
   ]
  },
  {
   "cell_type": "code",
   "execution_count": 2,
   "metadata": {},
   "outputs": [],
   "source": [
    "s1 = 'aabcdcb'\n",
    "s2 = 'bananas'"
   ]
  },
  {
   "cell_type": "code",
   "execution_count": 48,
   "metadata": {},
   "outputs": [
    {
     "name": "stdout",
     "output_type": "stream",
     "text": [
      "Given the two strings 'aabcdcb' and 'bananas'\n",
      "The longest palindromic substrings are 'bcdcb' and 'anana' respectively\n"
     ]
    }
   ],
   "source": [
    "print('Given the two strings \\'{}\\' and \\'{}\\''.format(s1, s2))\n",
    "print('The longest palindromic substrings are \\'{}\\' and \\'{}\\' respectively'.format(longest_palindromic_subs(s1), longest_palindromic_subs(s2)))"
   ]
  }
 ],
 "metadata": {
  "kernelspec": {
   "display_name": "Python 3",
   "language": "python",
   "name": "python3"
  },
  "language_info": {
   "codemirror_mode": {
    "name": "ipython",
    "version": 3
   },
   "file_extension": ".py",
   "mimetype": "text/x-python",
   "name": "python",
   "nbconvert_exporter": "python",
   "pygments_lexer": "ipython3",
   "version": "3.7.1"
  }
 },
 "nbformat": 4,
 "nbformat_minor": 2
}
