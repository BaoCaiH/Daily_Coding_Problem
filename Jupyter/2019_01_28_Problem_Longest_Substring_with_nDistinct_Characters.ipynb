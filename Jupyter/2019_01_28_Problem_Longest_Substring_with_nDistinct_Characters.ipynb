{
 "cells": [
  {
   "cell_type": "markdown",
   "metadata": {},
   "source": [
    "## 2019 January 28th\n",
    "\n",
    "Problem: Given an integer k and a string s, find the length of the longest substring that contains at most k distinct characters.\n",
    "\n",
    "For example, given s = \"abcba\" and k = 2, the longest substring with k distinct characters is \"bcb\"."
   ]
  },
  {
   "cell_type": "code",
   "execution_count": 32,
   "metadata": {},
   "outputs": [],
   "source": [
    "s = 'aaabcbccatr'\n",
    "k = 2"
   ]
  },
  {
   "cell_type": "code",
   "execution_count": 27,
   "metadata": {},
   "outputs": [],
   "source": [
    "def longest_substring(s, k):\n",
    "    def unique_characters(string):             # A separate function to count the number of unique character\n",
    "        nunique = []                           # This list is to store the unique characters\n",
    "        for s in string:\n",
    "            if s not in nunique:               # If not already exist in list, then append\n",
    "                nunique.append(s)\n",
    "        return len(nunique)\n",
    "    def iterate_string(string):                # Go over the string\n",
    "        subs = []                              # A list to store the current char which fits the k distinct\n",
    "        longest_subs = []                      # A list to store the longest set of chars with k distinct\n",
    "        for char in string:\n",
    "            subs.append(char)                  # Add the new char into the holder\n",
    "            while unique_characters(subs) > k: # Then delete the pre-char until it fits the k distinct\n",
    "                subs = subs[1:]\n",
    "            if len(subs) > len(longest_subs):  # If the current holder is longer than the current longest\n",
    "                longest_subs = subs.copy()     # Change\n",
    "        return ''.join(longest_subs)           # Join the characters\n",
    "    return iterate_string(s)"
   ]
  },
  {
   "cell_type": "code",
   "execution_count": 33,
   "metadata": {},
   "outputs": [
    {
     "name": "stdout",
     "output_type": "stream",
     "text": [
      "The initial string is 'aaabcbccatr' and with '2' distinct characters, and the longest substring is 'bcbcc'\n"
     ]
    }
   ],
   "source": [
    "print('The initial string is \\'{}\\' and with \\'{}\\' distinct characters, and the longest substring is \\'{}\\''.format(s, k, longest_substring(s, k)))"
   ]
  },
  {
   "cell_type": "code",
   "execution_count": 34,
   "metadata": {},
   "outputs": [
    {
     "name": "stdout",
     "output_type": "stream",
     "text": [
      "Give your own string: jdlsoskskjwmd\n",
      "Give your own number of distinct characters: 4\n",
      "The longest substring is lsosksk\n"
     ]
    }
   ],
   "source": [
    "s = input('Give your own string: ')\n",
    "k = int(input('Give your own number of distinct characters: '))\n",
    "print('The longest substring is {}'.format(longest_substring(s, k)))"
   ]
  }
 ],
 "metadata": {
  "kernelspec": {
   "display_name": "Python 3",
   "language": "python",
   "name": "python3"
  },
  "language_info": {
   "codemirror_mode": {
    "name": "ipython",
    "version": 3
   },
   "file_extension": ".py",
   "mimetype": "text/x-python",
   "name": "python",
   "nbconvert_exporter": "python",
   "pygments_lexer": "ipython3",
   "version": "3.7.1"
  }
 },
 "nbformat": 4,
 "nbformat_minor": 2
}
