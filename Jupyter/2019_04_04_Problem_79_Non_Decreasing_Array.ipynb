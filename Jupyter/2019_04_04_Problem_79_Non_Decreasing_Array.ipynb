{
 "cells": [
  {
   "cell_type": "markdown",
   "metadata": {},
   "source": [
    "## 2019 April 4th\n",
    "\n",
    "Problem: Given an array of integers, write a function to determine whether the array could become non-decreasing by modifying at most 1 element.\n",
    "\n",
    "For example, given the array [10, 5, 7], you should return true, since we can modify the 10 into a 1 to make the array non-decreasing.\n",
    "\n",
    "Given the array [10, 5, 1], you should return false, since we can't modify any one element to get a non-decreasing array."
   ]
  },
  {
   "cell_type": "code",
   "execution_count": 2,
   "metadata": {},
   "outputs": [],
   "source": [
    "def non_decreasing(array):                          #\n",
    "    if len(array) <= 2:                             # If there are 2 or less element, it is naturally descending\n",
    "        return True                                 # Or changable, because, you know...\n",
    "    holder = []                                     #\n",
    "    counter = 0                                     # Counter for the \"tipping point\"\n",
    "    for e in array:                                 # Search each element\n",
    "        holder.append(e)                            # Put it in the holder\n",
    "        if len(holder) == 2:                        # From the second element\n",
    "            if holder[-1] <= holder[-2]:            # If the trend is decreasing at this point\n",
    "                counter += 1                        # Add 1 to the counter\n",
    "        elif len(holder) >= 3:                      # From the third\n",
    "            if holder[-1] <= holder[-2]:            # If it's still decreasing\n",
    "                if holder[-1] - holder[-3] >= 2:    # and if current element is at least 2 unit larger than the\n",
    "                    counter += 1                    # third last element, then add 1 to the counter\n",
    "                else:                               # But if not\n",
    "                    return False                    # Then it is not changable\n",
    "        if counter > 1:                             # After each element, if the counter is more than 1\n",
    "            return False                            # Return False\n",
    "    return True                                     # After all, return True"
   ]
  },
  {
   "cell_type": "code",
   "execution_count": 6,
   "metadata": {},
   "outputs": [],
   "source": [
    "l1 = [10, 5, 7]\n",
    "l2 = [10, 5, 1]\n",
    "l3 = [10, 5, 7, 9, 10, 11, 14]\n",
    "l4 = [10, 5, 7, 9, 6, 12, 14]\n",
    "l5 = [1, 3, 5, 10, 7, 9, 11]"
   ]
  },
  {
   "cell_type": "code",
   "execution_count": 16,
   "metadata": {},
   "outputs": [
    {
     "name": "stdout",
     "output_type": "stream",
     "text": [
      "Given 5 different array: [10, 5, 7]\n",
      "                         [10, 5, 1]\n",
      "                         [10, 5, 7, 9, 10, 11, 14]\n",
      "                         [10, 5, 7, 9, 6, 12, 14]\n",
      "                         [1, 3, 5, 10, 7, 9, 11]\n"
     ]
    }
   ],
   "source": [
    "print('Given 5 different array: {}'.format(l1))\n",
    "print('                         {}'.format(l2))\n",
    "print('                         {}'.format(l3))\n",
    "print('                         {}'.format(l4))\n",
    "print('                         {}'.format(l5))"
   ]
  },
  {
   "cell_type": "code",
   "execution_count": 18,
   "metadata": {},
   "outputs": [
    {
     "name": "stdout",
     "output_type": "stream",
     "text": [
      "The results are True, False, True, False and True respectively to whether the arrays can become non-decreasing\n"
     ]
    }
   ],
   "source": [
    "print('The results are {}, {}, {}, {} and {} respectively to whether the arrays can become non-decreasing'.format(\n",
    "non_decreasing(l1), non_decreasing(l2), non_decreasing(l3), non_decreasing(l4), non_decreasing(l5)))"
   ]
  }
 ],
 "metadata": {
  "kernelspec": {
   "display_name": "Python 3",
   "language": "python",
   "name": "python3"
  },
  "language_info": {
   "codemirror_mode": {
    "name": "ipython",
    "version": 3
   },
   "file_extension": ".py",
   "mimetype": "text/x-python",
   "name": "python",
   "nbconvert_exporter": "python",
   "pygments_lexer": "ipython3",
   "version": "3.7.1"
  }
 },
 "nbformat": 4,
 "nbformat_minor": 2
}
