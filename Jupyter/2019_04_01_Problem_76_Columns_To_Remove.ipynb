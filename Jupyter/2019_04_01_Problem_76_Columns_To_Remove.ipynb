{
 "cells": [
  {
   "cell_type": "markdown",
   "metadata": {},
   "source": [
    "## 2019 April 1st\n",
    "\n",
    "Problem: You are given an N by M 2D matrix of lowercase letters. Determine the minimum number of columns that can be removed to ensure that each row is ordered from top to bottom lexicographically. That is, the letter at each column is lexicographically later as you go down each row. It does not matter whether each row itself is ordered lexicographically.\n",
    "\n",
    "For example, given the following table:\n",
    "\n",
    "cba<br>\n",
    "daf<br>\n",
    "ghi\n",
    "\n",
    "This is not ordered because of the a in the center. We can remove the second column to make it ordered:\n",
    "\n",
    "ca<br>\n",
    "df<br>\n",
    "gi\n",
    "\n",
    "So your function should return 1, since we only needed to remove 1 column.\n",
    "\n",
    "As another example, given the following table:\n",
    "\n",
    "abcdef\n",
    "\n",
    "Your function should return 0, since the rows are already ordered (there's only one row).\n",
    "\n",
    "As another example, given the following table:\n",
    "\n",
    "zyx<br>\n",
    "wvu<br>\n",
    "tsr\n",
    "\n",
    "Your function should return 3, since we would need to remove all the columns to order it."
   ]
  },
  {
   "cell_type": "code",
   "execution_count": 5,
   "metadata": {},
   "outputs": [],
   "source": [
    "def columnsToRemove(lst):                   #\n",
    "    length = len(lst)                       #\n",
    "    if length <= 1:                         # If there is only 1 row, it is already lexicography ordered\n",
    "        return 0                            #\n",
    "    columnIndexes = []                      #\n",
    "    for col in range(len(lst[0])):          # Search by column\n",
    "        ref = ''                            # '' is always the smallest lexicography element\n",
    "        for row in range(length):           # Then move row by row\n",
    "            if lst[row][col] > ref:         # If the current element is larger than the previous element\n",
    "                ref = lst[row][col]         # Move on\n",
    "            else:                           # Otherwise\n",
    "                columnIndexes.append(col)   # Add the column index to the list\n",
    "                break                       # Break the second loop\n",
    "    return len(columnIndexes)               # Return the length of the list"
   ]
  },
  {
   "cell_type": "code",
   "execution_count": 1,
   "metadata": {},
   "outputs": [],
   "source": [
    "l1 = ['cba', 'daf', 'ghi']\n",
    "l2 = ['abcdef']\n",
    "l3 = ['zyx', 'wvu', 'tsr']"
   ]
  },
  {
   "cell_type": "code",
   "execution_count": 13,
   "metadata": {},
   "outputs": [
    {
     "name": "stdout",
     "output_type": "stream",
     "text": [
      "Given the 3 matrix:\n",
      "cba\n",
      "daf\n",
      "ghi\n",
      "\n",
      "abcdef\n",
      "\n",
      "zyx\n",
      "wvu\n",
      "tsr\n",
      "\n"
     ]
    }
   ],
   "source": [
    "print('Given the 3 matrix:')\n",
    "for r in l1:\n",
    "    print(r)\n",
    "print('')\n",
    "for r in l2:\n",
    "    print(r)\n",
    "print('')\n",
    "for r in l3:\n",
    "    print(r)\n",
    "print('')"
   ]
  },
  {
   "cell_type": "code",
   "execution_count": 14,
   "metadata": {},
   "outputs": [
    {
     "name": "stdout",
     "output_type": "stream",
     "text": [
      "The number of columns to remove for each matrix respectively are 1, 0 and 3\n"
     ]
    }
   ],
   "source": [
    "print('The number of columns to remove for each matrix respectively are {}, {} and {}'.format(\n",
    "columnsToRemove(l1), columnsToRemove(l2), columnsToRemove(l3)))"
   ]
  }
 ],
 "metadata": {
  "kernelspec": {
   "display_name": "Python 3",
   "language": "python",
   "name": "python3"
  },
  "language_info": {
   "codemirror_mode": {
    "name": "ipython",
    "version": 3
   },
   "file_extension": ".py",
   "mimetype": "text/x-python",
   "name": "python",
   "nbconvert_exporter": "python",
   "pygments_lexer": "ipython3",
   "version": "3.7.1"
  }
 },
 "nbformat": 4,
 "nbformat_minor": 2
}
