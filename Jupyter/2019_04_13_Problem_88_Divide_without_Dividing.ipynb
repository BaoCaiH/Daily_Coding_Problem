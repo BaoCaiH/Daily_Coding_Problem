{
 "cells": [
  {
   "cell_type": "markdown",
   "metadata": {},
   "source": [
    "## 2019 April 13th\n",
    "\n",
    "Problem: Implement division of two positive integers without using the division, multiplication, or modulus operators. Return the quotient as an integer, ignoring the remainder."
   ]
  },
  {
   "cell_type": "code",
   "execution_count": 7,
   "metadata": {},
   "outputs": [],
   "source": [
    "def aDivB(a, b):\n",
    "    quo = 0\n",
    "    while a >= b:\n",
    "        quo += 1\n",
    "        a -= b\n",
    "    return quo, a"
   ]
  },
  {
   "cell_type": "code",
   "execution_count": 8,
   "metadata": {},
   "outputs": [
    {
     "name": "stdout",
     "output_type": "stream",
     "text": [
      "a is 22\n",
      "b is 7\n",
      "22 divided by 7 is 3 with 1 remainder\n"
     ]
    }
   ],
   "source": [
    "a = int(input('a is '))\n",
    "b = int(input('b is '))\n",
    "quo, rem = aDivB(a, b)\n",
    "print('{} divided by {} is {} with {} remainder'.format(a, b, quo, rem))"
   ]
  }
 ],
 "metadata": {
  "kernelspec": {
   "display_name": "Python 3",
   "language": "python",
   "name": "python3"
  },
  "language_info": {
   "codemirror_mode": {
    "name": "ipython",
    "version": 3
   },
   "file_extension": ".py",
   "mimetype": "text/x-python",
   "name": "python",
   "nbconvert_exporter": "python",
   "pygments_lexer": "ipython3",
   "version": "3.7.3"
  }
 },
 "nbformat": 4,
 "nbformat_minor": 2
}
