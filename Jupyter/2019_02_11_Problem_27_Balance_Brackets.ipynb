{
 "cells": [
  {
   "cell_type": "markdown",
   "metadata": {},
   "source": [
    "## 2019 February 11th\n",
    "\n",
    "Problem: Given a string of round, curly, and square open and closing brackets, return whether the brackets are balanced (well-formed).\n",
    "\n",
    "For example, given the string \"([])\\[\\]({})\", you should return true.\n",
    "\n",
    "Given the string \"([)]\" or \"((()\", you should return false."
   ]
  },
  {
   "cell_type": "code",
   "execution_count": 18,
   "metadata": {},
   "outputs": [],
   "source": [
    "def is_balance(brackets):\n",
    "    string = brackets\n",
    "    while string:\n",
    "        original_length = len(string)\n",
    "        for i in range(original_length - 1):\n",
    "            if string[i:i+2] in ['()', '[]', '{}']:\n",
    "                string = string[:i] + string[i+2:]\n",
    "                break\n",
    "        if len(string) == original_length:\n",
    "            return False\n",
    "    return True"
   ]
  },
  {
   "cell_type": "code",
   "execution_count": 24,
   "metadata": {},
   "outputs": [],
   "source": [
    "s1 = '()'\n",
    "s2 = '([])[]({})'\n",
    "s3 = \"([)]\"\n",
    "s4 = \"((()\""
   ]
  },
  {
   "cell_type": "code",
   "execution_count": 27,
   "metadata": {},
   "outputs": [
    {
     "name": "stdout",
     "output_type": "stream",
     "text": [
      "Given the 4 bracket sets: '()', '([])[]({})', '([)]' and '((()'\n",
      "The results are as follow: True, True, False and False\n"
     ]
    }
   ],
   "source": [
    "print('Given the 4 bracket sets: \\'{}\\', \\'{}\\', \\'{}\\' and \\'{}\\''.format(s1, s2, s3, s4))\n",
    "print('The results are as follow: {}, {}, {} and {}'.format(is_balance(s1), is_balance(s2), is_balance(s3), is_balance(s4)))"
   ]
  }
 ],
 "metadata": {
  "kernelspec": {
   "display_name": "Python 3",
   "language": "python",
   "name": "python3"
  },
  "language_info": {
   "codemirror_mode": {
    "name": "ipython",
    "version": 3
   },
   "file_extension": ".py",
   "mimetype": "text/x-python",
   "name": "python",
   "nbconvert_exporter": "python",
   "pygments_lexer": "ipython3",
   "version": "3.7.1"
  }
 },
 "nbformat": 4,
 "nbformat_minor": 2
}
