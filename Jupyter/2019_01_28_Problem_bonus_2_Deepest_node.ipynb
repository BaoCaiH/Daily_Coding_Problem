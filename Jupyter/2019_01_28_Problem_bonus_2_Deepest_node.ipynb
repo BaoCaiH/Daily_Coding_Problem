{
 "cells": [
  {
   "cell_type": "markdown",
   "metadata": {},
   "source": [
    "## 2019 January 28th - bonus\n",
    "\n",
    "Problem: Given the root to a binary tree, return the deepest node."
   ]
  },
  {
   "cell_type": "code",
   "execution_count": 1,
   "metadata": {},
   "outputs": [],
   "source": [
    "class Node:\n",
    "    def __init__(self, value, left = None, right = None):\n",
    "        self.value = value\n",
    "        self.left = left\n",
    "        self.right = right"
   ]
  },
  {
   "cell_type": "code",
   "execution_count": 118,
   "metadata": {},
   "outputs": [],
   "source": [
    "node_a = Node('a', Node('a', Node('a', Node('a'))), Node('a', Node('a'), Node('a', Node('a', Node('b')), Node('a'))))"
   ]
  },
  {
   "cell_type": "code",
   "execution_count": 114,
   "metadata": {},
   "outputs": [],
   "source": [
    "def deepest_node(root):\n",
    "    def node_max(node, layer = None):\n",
    "        if layer is None:\n",
    "            layer = 1\n",
    "        if node is not None:\n",
    "            return max(layer,                                   # Compare all the layers to find the max layer\n",
    "                       node_max(node.left, layer + 1),\n",
    "                       node_max(node.right, layer + 1))\n",
    "        else:\n",
    "            return 0\n",
    "    max_node = node_max(root)\n",
    "    print(max_node)\n",
    "    def call_deepest(node, side = '', layer = None):\n",
    "        if layer is None:\n",
    "            layer = 1\n",
    "        if node is not None:\n",
    "            deep.append((str(node.value), side, layer))         # Write all the value, position and layer into a list of tuples\n",
    "            call_deepest(node.left, side + '.left', layer + 1)  # and repeat until finish\n",
    "            call_deepest(node.right, side + '.right', layer + 1)\n",
    "    deep = []\n",
    "    call_deepest(root)\n",
    "    for tup in deep:\n",
    "        if tup[2] == max_node:                                  # Take out the max one\n",
    "            return tup"
   ]
  },
  {
   "cell_type": "code",
   "execution_count": 119,
   "metadata": {},
   "outputs": [
    {
     "name": "stdout",
     "output_type": "stream",
     "text": [
      "5\n"
     ]
    }
   ],
   "source": [
    "a, b, c = deepest_node(node_a)"
   ]
  },
  {
   "cell_type": "code",
   "execution_count": 123,
   "metadata": {},
   "outputs": [
    {
     "name": "stdout",
     "output_type": "stream",
     "text": [
      "Given the tree below\n",
      "     a\n",
      "    / \\\n",
      "   a   a\n",
      "  /   / \\\n",
      " a   a   a\n",
      "    /   / \\\n",
      "   a   a   a\n",
      "      /\n",
      "     b\n",
      "The deepest node has the value 'b' at layer number .right.right.left.left at the position 5\n"
     ]
    }
   ],
   "source": [
    "print('Given the tree below')\n",
    "print('     a\\n    / \\\\\\n   a   a\\n  /   / \\\\\\n a   a   a\\n    /   / \\\\\\n   a   a   a\\n      /\\n     b')\n",
    "print('The deepest node has the value \\'{}\\' at layer number {} at the position {}'.format(a, b, c))"
   ]
  }
 ],
 "metadata": {
  "kernelspec": {
   "display_name": "Python 3",
   "language": "python",
   "name": "python3"
  },
  "language_info": {
   "codemirror_mode": {
    "name": "ipython",
    "version": 3
   },
   "file_extension": ".py",
   "mimetype": "text/x-python",
   "name": "python",
   "nbconvert_exporter": "python",
   "pygments_lexer": "ipython3",
   "version": "3.7.1"
  }
 },
 "nbformat": 4,
 "nbformat_minor": 2
}
