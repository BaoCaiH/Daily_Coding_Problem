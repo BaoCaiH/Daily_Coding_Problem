{
 "cells": [
  {
   "cell_type": "markdown",
   "metadata": {},
   "source": [
    "## 2019 January 23rd\n",
    "\n",
    "Problem: A unival tree (which stands for \"universal value\") is a tree where all nodes under it have the same value.\n",
    "\n",
    "Given the root to a binary tree, count the number of unival subtrees.\n",
    "\n",
    "For example, the following tree has 5 unival subtrees (at all the 1 and the 0):\n",
    "\n",
    "`> 0\n",
    "  / \\\n",
    " 1   0\n",
    "    / \\\n",
    "   1   0\n",
    "  / \\\n",
    " 1   1`"
   ]
  },
  {
   "cell_type": "code",
   "execution_count": 49,
   "metadata": {},
   "outputs": [],
   "source": [
    "class Node:\n",
    "    def __init__(self, val, left = None, right = None):\n",
    "        self.val = val\n",
    "        self.left = left\n",
    "        self.right = right"
   ]
  },
  {
   "cell_type": "code",
   "execution_count": 134,
   "metadata": {},
   "outputs": [],
   "source": [
    "tree_1 = Node(0, Node(1), Node(0, Node(1, Node(1), Node(1)), Node(0)))\n",
    "tree_2 = Node('a', Node('c'), Node('b', Node('b'), Node('b', right = Node('b'))))\n",
    "tree_3 = Node('a', Node('a'), Node('a', Node('a'), Node('a', right = Node('A'))))"
   ]
  },
  {
   "cell_type": "code",
   "execution_count": 198,
   "metadata": {},
   "outputs": [],
   "source": [
    "def unival_counter(tree):\n",
    "    # First turn each node in the tree into indicators, whether it is a root of a unival tree or not\n",
    "    def is_unival_node(node):\n",
    "        # Only when the node exist\n",
    "        if node is not None:\n",
    "            # If the node does not have any leaf, it is unival\n",
    "            if node.left == None and node.right == None:\n",
    "                return Node(1)\n",
    "            # If it has both leaves\n",
    "            elif node.left is not None and node.right is not None:\n",
    "                # If they are equal to each other\n",
    "                if node.left.val == node.right.val == node.val:\n",
    "                    # Hold it, we still need to check its leaves\n",
    "                    # If the leaves are also unival 1 * 1 = 1 then it is unival\n",
    "                    # If either leaves are not, then 0 * anything = 0, not unival\n",
    "                    return Node(compare_value(node.left).val * compare_value(node.right).val, compare_value(node.left), compare_value(node.right))\n",
    "                \n",
    "                # Not equal? Nothing else to say, just 0\n",
    "                else:\n",
    "                    return Node(0, compare_value(node.left), compare_value(node.right))\n",
    "            # Similar to the both leaves case, but now one does not exist\n",
    "            # So the value of the node is either 0 or equal to the value of the existing leaf\n",
    "            elif node.left is None and node.right is not None:\n",
    "                if node.val != node.right.val:\n",
    "                    return Node(0, right =  compare_value(node.right))\n",
    "                else:\n",
    "                    return Node(compare_value(node.right).val, right =  compare_value(node.right))\n",
    "            # Same as above\n",
    "            elif node.right is None and node.left is not None:\n",
    "                if node.val != node.left.val:\n",
    "                    return Node(0, left = compare_value(node.left))\n",
    "                else:\n",
    "                    return Node(compare_value(node.left).val, left = compare_value(node.left))\n",
    "\n",
    "    def counter(node):\n",
    "        # This is the simple step\n",
    "        # Just sum up everything\n",
    "        count = 0\n",
    "        if node is not None:\n",
    "            count += node.val + counter(node.left) + counter(node.right)\n",
    "        return count\n",
    "    \n",
    "    return counter(is_unival_node(tree))"
   ]
  },
  {
   "cell_type": "code",
   "execution_count": 197,
   "metadata": {},
   "outputs": [
    {
     "name": "stdout",
     "output_type": "stream",
     "text": [
      "Given the first tree below:\n",
      ">  0\n",
      "  / \\\n",
      " 1   0\n",
      "    / \\\n",
      "   1   0\n",
      "  / \\\n",
      " 1   1\n",
      "There are 5 unival tree in here\n"
     ]
    }
   ],
   "source": [
    "print('Given the first tree below:')\n",
    "print('>  0\\n  / \\\\\\n 1   0\\n    / \\\\\\n   1   0\\n  / \\\\\\n 1   1')\n",
    "print('There are {} unival tree in here'.format(unival_counter(tree_1)))"
   ]
  },
  {
   "cell_type": "code",
   "execution_count": 195,
   "metadata": {},
   "outputs": [
    {
     "name": "stdout",
     "output_type": "stream",
     "text": [
      "Given anoter tree below:\n",
      ">  a\n",
      "  / \\\n",
      " c   b\n",
      "    / \\\n",
      "   b   b\n",
      "        \\\n",
      "         b\n",
      "There are 5 unival trees in here\n"
     ]
    }
   ],
   "source": [
    "print('Given another tree below:')\n",
    "print('>  a\\n  / \\\\\\n c   b\\n    / \\\\\\n   b   b\\n        \\\\\\n         b')\n",
    "print('There are {} unival trees in here'.format(unival_counter(tree_2)))"
   ]
  },
  {
   "cell_type": "code",
   "execution_count": 196,
   "metadata": {},
   "outputs": [
    {
     "name": "stdout",
     "output_type": "stream",
     "text": [
      "Given yet another tree below:\n",
      ">  a\n",
      "  / \\\n",
      " a   a\n",
      "    / \\\n",
      "   a   a\n",
      "        \\\n",
      "         A\n",
      "There are 3 unival trees in here\n"
     ]
    }
   ],
   "source": [
    "print('Given yet another tree below:')\n",
    "print('>  a\\n  / \\\\\\n a   a\\n    / \\\\\\n   a   a\\n        \\\\\\n         A')\n",
    "print('There are {} unival trees in here'.format(unival_counter(tree_3)))"
   ]
  }
 ],
 "metadata": {
  "kernelspec": {
   "display_name": "Python 3",
   "language": "python",
   "name": "python3"
  },
  "language_info": {
   "codemirror_mode": {
    "name": "ipython",
    "version": 3
   },
   "file_extension": ".py",
   "mimetype": "text/x-python",
   "name": "python",
   "nbconvert_exporter": "python",
   "pygments_lexer": "ipython3",
   "version": "3.7.1"
  }
 },
 "nbformat": 4,
 "nbformat_minor": 2
}
