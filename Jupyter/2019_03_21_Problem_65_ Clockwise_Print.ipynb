{
 "cells": [
  {
   "cell_type": "markdown",
   "metadata": {},
   "source": [
    "## 2019 March 21st\n",
    "\n",
    "Problem: Given a N by M matrix of numbers, print out the matrix in a clockwise spiral.\n",
    "\n",
    "For example, given the following matrix:\n",
    "\n",
    "`[[1,  2,  3,  4,  5],\n",
    " [6,  7,  8,  9,  10],\n",
    " [11, 12, 13, 14, 15],\n",
    " [16, 17, 18, 19, 20]]`\n",
    " \n",
    "You should print out the following:\n",
    "\n",
    "1<br>\n",
    "2<br>\n",
    "3<br>\n",
    "4<br>\n",
    "5<br>\n",
    "10<br>\n",
    "15<br>\n",
    "20<br>\n",
    "19<br>\n",
    "18<br>\n",
    "17<br>\n",
    "16<br>\n",
    "11<br>\n",
    "6<br>\n",
    "7<br>\n",
    "8<br>\n",
    "9<br>\n",
    "14<br>\n",
    "13<br>\n",
    "12"
   ]
  },
  {
   "cell_type": "code",
   "execution_count": 69,
   "metadata": {},
   "outputs": [],
   "source": [
    "def clockwise_print(matrix):                    #\n",
    "    n = len(matrix)                             # n_row\n",
    "    m = len(matrix[0])                          # n_col\n",
    "    x = 0                                       # col counter\n",
    "    y = 0                                       # row counter\n",
    "    while y < n and x < m:                      # While the counters are less than the actual row and col\n",
    "        for i in range(x, m):                   # Print top row\n",
    "            print(matrix[y][i], end = ' ')      #\n",
    "        y += 1                                  #\n",
    "                                                #\n",
    "        for i in range(y, n):                   # Print last column\n",
    "            print(matrix[i][m - 1], end = ' ')  #\n",
    "        m -= 1                                  #\n",
    "                                                #\n",
    "        for i in range(m - 1, x - 1, -1):       # Print last row backward\n",
    "            print(matrix[n - 1][i], end = ' ')  #\n",
    "        n -= 1                                  #\n",
    "                                                #\n",
    "        for i in range(n - 1, y - 1, -1):       # Print first column backward\n",
    "            print(matrix[i][x], end = ' ')      #\n",
    "        x += 1                                  #"
   ]
  },
  {
   "cell_type": "code",
   "execution_count": 70,
   "metadata": {},
   "outputs": [],
   "source": [
    "m = [[1,  2,  3,  4,  5],\n",
    "     [6,  7,  8,  9,  10],\n",
    "     [11, 12, 13, 14, 15],\n",
    "     [16, 17, 18, 19, 20],\n",
    "     [21, 22, 23, 24, 25],\n",
    "     [26, 27, 28, 29, 30]]"
   ]
  },
  {
   "cell_type": "code",
   "execution_count": 74,
   "metadata": {},
   "outputs": [
    {
     "name": "stdout",
     "output_type": "stream",
     "text": [
      "Given the matrix:\n",
      "[1, 2, 3, 4, 5]\n",
      "[6, 7, 8, 9, 10]\n",
      "[11, 12, 13, 14, 15]\n",
      "[16, 17, 18, 19, 20]\n",
      "[21, 22, 23, 24, 25]\n",
      "[26, 27, 28, 29, 30]\n",
      "And this is the clockwise printing:\n",
      "1 2 3 4 5 10 15 20 25 30 29 28 27 26 21 16 11 6 7 8 9 14 19 24 23 22 17 12 13 18 "
     ]
    }
   ],
   "source": [
    "print('Given the matrix:')\n",
    "for row in m:\n",
    "    print(row)\n",
    "print('And this is the clockwise printing:')\n",
    "clockwise_print(m)"
   ]
  }
 ],
 "metadata": {
  "kernelspec": {
   "display_name": "Python 3",
   "language": "python",
   "name": "python3"
  },
  "language_info": {
   "codemirror_mode": {
    "name": "ipython",
    "version": 3
   },
   "file_extension": ".py",
   "mimetype": "text/x-python",
   "name": "python",
   "nbconvert_exporter": "python",
   "pygments_lexer": "ipython3",
   "version": "3.7.1"
  }
 },
 "nbformat": 4,
 "nbformat_minor": 2
}
