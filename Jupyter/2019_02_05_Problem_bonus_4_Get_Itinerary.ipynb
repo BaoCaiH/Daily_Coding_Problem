{
 "cells": [
  {
   "cell_type": "markdown",
   "metadata": {},
   "source": [
    "## 2019 February 5th\n",
    "\n",
    "Problem: Given an unordered list of flights taken by someone, each represented as (origin, destination) pairs, and a starting airport, compute the person's itinerary. If no such itinerary exists, return null. All flights must be used in the itinerary.\n",
    "\n",
    "For example, given the following list of flights:\n",
    "\n",
    "HNL ➔ AKL\n",
    "\n",
    "YUL ➔ ORD\n",
    "\n",
    "ORD ➔ SFO\n",
    "\n",
    "SFO ➔ HNL\n",
    "\n",
    "and starting airport YUL, you should return YUL ➔ ORD ➔ SFO ➔ HNL ➔ AKL."
   ]
  },
  {
   "cell_type": "code",
   "execution_count": 1,
   "metadata": {},
   "outputs": [
    {
     "name": "stdout",
     "output_type": "stream",
     "text": [
      "[['HNL', 'AKL'], ['YUL', 'ORD'], ['ORD', 'SFO'], ['SFO', 'HNL']]\n"
     ]
    }
   ],
   "source": [
    "flight = [['HNL', 'AKL'], ['YUL', 'ORD'], ['ORD', 'SFO'], ['SFO', 'HNL']]\n",
    "print(flight)"
   ]
  },
  {
   "cell_type": "code",
   "execution_count": 2,
   "metadata": {},
   "outputs": [],
   "source": [
    "def get_itinerary(flights, start):\n",
    "    def itinerary(flights, start):                          # Sub-function just to get the destination code\n",
    "        for i, (origin, destination) in enumerate(flights): # Loop through the list\n",
    "            if origin == start:                             # If the origin matches the assigned start\n",
    "                return i, destination                       # Return index to pop the list\n",
    "    flights = flights.copy()                                # So it won't affect the original list\n",
    "    itinerary_list = [start]                                # First element will be the known start\n",
    "    while len(flights) > 0:                                 # Until the list is empty\n",
    "        i, start = itinerary(flights, start)                # Run the sub-function\n",
    "        itinerary_list.append(start)                        # Put new destination in the list\n",
    "        flights.pop(i)                                      # Remove the flight\n",
    "    return itinerary_list"
   ]
  },
  {
   "cell_type": "code",
   "execution_count": 3,
   "metadata": {},
   "outputs": [
    {
     "data": {
      "text/plain": [
       "['YUL', 'ORD', 'SFO', 'HNL', 'AKL']"
      ]
     },
     "execution_count": 3,
     "metadata": {},
     "output_type": "execute_result"
    }
   ],
   "source": [
    "get_itinerary(flight, 'YUL')"
   ]
  },
  {
   "cell_type": "code",
   "execution_count": 4,
   "metadata": {},
   "outputs": [],
   "source": [
    "def get_itinerary(flights, start):\n",
    "    if len(flights) == 1:                                   # If there is only 1 flight left\n",
    "        return flights[0]                                   # Obviously we know the origin and destination\n",
    "    flights = flights.copy()                                # So it won't affect the original list\n",
    "    itinerary = [start]                                     # First element will be the known start\n",
    "    for i, (origin, destination) in enumerate(flights):     # Loop through the list\n",
    "        if origin == start:                                 # If the origin matches the assigned start\n",
    "            start = destination                             # Assign a new start\n",
    "            flights.pop(i)                                  # Remove the flight\n",
    "            itinerary.extend(get_itinerary(flights, start)) # Rerun the function and extend will add the list\n",
    "    return itinerary                                        # to the original list, ignoring brackets"
   ]
  },
  {
   "cell_type": "code",
   "execution_count": 5,
   "metadata": {},
   "outputs": [
    {
     "data": {
      "text/plain": [
       "['YUL', 'ORD', 'SFO', 'HNL', 'AKL']"
      ]
     },
     "execution_count": 5,
     "metadata": {},
     "output_type": "execute_result"
    }
   ],
   "source": [
    "get_itinerary(flight, 'YUL')"
   ]
  }
 ],
 "metadata": {
  "kernelspec": {
   "display_name": "Python 3",
   "language": "python",
   "name": "python3"
  },
  "language_info": {
   "codemirror_mode": {
    "name": "ipython",
    "version": 3
   },
   "file_extension": ".py",
   "mimetype": "text/x-python",
   "name": "python",
   "nbconvert_exporter": "python",
   "pygments_lexer": "ipython3",
   "version": "3.7.1"
  }
 },
 "nbformat": 4,
 "nbformat_minor": 2
}
