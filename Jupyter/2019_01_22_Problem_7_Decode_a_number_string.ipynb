{
 "cells": [
  {
   "cell_type": "markdown",
   "metadata": {},
   "source": [
    "## 2019 January 22nd\n",
    "\n",
    "Problem: Given the mapping a = 1, b = 2, ... z = 26, and an encoded message, count the number of ways it can be decoded.\n",
    "\n",
    "For example, the message '111' would give 3, since it could be decoded as 'aaa', 'ka', and 'ak'.\n",
    "\n",
    "You can assume that the messages are decodable. For example, '001' is not allowed."
   ]
  },
  {
   "cell_type": "code",
   "execution_count": 46,
   "metadata": {},
   "outputs": [],
   "source": [
    "def decoding(string):\n",
    "    if len(string) <= 1:                                        # If the string is only 1 digit long then there would only be 1 result, including empty string\n",
    "        return 1                                                # because toward the end, we need to count 1 to account for the instance happen before it\n",
    "    elif int(string[0]) == 0 or '00' in string:                 # Also because 0 does not have any assigned value so it cannot be decoded if they stand together or at the beginning of the string\n",
    "        return print('Not decodable')\n",
    "    else:                                                       # Otherwise, let's check inside the string\n",
    "        if int(string[0:2]) == 10 or int(string[0:2]) == 20:    # 2 special cases are 10 and 20, they only have 1 way to decode them, so we jump 2 digits\n",
    "            return decoding(string[2:])                         # Cut the 2 digits from the string and continue to decode the rest of the string\n",
    "        elif int(string[0:2]) <= 26:                            # If they are anything less than 26, they have 2 ways to decode\n",
    "            return decoding(string[1:]) + decoding(string[2:])  # So cut them 2 different ways\n",
    "        else:                                                   # If they are larger than 26\n",
    "            return decoding(string[1:])                         # There is also only one way to decode that is individually"
   ]
  },
  {
   "cell_type": "code",
   "execution_count": 48,
   "metadata": {},
   "outputs": [
    {
     "name": "stdout",
     "output_type": "stream",
     "text": [
      "Give a random string:\n",
      "211793467\n"
     ]
    },
    {
     "data": {
      "text/plain": [
       "28"
      ]
     },
     "execution_count": 48,
     "metadata": {},
     "output_type": "execute_result"
    }
   ],
   "source": [
    "print('Give a random string:')\n",
    "string = input()\n",
    "decoding(string)"
   ]
  }
 ],
 "metadata": {
  "kernelspec": {
   "display_name": "Python 3",
   "language": "python",
   "name": "python3"
  },
  "language_info": {
   "codemirror_mode": {
    "name": "ipython",
    "version": 3
   },
   "file_extension": ".py",
   "mimetype": "text/x-python",
   "name": "python",
   "nbconvert_exporter": "python",
   "pygments_lexer": "ipython3",
   "version": "3.7.1"
  }
 },
 "nbformat": 4,
 "nbformat_minor": 2
}
