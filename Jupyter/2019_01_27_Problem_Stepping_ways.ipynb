{
 "cells": [
  {
   "cell_type": "code",
   "execution_count": null,
   "metadata": {},
   "outputs": [],
   "source": []
  },
  {
   "cell_type": "markdown",
   "metadata": {},
   "source": [
    "## 2019 January 27th\n",
    "\n",
    "Problem: There exists a staircase with N steps, and you can climb up either 1 or 2 steps at a time. Given N, write a function that returns the number of unique ways you can climb the staircase. The order of the steps matters.\n",
    "\n",
    "For example, if N is 4, then there are 5 unique ways:\n",
    "\n",
    "1, 1, 1, 1\n",
    "\n",
    "2, 1, 1\n",
    "\n",
    "1, 2, 1\n",
    "\n",
    "1, 1, 2\n",
    "\n",
    "2, 2\n",
    "\n",
    "What if, instead of being able to climb 1 or 2 steps at a time, you could climb any number from a set of positive integers X? For example, if X = {1, 3, 5}, you could climb 1, 3, or 5 steps at a time."
   ]
  },
  {
   "cell_type": "code",
   "execution_count": 11,
   "metadata": {},
   "outputs": [],
   "source": [
    "def ways_to_step(N, step_set):\n",
    "    counter = 0\n",
    "    for step in step_set:                               # This is how we implement a step set\n",
    "        if N - step < 0:                                # So I also decide to not over step the stairs\n",
    "            break\n",
    "        elif 0 <= N - step <= min(step_set):            # If after this step, there is no more step to step\n",
    "            counter += 1                                # This is one way to step            \n",
    "        else:                                           # Otherwise\n",
    "            counter += ways_to_step(N - step, step_set) # We LOOP, by calling the function inside it\n",
    "    return counter"
   ]
  },
  {
   "cell_type": "code",
   "execution_count": 13,
   "metadata": {},
   "outputs": [
    {
     "name": "stdout",
     "output_type": "stream",
     "text": [
      "Given the stairs of 4 steps and two ways to step 1 or 2. There are 5 ways to step\n"
     ]
    }
   ],
   "source": [
    "print('Given the stairs of {} steps and two ways to step 1 or 2. There are {} ways to step'.format(4,\n",
    "                                                                                                  ways_to_step(4, [1, 2])))"
   ]
  },
  {
   "cell_type": "code",
   "execution_count": 18,
   "metadata": {},
   "outputs": [
    {
     "name": "stdout",
     "output_type": "stream",
     "text": [
      "Give the number of steps: 4\n",
      "Give the set of step you can step in the form of numbers separated by commas (i.e. 1,2,3): 1,3,5\n",
      "[1, 3, 5]\n"
     ]
    },
    {
     "data": {
      "text/plain": [
       "3"
      ]
     },
     "execution_count": 18,
     "metadata": {},
     "output_type": "execute_result"
    }
   ],
   "source": [
    "steps = int(input('Give the number of steps: '))\n",
    "step_set = input('Give the set of step you can step in the form of numbers separated by commas (i.e. 1,2,3): ')\n",
    "step_set = [int(step) for step in step_set.split(',')]\n",
    "print(step_set)\n",
    "ways_to_step(steps, step_set)"
   ]
  }
 ],
 "metadata": {
  "kernelspec": {
   "display_name": "Python 3",
   "language": "python",
   "name": "python3"
  },
  "language_info": {
   "codemirror_mode": {
    "name": "ipython",
    "version": 3
   },
   "file_extension": ".py",
   "mimetype": "text/x-python",
   "name": "python",
   "nbconvert_exporter": "python",
   "pygments_lexer": "ipython3",
   "version": "3.7.1"
  }
 },
 "nbformat": 4,
 "nbformat_minor": 2
}
