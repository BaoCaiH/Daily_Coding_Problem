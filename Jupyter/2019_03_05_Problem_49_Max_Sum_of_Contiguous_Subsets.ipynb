{
 "cells": [
  {
   "cell_type": "markdown",
   "metadata": {},
   "source": [
    "## 2019 March 5th\n",
    "\n",
    "Problem: Given an array of numbers, find the maximum sum of any contiguous subarray of the array.\n",
    "\n",
    "For example, given the array [34, -50, 42, 14, -5, 86], the maximum sum would be 137, since we would take elements 42, 14, -5, and 86.\n",
    "\n",
    "Given the array [-5, -1, -8, -9], the maximum sum would be 0, since we would not take any elements.\n",
    "\n",
    "Do this in O(N) time."
   ]
  },
  {
   "cell_type": "code",
   "execution_count": 37,
   "metadata": {},
   "outputs": [],
   "source": [
    "def max_sum_contiguous(lst, sum_ = None):                          #\n",
    "    local_max = []                                                 # Keep a local max, for each subset\n",
    "    global_max = [0]                                               # And a global max for every subsets\n",
    "    for e in lst:                                                  # For each element\n",
    "        local_max = [[e] ,local_max + [e]][sum(local_max) + e > e] # Choose if adding it to the previous\n",
    "                                                                   # or start a new chain is bigger\n",
    "        global_max = [local_max, global_max][sum(global_max) > sum(local_max)] # Update global max\n",
    "    return sum(global_max) if sum_ == True else global_max         #"
   ]
  },
  {
   "cell_type": "code",
   "execution_count": 13,
   "metadata": {},
   "outputs": [],
   "source": [
    "l1 = [34, -50, 42, 14, -5, 86]\n",
    "l2 = [-5, -1, -8, -9]\n",
    "l3 = [-2, 1, -3, 4, -1, 2, 1, -5, 4]"
   ]
  },
  {
   "cell_type": "code",
   "execution_count": 39,
   "metadata": {},
   "outputs": [
    {
     "name": "stdout",
     "output_type": "stream",
     "text": [
      "Given the 3 sets [34, -50, 42, 14, -5, 86], [-5, -1, -8, -9] and [-2, 1, -3, 4, -1, 2, 1, -5, 4]\n",
      "The maximum contiguous subsets are [42, 14, -5, 86], [0] and [4, -1, 2, 1]\n",
      "The sum values are 137, 0 and 6\n"
     ]
    }
   ],
   "source": [
    "print('Given the 3 sets {}, {} and {}'.format(l1, l2, l3))\n",
    "print('The maximum contiguous subsets are {}, {} and {}'.format(max_sum_contiguous(l1),\n",
    "                                                               max_sum_contiguous(l2),\n",
    "                                                               max_sum_contiguous(l3)))\n",
    "print('The sum values are {}, {} and {}'.format(max_sum_contiguous(l1, sum_ = True),\n",
    "                                               max_sum_contiguous(l2, sum_ = True),\n",
    "                                               max_sum_contiguous(l3, sum_ = True)))"
   ]
  }
 ],
 "metadata": {
  "kernelspec": {
   "display_name": "Python 3",
   "language": "python",
   "name": "python3"
  },
  "language_info": {
   "codemirror_mode": {
    "name": "ipython",
    "version": 3
   },
   "file_extension": ".py",
   "mimetype": "text/x-python",
   "name": "python",
   "nbconvert_exporter": "python",
   "pygments_lexer": "ipython3",
   "version": "3.7.1"
  }
 },
 "nbformat": 4,
 "nbformat_minor": 2
}
