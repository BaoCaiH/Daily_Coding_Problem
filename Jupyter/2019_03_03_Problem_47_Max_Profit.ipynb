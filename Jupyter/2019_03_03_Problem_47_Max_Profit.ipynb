{
 "cells": [
  {
   "cell_type": "markdown",
   "metadata": {},
   "source": [
    "## 2019 March 3rd\n",
    "\n",
    "Problem: Given a array of numbers representing the stock prices of a company in chronological order, write a function that calculates the maximum profit you could have made from buying and selling that stock once. You must buy before you can sell it.\n",
    "\n",
    "For example, given [9, 11, 8, 5, 7, 10], you should return 5, since you could buy the stock at 5 dollars and sell it at 10 dollars."
   ]
  },
  {
   "cell_type": "code",
   "execution_count": 4,
   "metadata": {},
   "outputs": [],
   "source": [
    "def max_profit(stock_levels):\n",
    "    min_level = None                            # Keep track of the min stock level\n",
    "    profit = 0                                  # And the profit\n",
    "    for level in stock_levels:                  # For each level\n",
    "        if not min_level:                       # Make sure to update the new min stock level\n",
    "            min_level = level                   #\n",
    "        min_level = min(level, min_level)       #\n",
    "        profit = max(profit, level - min_level) # Then update the new max possible profit\n",
    "    return profit                               # Return the final max profit"
   ]
  },
  {
   "cell_type": "code",
   "execution_count": 15,
   "metadata": {},
   "outputs": [],
   "source": [
    "l1 = [7, 9, 11, 8, 5, 7, 10]\n",
    "l2 = [131, 123, 125, 201, 257, 199, 200]"
   ]
  },
  {
   "cell_type": "code",
   "execution_count": 17,
   "metadata": {},
   "outputs": [
    {
     "name": "stdout",
     "output_type": "stream",
     "text": [
      "Given the following lists: [7, 9, 11, 8, 5, 7, 10], [131, 123, 125, 201, 257, 199, 200]\n",
      "The max profit respectively are 5 and 134\n"
     ]
    }
   ],
   "source": [
    "print('Given the following lists: {}, {}'.format(l1, l2))\n",
    "print('The max profit respectively are {} and {}'.format(max_profit(l1), max_profit(l2)))"
   ]
  }
 ],
 "metadata": {
  "kernelspec": {
   "display_name": "Python 3",
   "language": "python",
   "name": "python3"
  },
  "language_info": {
   "codemirror_mode": {
    "name": "ipython",
    "version": 3
   },
   "file_extension": ".py",
   "mimetype": "text/x-python",
   "name": "python",
   "nbconvert_exporter": "python",
   "pygments_lexer": "ipython3",
   "version": "3.7.1"
  }
 },
 "nbformat": 4,
 "nbformat_minor": 2
}
