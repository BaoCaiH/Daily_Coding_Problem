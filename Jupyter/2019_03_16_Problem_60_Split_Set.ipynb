{
 "cells": [
  {
   "cell_type": "markdown",
   "metadata": {},
   "source": [
    "## 2019 March 16th\n",
    "\n",
    "Problem: Given a multiset of integers, return whether it can be partitioned into two subsets whose sums are the same.\n",
    "\n",
    "For example, given the multiset {15, 5, 20, 10, 35, 15, 10}, it would return true, since we can split it up into {15, 5, 10, 15, 10} and {20, 35}, which both add up to 55.\n",
    "\n",
    "Given the multiset {15, 5, 20, 10, 35}, it would return false, since we can't split it up into two subsets that add up to the same sum."
   ]
  },
  {
   "cell_type": "code",
   "execution_count": 13,
   "metadata": {},
   "outputs": [],
   "source": [
    "# This first function was taken from the solution of problem number 42\n",
    "# Find it in my github\n",
    "def reach_target(s, k):                                     # Function to get a target sum\n",
    "    if len(s) == 1:                                         # If the set is only 1 element long\n",
    "        if s[0] == k:                                       # If that element is the target number\n",
    "            return [k]                                      # Good\n",
    "        else:                                               # If not\n",
    "            return None                                     # Bad\n",
    "                                                            # Otherwise, real work here\n",
    "    for i, num in enumerate(s):                             # For each number\n",
    "        if num == k:                                        # If it's magically equal to the target\n",
    "            return [num]                                    # Great\n",
    "        elif num < k:                                       # Otherwise it should less than the target\n",
    "            subs = reach_target(s[:i] + s[i+1:], k - num)   # Recurse the function with a subset\n",
    "                                                            # without the number, and a smaller target\n",
    "            if subs:                                        # If it returns anything at all\n",
    "                                                            # (otherwise it's not what we're looking for)\n",
    "                return [num] + subs                         # Return the number and whatever come from the recursion\n",
    "    return None                                             # After all that, nothing matches, return None (or null)\n",
    "                                                            #\n",
    "def split_set(lst):                                         # Main function\n",
    "    if sum(lst) % 2 != 0:                                   # If the sum is an odd number\n",
    "        print('This multiset cannot be splited')            # Certainly this operation should not be perform\n",
    "        return None                                         # Return nothing\n",
    "    target = sum(lst) / 2                                   # If not then take half of the sum as the target\n",
    "    set_1 = reach_target(lst, target)                       # Feed it to the function above to find the subset\n",
    "    if not set_1:                                           # If the subset cannot be found\n",
    "        print('This multiset cannot be splited')            # Return nothing\n",
    "        return None                                         #\n",
    "    set_2 = lst.copy()                                      # Get a copy of the original list\n",
    "    for e in set_1:                                         # Go through the set 1\n",
    "        set_2.pop(set_2.index(e))                           # Find the index and remove it from the set 2\n",
    "    return (set_1, set_2)                                   # So they will become 2 subsets"
   ]
  },
  {
   "cell_type": "code",
   "execution_count": 18,
   "metadata": {},
   "outputs": [
    {
     "name": "stdout",
     "output_type": "stream",
     "text": [
      "Given 2 sets [15, 5, 20, 10, 35, 15, 10] and [15, 5, 20, 10, 35]\n"
     ]
    }
   ],
   "source": [
    "lst_1 = [15, 5, 20, 10, 35, 15, 10]\n",
    "lst_2 = [15, 5, 20, 10, 35]\n",
    "print('Given 2 sets {} and {}'.format(lst_1, lst_2))"
   ]
  },
  {
   "cell_type": "code",
   "execution_count": 20,
   "metadata": {},
   "outputs": [
    {
     "name": "stdout",
     "output_type": "stream",
     "text": [
      "Set [15, 5, 20, 10, 35, 15, 10] will have the 2 subsets ([15, 5, 20, 15], [10, 35, 10]) which give the same sum\n"
     ]
    }
   ],
   "source": [
    "print('Set {} will have the 2 subsets {} which give the same sum'.format(lst_1, split_set(lst_1)))"
   ]
  },
  {
   "cell_type": "code",
   "execution_count": 21,
   "metadata": {},
   "outputs": [
    {
     "name": "stdout",
     "output_type": "stream",
     "text": [
      "While set [15, 5, 20, 10, 35] will return nothing\n",
      "This multiset cannot be splited\n"
     ]
    }
   ],
   "source": [
    "print('While set {} will return nothing'.format(lst_2))\n",
    "split_set(lst_2)"
   ]
  }
 ],
 "metadata": {
  "kernelspec": {
   "display_name": "Python 3",
   "language": "python",
   "name": "python3"
  },
  "language_info": {
   "codemirror_mode": {
    "name": "ipython",
    "version": 3
   },
   "file_extension": ".py",
   "mimetype": "text/x-python",
   "name": "python",
   "nbconvert_exporter": "python",
   "pygments_lexer": "ipython3",
   "version": "3.7.1"
  }
 },
 "nbformat": 4,
 "nbformat_minor": 2
}
