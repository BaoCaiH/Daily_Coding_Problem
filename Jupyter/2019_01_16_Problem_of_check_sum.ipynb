{
 "cells": [
  {
   "cell_type": "markdown",
   "metadata": {},
   "source": [
    "## 2019 January 16th\n",
    "\n",
    "Problem: Given a list of numbers and a number k, return whether any two numbers from the list add up to k.\n",
    "\n",
    "For example, given [10, 15, 3, 7] and k of 17, return true since 10 + 7 is 17."
   ]
  },
  {
   "cell_type": "code",
   "execution_count": 12,
   "metadata": {},
   "outputs": [],
   "source": [
    "def sum_any_two_numbers_in_list_equal(list, check_total):\n",
    "    for i in range(len(list)):\n",
    "        for j in range(i+1, len(list)):\n",
    "            if (list[i] + list[j]) == check_total:\n",
    "                print('The sum of number {} at position {} and number {} at position {} equal {}'.\\\n",
    "                      format(list[i], i, list[j], j, check_total))\n",
    "                return True\n",
    "    print('There is no sum of two number equal {}'.format(check_total))\n",
    "    return False"
   ]
  },
  {
   "cell_type": "code",
   "execution_count": 3,
   "metadata": {},
   "outputs": [],
   "source": [
    "l = [10, 15, 3, 7, 3, 7, 9, 1, 10]\n",
    "k = 14"
   ]
  },
  {
   "cell_type": "code",
   "execution_count": 4,
   "metadata": {},
   "outputs": [
    {
     "name": "stdout",
     "output_type": "stream",
     "text": [
      "The list is [10, 15, 3, 7, 3, 7, 9, 1, 10]\n",
      "The check number is 14\n"
     ]
    }
   ],
   "source": [
    "print('The list is ', end = '')\n",
    "print(l)\n",
    "print('The check number is ', end = '')\n",
    "print(k)"
   ]
  },
  {
   "cell_type": "code",
   "execution_count": 13,
   "metadata": {},
   "outputs": [
    {
     "name": "stdout",
     "output_type": "stream",
     "text": [
      "The sum of number 7 at position 3 and number 7 at position 5 equal 14\n",
      "True\n"
     ]
    }
   ],
   "source": [
    "print(sum_any_two_numbers_in_list_equal(l, k))"
   ]
  }
 ],
 "metadata": {
  "kernelspec": {
   "display_name": "Python 3",
   "language": "python",
   "name": "python3"
  },
  "language_info": {
   "codemirror_mode": {
    "name": "ipython",
    "version": 3
   },
   "file_extension": ".py",
   "mimetype": "text/x-python",
   "name": "python",
   "nbconvert_exporter": "python",
   "pygments_lexer": "ipython3",
   "version": "3.7.1"
  }
 },
 "nbformat": 4,
 "nbformat_minor": 2
}
