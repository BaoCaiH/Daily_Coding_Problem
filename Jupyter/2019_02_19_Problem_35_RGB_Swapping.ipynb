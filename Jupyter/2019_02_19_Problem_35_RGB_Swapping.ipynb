{
 "cells": [
  {
   "cell_type": "markdown",
   "metadata": {},
   "source": [
    "## 2019 February 19th\n",
    "\n",
    "Problem: Given an array of strictly the characters 'R', 'G', and 'B', segregate the values of the array so that all the Rs come first, the Gs come second, and the Bs come last. You can only swap elements of the array.\n",
    "\n",
    "Do this in linear time and in-place.\n",
    "\n",
    "For example, given the array ['G', 'B', 'R', 'R', 'B', 'R', 'G'], it should become ['R', 'R', 'R', 'G', 'G', 'B', 'B']."
   ]
  },
  {
   "cell_type": "code",
   "execution_count": 1,
   "metadata": {},
   "outputs": [],
   "source": [
    "def rgb(array):\n",
    "    for i, e in enumerate(array):                                   # For each index and element in the array\n",
    "        for j in range(i, 0, -1):                                   # Compare it to the previous elements\n",
    "            if e == 'R':                                            # If the element is 'R'\n",
    "                if array[j - 1] == 'R':                             # And the previous is also 'R'\n",
    "                    break                                           # It's at the right place\n",
    "                else:                                               # Else, swap to move up and continue\n",
    "                    array[j], array[j - 1] = array[j - 1], array[j]\n",
    "            if e == 'G':                                            # If the element is 'G'\n",
    "                if array[j - 1] == 'B':                             # And the previous is 'B'\n",
    "                    array[j], array[j - 1] = array[j - 1], array[j] # Swap to move up\n",
    "                else:                                               # Else, it is either at the 'G's place\n",
    "                    break                                           # or behind a 'R', it's all good\n",
    "                                                                    # 'B' doesn't need to go anywhere\n",
    "                                                                    # just be at the last"
   ]
  },
  {
   "cell_type": "code",
   "execution_count": 2,
   "metadata": {},
   "outputs": [],
   "source": [
    "c1 = ['G', 'B', 'R', 'R', 'B', 'R', 'G']\n",
    "c2 = ['B', 'G', 'B', 'R', 'B', 'B', 'R', 'R', 'R', 'G']"
   ]
  },
  {
   "cell_type": "code",
   "execution_count": 3,
   "metadata": {},
   "outputs": [
    {
     "name": "stdout",
     "output_type": "stream",
     "text": [
      "The first array is ['G', 'B', 'R', 'R', 'B', 'R', 'G']\n",
      "And after swapping: ['R', 'R', 'R', 'G', 'G', 'B', 'B']\n",
      "\n",
      "The second array is ['B', 'G', 'B', 'R', 'B', 'B', 'R', 'R', 'R', 'G']\n",
      "And after swapping: ['R', 'R', 'R', 'R', 'G', 'G', 'B', 'B', 'B', 'B']\n"
     ]
    }
   ],
   "source": [
    "print('The first array is {}'.format(c1))\n",
    "rgb(c1)\n",
    "print('And after swapping: {}'.format(c1))\n",
    "print('')\n",
    "print('The second array is {}'.format(c2))\n",
    "rgb(c2)\n",
    "print('And after swapping: {}'.format(c2))"
   ]
  }
 ],
 "metadata": {
  "kernelspec": {
   "display_name": "Python 3",
   "language": "python",
   "name": "python3"
  },
  "language_info": {
   "codemirror_mode": {
    "name": "ipython",
    "version": 3
   },
   "file_extension": ".py",
   "mimetype": "text/x-python",
   "name": "python",
   "nbconvert_exporter": "python",
   "pygments_lexer": "ipython3",
   "version": "3.7.1"
  }
 },
 "nbformat": 4,
 "nbformat_minor": 2
}
