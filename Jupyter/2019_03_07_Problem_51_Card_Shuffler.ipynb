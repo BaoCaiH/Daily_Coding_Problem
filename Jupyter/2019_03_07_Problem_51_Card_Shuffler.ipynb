{
 "cells": [
  {
   "cell_type": "markdown",
   "metadata": {},
   "source": [
    "## 2019 March 7th\n",
    "\n",
    "Problem: Given a function that generates perfectly random numbers between 1 and k (inclusive), where k is an input, write a function that shuffles a deck of cards represented as an array using only swaps.\n",
    "\n",
    "It should run in O(N) time.\n",
    "\n",
    "Hint: Make sure each one of the 52! permutations of the deck is equally likely."
   ]
  },
  {
   "cell_type": "code",
   "execution_count": 11,
   "metadata": {},
   "outputs": [],
   "source": [
    "# This function explanation can be found at the solution for question #15\n",
    "def random_number(n):\n",
    "    import random\n",
    "    number = None\n",
    "    for i in range(n):\n",
    "        if i == 0:\n",
    "            number = i\n",
    "        elif random.randint(0, i) == 0:\n",
    "            number = i\n",
    "    return number"
   ]
  },
  {
   "cell_type": "code",
   "execution_count": 18,
   "metadata": {},
   "outputs": [],
   "source": [
    "# Since the function above generates a random number in the range of a deck of card\n",
    "# We just simply need to swap\n",
    "def shuffle_deck(cards, n):\n",
    "    for i, e in enumerate(cards):\n",
    "        swap_with = random_number(n)\n",
    "        cards[i], cards[swap_with] = cards[swap_with], cards[i]"
   ]
  },
  {
   "cell_type": "code",
   "execution_count": 19,
   "metadata": {},
   "outputs": [],
   "source": [
    "deck = [1, 2, 3, 4, 5, 6, 7, 8, 9, 10, 11, 12, 13,\n",
    "       14, 15, 16, 17, 18, 19, 20, 21, 22, 23, 24, 25, 26,\n",
    "       27, 28, 29, 30, 31, 32, 33, 34, 35, 36, 37, 38, 39,\n",
    "       40, 41, 42, 43, 44, 45, 46, 47, 48, 49, 50, 51, 52]"
   ]
  },
  {
   "cell_type": "code",
   "execution_count": 20,
   "metadata": {},
   "outputs": [
    {
     "name": "stdout",
     "output_type": "stream",
     "text": [
      "[1, 2, 3, 4, 5, 6, 7, 8, 9, 10, 11, 12, 13]\n",
      "[14, 15, 16, 17, 18, 19, 20, 21, 22, 23, 24, 25, 26]\n",
      "[27, 28, 29, 30, 31, 32, 33, 34, 35, 36, 37, 38, 39]\n",
      "[40, 41, 42, 43, 44, 45, 46, 47, 48, 49, 50, 51, 52]\n"
     ]
    }
   ],
   "source": [
    "i = 0\n",
    "for _ in range(4):\n",
    "    print(deck[i:i+13])\n",
    "    i += 13"
   ]
  },
  {
   "cell_type": "code",
   "execution_count": 21,
   "metadata": {},
   "outputs": [
    {
     "name": "stdout",
     "output_type": "stream",
     "text": [
      "[31, 21, 44, 9, 36, 23, 19, 40, 8, 20, 34, 38, 32]\n",
      "[51, 3, 7, 15, 50, 43, 22, 13, 35, 33, 48, 49, 4]\n",
      "[17, 29, 14, 6, 41, 27, 26, 28, 24, 42, 11, 1, 45]\n",
      "[2, 30, 25, 37, 47, 18, 52, 10, 16, 12, 5, 39, 46]\n"
     ]
    }
   ],
   "source": [
    "shuffle_deck(deck, 52)\n",
    "i = 0\n",
    "for _ in range(4):\n",
    "    print(deck[i:i+13])\n",
    "    i += 13"
   ]
  }
 ],
 "metadata": {
  "kernelspec": {
   "display_name": "Python 3",
   "language": "python",
   "name": "python3"
  },
  "language_info": {
   "codemirror_mode": {
    "name": "ipython",
    "version": 3
   },
   "file_extension": ".py",
   "mimetype": "text/x-python",
   "name": "python",
   "nbconvert_exporter": "python",
   "pygments_lexer": "ipython3",
   "version": "3.7.1"
  }
 },
 "nbformat": 4,
 "nbformat_minor": 2
}
