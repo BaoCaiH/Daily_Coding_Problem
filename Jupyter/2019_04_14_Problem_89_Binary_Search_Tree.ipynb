{
 "cells": [
  {
   "cell_type": "markdown",
   "metadata": {},
   "source": [
    "### 2019 April 14th\n",
    "\n",
    "Problem: Determine whether a tree is a valid binary search tree.\n",
    "\n",
    "A binary search tree is a tree with two children, left and right, and satisfies the constraint that the key in the left child must be less than or equal to the root and the key in the right child must be greater than or equal to the root."
   ]
  },
  {
   "cell_type": "code",
   "execution_count": 111,
   "metadata": {},
   "outputs": [],
   "source": [
    "class Node:                                                 #\n",
    "    def __init__(self, value, left = None, right = None):   #\n",
    "        self.value = value                                  #\n",
    "        self.left = left                                    #\n",
    "        self.right = right                                  #\n",
    "                                                            #\n",
    "def isBinarySearchTree(root):                               #\n",
    "                                                            #\n",
    "    def isBinarySearchTreeHelper(node):                     # This will return the value of the node if it is\n",
    "        if not node:                                        # a binary search tree\n",
    "            return None                                     # If there is no node, return nothing\n",
    "        value = node.value                                  # Store the value\n",
    "        if node.left and node.right:                        # If both children are available\n",
    "            left = isBinarySearchTreeHelper(node.left)      # Run the function on the left node\n",
    "            right = isBinarySearchTreeHelper(node.right)    # Run the function on the right node\n",
    "            if left is not None and right is not None:      # If both children are valid\n",
    "                if left < value and right > value:          # Check the rule on the values\n",
    "                    return value                            # If true, then return the node value\n",
    "                else:                                       # Otherwise\n",
    "                    return None                             # Return nothing\n",
    "            else:                                           # If either or both children are not valid\n",
    "                return None                                 # Return nothing\n",
    "        elif not node.left and not node.right:              # If there is no children\n",
    "            return value                                    # Return the value\n",
    "        else:                                               # If there is one child on either side\n",
    "            return None                                     # Return nothing\n",
    "                                                            #\n",
    "    return ['invalid', 'valid'][bool(isBinarySearchTreeHelper(root))]# Run the helper and return validity"
   ]
  },
  {
   "cell_type": "code",
   "execution_count": 112,
   "metadata": {},
   "outputs": [],
   "source": [
    "nodeA = Node(10, Node(5, Node(3, Node(2), Node(4)), Node(7, Node(6), Node(8))),\n",
    "             Node(15, Node(13, Node(12), Node(14)), Node(17, Node(16), Node(18))))"
   ]
  },
  {
   "cell_type": "code",
   "execution_count": 113,
   "metadata": {},
   "outputs": [],
   "source": [
    "nodeB = Node(10, Node(5, Node(3, Node(4), Node(4)), Node(7, Node(8), Node(8))),\n",
    "             Node(15, Node(13, Node(12), Node(14)), Node(17, Node(16), Node(18))))"
   ]
  },
  {
   "cell_type": "code",
   "execution_count": 114,
   "metadata": {},
   "outputs": [
    {
     "data": {
      "text/plain": [
       "'valid'"
      ]
     },
     "execution_count": 114,
     "metadata": {},
     "output_type": "execute_result"
    }
   ],
   "source": [
    "isBinarySearchTree(nodeA)"
   ]
  },
  {
   "cell_type": "code",
   "execution_count": 104,
   "metadata": {},
   "outputs": [
    {
     "name": "stdout",
     "output_type": "stream",
     "text": [
      "Given the following trees:\n",
      "Tree A:\n",
      "          10\n",
      "        /   \\\n",
      "       /     \\\n",
      "      /       \\\n",
      "     5         15\n",
      "   /  \\      /    \\\n",
      "  3    7    13     17\n",
      " /\\   /\\    /\\     /\\\n",
      "2  4 6  8 12  14 16  18\n"
     ]
    }
   ],
   "source": [
    "print('Given the following trees:')\n",
    "print('Tree A:')\n",
    "print('          10\\n        /   \\\\\\n       /     \\\\\\n      /       \\\\\\n     5         15\\n   /  \\\\      /    \\\\\\n  3    7    13     17\\n /\\\\   /\\\\    /\\\\     /\\\\\\n2  4 6  8 12  14 16  18')"
   ]
  },
  {
   "cell_type": "code",
   "execution_count": 105,
   "metadata": {},
   "outputs": [
    {
     "name": "stdout",
     "output_type": "stream",
     "text": [
      "And Tree B:\n",
      "          10\n",
      "        /   \\\n",
      "       /     \\\n",
      "      /       \\\n",
      "     5         15\n",
      "   /  \\      /    \\\n",
      "  3    7    13     17\n",
      " /\\   /\\    /\\     /\\\n",
      "4  4 8  8 12  14 16  18\n"
     ]
    }
   ],
   "source": [
    "print('And Tree B:')\n",
    "print('          10\\n        /   \\\\\\n       /     \\\\\\n      /       \\\\\\n     5         15\\n   /  \\\\      /    \\\\\\n  3    7    13     17\\n /\\\\   /\\\\    /\\\\     /\\\\\\n4  4 8  8 12  14 16  18')"
   ]
  },
  {
   "cell_type": "code",
   "execution_count": 115,
   "metadata": {},
   "outputs": [
    {
     "name": "stdout",
     "output_type": "stream",
     "text": [
      "Tree A is a valid binary search tree\n",
      "Tree B is an invalid binary search tree\n",
      "Because although the upper level of the tree is valid, the lower level caused the whole left branch invalid\n"
     ]
    }
   ],
   "source": [
    "print('Tree A is a {} binary search tree'.format(isBinarySearchTree(nodeA)))\n",
    "print('Tree B is an {} binary search tree'.format(isBinarySearchTree(nodeB)))\n",
    "print('Because although the upper level of the tree is valid, the lower level caused the whole left branch invalid')"
   ]
  },
  {
   "cell_type": "code",
   "execution_count": null,
   "metadata": {},
   "outputs": [],
   "source": []
  }
 ],
 "metadata": {
  "kernelspec": {
   "display_name": "Python 3",
   "language": "python",
   "name": "python3"
  },
  "language_info": {
   "codemirror_mode": {
    "name": "ipython",
    "version": 3
   },
   "file_extension": ".py",
   "mimetype": "text/x-python",
   "name": "python",
   "nbconvert_exporter": "python",
   "pygments_lexer": "ipython3",
   "version": "3.7.3"
  }
 },
 "nbformat": 4,
 "nbformat_minor": 2
}
