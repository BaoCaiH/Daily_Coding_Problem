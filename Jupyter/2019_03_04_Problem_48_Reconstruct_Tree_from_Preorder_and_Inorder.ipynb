{
 "cells": [
  {
   "cell_type": "markdown",
   "metadata": {},
   "source": [
    "## 2019 March 4th\n",
    "\n",
    "Problem: Given pre-order and in-order traversals of a binary tree, write a function to reconstruct the tree.\n",
    "\n",
    "For example, given the following preorder traversal:\n",
    "\n",
    "[a, b, d, e, c, f, g]\n",
    "\n",
    "And the following inorder traversal:\n",
    "\n",
    "[d, b, e, a, f, c, g]\n",
    "\n",
    "You should return the following tree:\n",
    "\n",
    "`>  a\n",
    "   / \\\n",
    "  b   c\n",
    " / \\ / \\\n",
    "d  e f  g`"
   ]
  },
  {
   "cell_type": "code",
   "execution_count": 10,
   "metadata": {},
   "outputs": [],
   "source": [
    "# Create class of a binary tree\n",
    "class Node:\n",
    "    def __init__(self, val, left = None, right = None):\n",
    "        self.val = val\n",
    "        self.left = left\n",
    "        self.right = right"
   ]
  },
  {
   "cell_type": "code",
   "execution_count": 7,
   "metadata": {},
   "outputs": [],
   "source": [
    "def reconstruct(preorder, inorder):\n",
    "    if not preorder:                                              # If no value was left or available\n",
    "        return None                                               # There is no node\n",
    "    value = preorder[0]                                           # Take the first value in preorder\n",
    "    index = inorder.index(value)                                  # Find in inorder (to find the local root)\n",
    "    left = inorder[:index]                                        # Store whatever on the left\n",
    "    right = inorder[index+1:]                                     # And the right of the local root\n",
    "    node = Node(value)                                            # Give the local root a node\n",
    "    node.left = reconstruct([e for e in preorder if e in left],   # Then the left of that root is constructed\n",
    "                            left)                                 # with new preorder and inorder\n",
    "    node.right = reconstruct([f for f in preorder if f in right], # Also on the right\n",
    "                             right)\n",
    "    \n",
    "    return node                                                   # Return the final tree"
   ]
  },
  {
   "cell_type": "code",
   "execution_count": 12,
   "metadata": {},
   "outputs": [
    {
     "name": "stdout",
     "output_type": "stream",
     "text": [
      "This is the preorder: ['a', 'b', 'd', 'e', 'c', 'f', 'g']\n",
      "This is the inorder: ['d', 'b', 'e', 'a', 'f', 'c', 'g']\n"
     ]
    }
   ],
   "source": [
    "a = ['a', 'b', 'd', 'e', 'c', 'f', 'g']\n",
    "b = ['d', 'b', 'e', 'a', 'f', 'c', 'g']\n",
    "print('This is the preorder: {}'.format(a))\n",
    "print('This is the inorder: {}'.format(b))"
   ]
  },
  {
   "cell_type": "code",
   "execution_count": 13,
   "metadata": {},
   "outputs": [],
   "source": [
    "c = reconstruct(a, b)"
   ]
  },
  {
   "cell_type": "code",
   "execution_count": 14,
   "metadata": {},
   "outputs": [
    {
     "name": "stdout",
     "output_type": "stream",
     "text": [
      "This is the left most value of the tree, just to test\n",
      "d\n"
     ]
    }
   ],
   "source": [
    "print('This is the left most value of the tree, just to test')\n",
    "print(c.left.left.val)"
   ]
  }
 ],
 "metadata": {
  "kernelspec": {
   "display_name": "Python 3",
   "language": "python",
   "name": "python3"
  },
  "language_info": {
   "codemirror_mode": {
    "name": "ipython",
    "version": 3
   },
   "file_extension": ".py",
   "mimetype": "text/x-python",
   "name": "python",
   "nbconvert_exporter": "python",
   "pygments_lexer": "ipython3",
   "version": "3.7.1"
  }
 },
 "nbformat": 4,
 "nbformat_minor": 2
}
