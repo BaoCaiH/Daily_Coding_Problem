{
 "cells": [
  {
   "cell_type": "markdown",
   "metadata": {},
   "source": [
    "## 2019 March 20th\n",
    "\n",
    "Problem: A knight's tour is a sequence of moves by a knight on a chessboard such that all squares are visited once.\n",
    "\n",
    "Given N, write a function to return the number of knight's tours on an N by N chessboard."
   ]
  },
  {
   "cell_type": "code",
   "execution_count": null,
   "metadata": {},
   "outputs": [],
   "source": [
    "def possible_moves(N, board, start):\n",
    "    tours = 0\n",
    "    moves = []\n",
    "    x = start[0]\n",
    "    y = start[1]\n",
    "    if x >= 2:\n",
    "        if y >= 1:\n",
    "            if board[x - 2][y - 1] != 1:\n",
    "                moves.append((x - 2, y - 1))\n",
    "        if y <= N - 2:\n",
    "            if board[x - 2][y + 1] != 1:\n",
    "                moves.append((x - 2, y + 1))\n",
    "    if x <= N - 3:\n",
    "        if y >= 1:\n",
    "            if board[x + 2][y - 1] != 1:\n",
    "                moves.append((x + 2, y - 1))\n",
    "        if y <= N - 2:\n",
    "            if board[x + 2][y + 1] != 1:\n",
    "                moves.append((x + 2, y + 1))\n",
    "    if y >= 2:\n",
    "        if x >= 1:\n",
    "            if board[x - 1][y - 2] != 1:\n",
    "                moves.append((x - 1, y - 2))\n",
    "        if x <= N - 2:\n",
    "            if board[x + 1][y - 2] != 1:\n",
    "                moves.append((x + 1, y - 2))\n",
    "    if y <= N - 3:\n",
    "        if x >= 1:\n",
    "            if board[x - 1][y + 2] != 1:\n",
    "                moves.append((x - 1, y + 2))\n",
    "        if x <= N - 2:\n",
    "            if board[x + 1][y + 2] != 1:\n",
    "                moves.append((x + 1, y + 2))\n",
    "    return moves\n",
    "\n",
    "def knight_moves(N, board, lst):\n",
    "    if len(lst) == N * N:\n",
    "        return 1\n",
    "    tours = 0\n",
    "    moves = possible_moves(N, board, lst[-1])\n",
    "    if not moves:\n",
    "        return 0\n",
    "    for i, j in moves:\n",
    "        lst.append((i, j))\n",
    "        board[i][j] = 1\n",
    "        tours += knight_moves(N, board, lst)\n",
    "        board[i][j] = 0\n",
    "        lst.pop()\n",
    "    return tours\n",
    "\n",
    "def knight_tours(N):\n",
    "    tours = 0\n",
    "    for i in range(N):\n",
    "        for j in range(N):\n",
    "            board = [[0 for _ in range(N)] for _ in range(N)]\n",
    "            board[i][j] = 1\n",
    "            tours += knight_moves(N, board, [(i, j)])\n",
    "    return tours"
   ]
  },
  {
   "cell_type": "code",
   "execution_count": 11,
   "metadata": {},
   "outputs": [
    {
     "name": "stdout",
     "output_type": "stream",
     "text": [
      "It's going to take a long time to run, do you want to continue (N/y)\n"
     ]
    }
   ],
   "source": [
    "run = input(\"It's going to take a long time to run, do you want to continue (N/y)\")\n",
    "if run != 'y':\n",
    "    run = \"N\"\n",
    "if run == 'y':\n",
    "    knight_tours(5)"
   ]
  }
 ],
 "metadata": {
  "kernelspec": {
   "display_name": "Python 3",
   "language": "python",
   "name": "python3"
  },
  "language_info": {
   "codemirror_mode": {
    "name": "ipython",
    "version": 3
   },
   "file_extension": ".py",
   "mimetype": "text/x-python",
   "name": "python",
   "nbconvert_exporter": "python",
   "pygments_lexer": "ipython3",
   "version": "3.7.1"
  }
 },
 "nbformat": 4,
 "nbformat_minor": 2
}
