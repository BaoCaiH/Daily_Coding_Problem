{
 "cells": [
  {
   "cell_type": "markdown",
   "metadata": {},
   "source": [
    "### 2019 April 16th\n",
    "\n",
    "Problem: What does the below code snippet print out? How can we fix the anonymous functions to behave as we'd expect?\n",
    "\n",
    "`functions = []\n",
    "for i in range(10):\n",
    "    functions.append(lambda : i)\n",
    "for f in functions:\n",
    "    print(f())`"
   ]
  },
  {
   "cell_type": "code",
   "execution_count": 42,
   "metadata": {},
   "outputs": [
    {
     "name": "stdout",
     "output_type": "stream",
     "text": [
      "0\n",
      "1\n",
      "2\n",
      "3\n",
      "4\n",
      "5\n",
      "6\n",
      "7\n",
      "8\n",
      "9\n"
     ]
    }
   ],
   "source": [
    "functions = []\n",
    "for i in range(10):\n",
    "    functions.append(lambda : i)\n",
    "\n",
    "i = 0\n",
    "for f in functions:\n",
    "    print(f())\n",
    "    i += 1"
   ]
  }
 ],
 "metadata": {
  "kernelspec": {
   "display_name": "Python 3",
   "language": "python",
   "name": "python3"
  },
  "language_info": {
   "codemirror_mode": {
    "name": "ipython",
    "version": 3
   },
   "file_extension": ".py",
   "mimetype": "text/x-python",
   "name": "python",
   "nbconvert_exporter": "python",
   "pygments_lexer": "ipython3",
   "version": "3.7.3"
  }
 },
 "nbformat": 4,
 "nbformat_minor": 2
}
