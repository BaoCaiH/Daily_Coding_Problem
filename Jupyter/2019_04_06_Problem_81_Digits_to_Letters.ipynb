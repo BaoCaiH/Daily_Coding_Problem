{
 "cells": [
  {
   "cell_type": "markdown",
   "metadata": {},
   "source": [
    "## 2019 April 6th\n",
    "\n",
    "Problem: Given a mapping of digits to letters (as in a phone number), and a digit string, return all possible letters the number could represent. You can assume each valid number in the mapping is a single digit.\n",
    "\n",
    "For example if {“2”: [“a”, “b”, “c”], 3: [“d”, “e”, “f”], …} then “23” should return [“ad”, “ae”, “af”, “bd”, “be”, “bf”, “cd”, “ce”, “cf\"]."
   ]
  },
  {
   "cell_type": "code",
   "execution_count": 23,
   "metadata": {},
   "outputs": [],
   "source": [
    "def digitsToLeters(digitString, digitsMap):             #\n",
    "    if digitString[0] not in digitsMap:                 # Give a warning for wrong input(s)\n",
    "        print('This digit \"{}\" is not available in the digit map.'.format(digitString[0]))\n",
    "        print('The digits should be those in this list: {}'.format(digitsMap.keys()))\n",
    "        return None                                     #\n",
    "    if len(digitString) == 1:                           # If this is the last digit\n",
    "        return digitsMap[digitString[0]]                # Return the corresponding list\n",
    "    nexts = digitsToLeters(digitString[1:], digitsMap)  # Otherwise, recurse the function forward\n",
    "    if not nexts:                                       # If any of the later digits return None\n",
    "        return None                                     # Also return None, error will be flagged above\n",
    "    holder = []                                         # If all tests are passed, create a return holder\n",
    "    for letter in digitsMap[digitString[0]]:            # For each letter in the list\n",
    "        for combination in nexts:                       # Take each combination returned\n",
    "            holder.append(letter + combination)         # Add the letter to the combination and add it to holder\n",
    "    return holder                                       # Return the holder"
   ]
  },
  {
   "cell_type": "code",
   "execution_count": 4,
   "metadata": {},
   "outputs": [],
   "source": [
    "digitsMap = {\n",
    "    '2' : ['a', 'b', 'c'],\n",
    "    '3' : ['d', 'e', 'f'],\n",
    "    '4' : ['g', 'h', 'i'],\n",
    "    '5' : ['j', 'k', 'l'],\n",
    "    '6' : ['m', 'n', 'o'],\n",
    "    '7' : ['p', 'q', 'r'],\n",
    "    '8' : ['s', 't', 'u'],\n",
    "    '9' : ['v', 'w', 'x'],\n",
    "    '0' : ['y', 'z']\n",
    "}"
   ]
  },
  {
   "cell_type": "code",
   "execution_count": 30,
   "metadata": {},
   "outputs": [
    {
     "name": "stdout",
     "output_type": "stream",
     "text": [
      "The mapping is given below:\n",
      "2 : ['a', 'b', 'c']\n",
      "3 : ['d', 'e', 'f']\n",
      "4 : ['g', 'h', 'i']\n",
      "5 : ['j', 'k', 'l']\n",
      "6 : ['m', 'n', 'o']\n",
      "7 : ['p', 'q', 'r']\n",
      "8 : ['s', 't', 'u']\n",
      "9 : ['v', 'w', 'x']\n",
      "0 : ['y', 'z']\n"
     ]
    }
   ],
   "source": [
    "print('The mapping is given below:')\n",
    "for digit, value in digitsMap.items():\n",
    "    print('{} : {}'.format(digit, value))"
   ]
  },
  {
   "cell_type": "code",
   "execution_count": 33,
   "metadata": {},
   "outputs": [
    {
     "name": "stdout",
     "output_type": "stream",
     "text": [
      "Given a combination of digits:369\n",
      "The combinations are printed below\n",
      "['dmv', 'dmw', 'dmx', 'dnv', 'dnw', 'dnx', 'dov', 'dow', 'dox', 'emv', 'emw', 'emx', 'env', 'enw', 'enx', 'eov', 'eow', 'eox', 'fmv', 'fmw', 'fmx', 'fnv', 'fnw', 'fnx', 'fov', 'fow', 'fox']\n"
     ]
    }
   ],
   "source": [
    "digits = input('Given a combination of digits:')\n",
    "print('The combinations are printed below')\n",
    "print(digitsToLeters(digits, digitsMap))"
   ]
  },
  {
   "cell_type": "code",
   "execution_count": null,
   "metadata": {},
   "outputs": [],
   "source": []
  }
 ],
 "metadata": {
  "kernelspec": {
   "display_name": "Python 3",
   "language": "python",
   "name": "python3"
  },
  "language_info": {
   "codemirror_mode": {
    "name": "ipython",
    "version": 3
   },
   "file_extension": ".py",
   "mimetype": "text/x-python",
   "name": "python",
   "nbconvert_exporter": "python",
   "pygments_lexer": "ipython3",
   "version": "3.7.1"
  }
 },
 "nbformat": 4,
 "nbformat_minor": 2
}
