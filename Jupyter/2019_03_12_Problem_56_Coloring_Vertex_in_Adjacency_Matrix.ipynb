{
 "cells": [
  {
   "cell_type": "markdown",
   "metadata": {},
   "source": [
    "## 2019 March 12th\n",
    "\n",
    "Problem: Given an undirected graph represented as an adjacency matrix and an integer k, write a function to determine whether each vertex in the graph can be colored such that no two adjacent vertices share the same color using at most k colors."
   ]
  },
  {
   "cell_type": "code",
   "execution_count": 43,
   "metadata": {},
   "outputs": [],
   "source": [
    "def coloring(m, k, result = 'colorability'):        #\n",
    "    colors = []                                     # Holder for each vertexes' color\n",
    "    for i, v in enumerate(m):                       # For each vertex\n",
    "        if not colors:                              # If the holder is empty (only happen at the beginning)\n",
    "            colors.append(i)                        # Put the first color in, aka. color 0\n",
    "                                                    #\n",
    "        else:                                       # Otherwise\n",
    "            exceptions = []                         # Create an exception colors cannot be used on this vertex\n",
    "            for j, w in enumerate(v):               # Search the adjacency\n",
    "                if w == 1:                          # If they are neighbors\n",
    "                    try:                            # And the neighbors were previously assigned a color\n",
    "                        exceptions.append(colors[j])# Add their colors to the exception\n",
    "                    except IndexError:              # If they have yet have a color\n",
    "                        break                       # Don't do anything\n",
    "            choices = [color for color in colors\\   # Choices are colors which has not been used\n",
    "                       if color not in exceptions]  # aka. not in exception\n",
    "            if not choices:                         # If the choices are empty\n",
    "                colors.append(max(colors) + 1)      # Add a new color\n",
    "            else:                                   # Else\n",
    "                colors.append(min(choices))         # Use the first color available\n",
    "                                                    #\n",
    "    unique_colors = []                              #\n",
    "    for color in colors:                            # Colors used can be duplicated so\n",
    "        if color not in unique_colors:              # This is to find the unique colors\n",
    "            unique_colors.append(color)             #\n",
    "                                                    # This part is outside the question\n",
    "    if result == 'colorability':                    # If you interested in answering the question of quantity\n",
    "        return len(unique_colors) <= k              # Compare with the given k\n",
    "    elif result == 'vertex colors':                 # If interested in which color on which vertex\n",
    "        return colors                               # Choose this option and return colors\n",
    "    elif result == 'unique colors':                 # If interested in unique colors\n",
    "        return unique_colors                        # Choose this option\n",
    "    else:\n",
    "        print('The argument result only has 3 possibilities and \\'{}\\' is not one of them.'.format(result))\n",
    "        print(\"Please choose one among 'colorability', 'vertex colors' and 'unique colors'\")\n",
    "        return None"
   ]
  },
  {
   "cell_type": "code",
   "execution_count": 45,
   "metadata": {},
   "outputs": [],
   "source": [
    "m = [[0, 1, 0, 0, 1, 0],\n",
    "    [1, 0, 1, 0, 1, 0],\n",
    "    [0, 1, 0, 1, 0, 0],\n",
    "    [0, 0, 1, 0, 1, 1],\n",
    "    [1, 1, 0, 1, 0, 0],\n",
    "    [0, 0, 0, 1, 0, 0]]\n",
    "k = 3"
   ]
  },
  {
   "cell_type": "code",
   "execution_count": 46,
   "metadata": {},
   "outputs": [
    {
     "name": "stdout",
     "output_type": "stream",
     "text": [
      "Given the adjacency matrix below and 3 colors:\n",
      "[0, 1, 0, 0, 1, 0]\n",
      "[1, 0, 1, 0, 1, 0]\n",
      "[0, 1, 0, 1, 0, 0]\n",
      "[0, 0, 1, 0, 1, 1]\n",
      "[1, 1, 0, 1, 0, 0]\n",
      "[0, 0, 0, 1, 0, 0]\n",
      "Will the 3 colors suffice to color the vertexes? True\n",
      "These are the unique colors: [0, 1, 2]\n",
      "This is how the vertexes are colored: [0, 1, 0, 1, 2, 0]\n"
     ]
    }
   ],
   "source": [
    "print('Given the adjacency matrix below and {} colors:'.format(k))\n",
    "for v in m:\n",
    "    print(v)\n",
    "print('Will the {} colors suffice to color the vertexes? {}'.format(k, coloring(m, k)))\n",
    "print('These are the unique colors: {}'.format(coloring(m, k, result = 'unique colors')))\n",
    "print('This is how the vertexes are colored: {}'.format(coloring(m, k, result = 'vertex colors')))"
   ]
  }
 ],
 "metadata": {
  "kernelspec": {
   "display_name": "Python 3",
   "language": "python",
   "name": "python3"
  },
  "language_info": {
   "codemirror_mode": {
    "name": "ipython",
    "version": 3
   },
   "file_extension": ".py",
   "mimetype": "text/x-python",
   "name": "python",
   "nbconvert_exporter": "python",
   "pygments_lexer": "ipython3",
   "version": "3.7.1"
  }
 },
 "nbformat": 4,
 "nbformat_minor": 2
}
