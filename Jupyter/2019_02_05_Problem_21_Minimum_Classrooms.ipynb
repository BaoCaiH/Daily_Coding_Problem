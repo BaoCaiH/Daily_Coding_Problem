{
 "cells": [
  {
   "cell_type": "markdown",
   "metadata": {},
   "source": [
    "## 2019 February 5th\n",
    "\n",
    "Problem: Given an array of time intervals (start, end) for classroom lectures (possibly overlapping), find the minimum number of rooms required.\n",
    "\n",
    "For example, given [(30, 75), (0, 50), (60, 150)], you should return 2."
   ]
  },
  {
   "cell_type": "code",
   "execution_count": 66,
   "metadata": {},
   "outputs": [],
   "source": [
    "def min_classrooms(lectures):\n",
    "    lectures.sort()\n",
    "    classrooms = []\n",
    "    for start, end in lectures:\n",
    "        if not classrooms:\n",
    "            classrooms.append(end)\n",
    "        else:\n",
    "            for i, e in enumerate(classrooms):\n",
    "                if start >= e:\n",
    "                    classrooms[i] = end\n",
    "                    break\n",
    "            if end not in classrooms:\n",
    "                classrooms.append(end)\n",
    "    return len(classrooms)"
   ]
  },
  {
   "cell_type": "code",
   "execution_count": 63,
   "metadata": {},
   "outputs": [],
   "source": [
    "lect = [(30, 75), (0, 50), (60, 150), (75, 110), (100, 120)]"
   ]
  },
  {
   "cell_type": "code",
   "execution_count": 67,
   "metadata": {},
   "outputs": [
    {
     "name": "stdout",
     "output_type": "stream",
     "text": [
      "Given the following lectures: [(0, 50), (30, 75), (60, 150), (75, 110), (100, 120)]\n",
      "The minimum required classrooms is 3\n"
     ]
    }
   ],
   "source": [
    "print('Given the following lectures: {}'.format(lect))\n",
    "print('The minimum required classrooms is {}'.format(min_classrooms(lect)))"
   ]
  }
 ],
 "metadata": {
  "kernelspec": {
   "display_name": "Python 3",
   "language": "python",
   "name": "python3"
  },
  "language_info": {
   "codemirror_mode": {
    "name": "ipython",
    "version": 3
   },
   "file_extension": ".py",
   "mimetype": "text/x-python",
   "name": "python",
   "nbconvert_exporter": "python",
   "pygments_lexer": "ipython3",
   "version": "3.7.1"
  }
 },
 "nbformat": 4,
 "nbformat_minor": 2
}
