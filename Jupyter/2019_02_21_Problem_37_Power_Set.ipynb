{
 "cells": [
  {
   "cell_type": "markdown",
   "metadata": {},
   "source": [
    "## 2019 February 21st\n",
    "\n",
    "Problem: The power set of a set is the set of all its subsets. Write a function that, given a set, generates its power set.\n",
    "\n",
    "For example, given the set {1, 2, 3}, it should return {{}, {1}, {2}, {3}, {1, 2}, {1, 3}, {2, 3}, {1, 2, 3}}.\n",
    "\n",
    "You may also use a list or array to represent a set."
   ]
  },
  {
   "cell_type": "code",
   "execution_count": 76,
   "metadata": {},
   "outputs": [],
   "source": [
    "def power_set(sets):\n",
    "    power = [[]]                              # This is the prequisite, there's always an empty subset\n",
    "    for element in sets:                      # For each element\n",
    "        for sub in power:                     # Iter the power set so far\n",
    "            power = power + [sub + [element]] # Add the new element to each subset so far to be the new subset\n",
    "            # I tried power.append(sub.append(element))\n",
    "            # But it's not working\n",
    "            # Instead, it has to be broken down into:\n",
    "            # sub.append(element)\n",
    "            # power.append(sub)\n",
    "            # This is quite longer\n",
    "            # And it seems not working either\n",
    "    return power"
   ]
  },
  {
   "cell_type": "code",
   "execution_count": 3,
   "metadata": {},
   "outputs": [],
   "source": [
    "l1 = [1, 2, 3, 4]"
   ]
  },
  {
   "cell_type": "code",
   "execution_count": 78,
   "metadata": {},
   "outputs": [
    {
     "name": "stdout",
     "output_type": "stream",
     "text": [
      "Given the set [1, 2, 3, 4]\n",
      "Here is the power set:\n",
      "[[], [1], [2], [1, 2], [3], [1, 3], [2, 3], [1, 2, 3], [4], [1, 4], [2, 4], [1, 2, 4], [3, 4], [1, 3, 4], [2, 3, 4], [1, 2, 3, 4]]\n"
     ]
    }
   ],
   "source": [
    "print('Given the set {}'.format(l1))\n",
    "print('Here is the power set:')\n",
    "print(power_set(l1))"
   ]
  }
 ],
 "metadata": {
  "kernelspec": {
   "display_name": "Python 3",
   "language": "python",
   "name": "python3"
  },
  "language_info": {
   "codemirror_mode": {
    "name": "ipython",
    "version": 3
   },
   "file_extension": ".py",
   "mimetype": "text/x-python",
   "name": "python",
   "nbconvert_exporter": "python",
   "pygments_lexer": "ipython3",
   "version": "3.7.1"
  }
 },
 "nbformat": 4,
 "nbformat_minor": 2
}
