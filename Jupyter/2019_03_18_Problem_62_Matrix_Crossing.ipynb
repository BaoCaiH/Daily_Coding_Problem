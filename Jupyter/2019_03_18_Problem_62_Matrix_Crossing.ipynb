{
 "cells": [
  {
   "cell_type": "markdown",
   "metadata": {},
   "source": [
    "## 2019 March 18th\n",
    "\n",
    "Problem: There is an N by M matrix of zeroes. Given N and M, write a function to count the number of ways of starting at the top-left corner and getting to the bottom-right corner. You can only move right or down.\n",
    "\n",
    "For example, given a 2 by 2 matrix, you should return 2, since there are two ways to get to the bottom-right:\n",
    "\n",
    "Right, then down<br>\n",
    "Down, then right\n",
    "\n",
    "Given a 5 by 5 matrix, there are 70 ways to get to the bottom-right."
   ]
  },
  {
   "cell_type": "code",
   "execution_count": 31,
   "metadata": {},
   "outputs": [],
   "source": [
    "def cross_matrix(n, m, x = 0, y = 0):                   #\n",
    "    if x == n - 1 or y == m - 1:                        # If the position is either at right side wall or bottom\n",
    "        return 1                                        # There is only 1 option is to head straight to the goal\n",
    "    else:                                               # Otherwise\n",
    "        return cross_matrix(n, m, x = x + 1, y = y) +\\\n",
    "                cross_matrix(n, m, x = x, y = y + 1)    # Recurse on both direction"
   ]
  },
  {
   "cell_type": "code",
   "execution_count": 32,
   "metadata": {},
   "outputs": [
    {
     "name": "stdout",
     "output_type": "stream",
     "text": [
      "Give an \"N\" dimension for the matrix: 2\n",
      "Give an \"M\" dimension for the matrix: 3\n",
      "There are 3 ways to get to the bottom-right of a 2 by 3 matrix\n"
     ]
    }
   ],
   "source": [
    "n = int(input('Give an \"N\" dimension for the matrix: '))\n",
    "m = int(input('Give an \"M\" dimension for the matrix: '))\n",
    "print('There are {} ways to get to the bottom-right of a {} by {} matrix'.format(cross_matrix(n, m), n, m))"
   ]
  }
 ],
 "metadata": {
  "kernelspec": {
   "display_name": "Python 3",
   "language": "python",
   "name": "python3"
  },
  "language_info": {
   "codemirror_mode": {
    "name": "ipython",
    "version": 3
   },
   "file_extension": ".py",
   "mimetype": "text/x-python",
   "name": "python",
   "nbconvert_exporter": "python",
   "pygments_lexer": "ipython3",
   "version": "3.7.1"
  }
 },
 "nbformat": 4,
 "nbformat_minor": 2
}
