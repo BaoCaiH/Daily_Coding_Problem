{
 "cells": [
  {
   "cell_type": "markdown",
   "metadata": {},
   "source": [
    "## 2019 February 6th\n",
    "\n",
    "Problem: Given a dictionary of words and a string made up of those words (no spaces), return the original sentence in a list. If there is more than one possible reconstruction, return any of them. If there is no possible reconstruction, then return null.\n",
    "\n",
    "For example, given the set of words 'quick', 'brown', 'the', 'fox', and the string \"thequickbrownfox\", you should return ['the', 'quick', 'brown', 'fox'].\n",
    "\n",
    "Given the set of words 'bed', 'bath', 'bedbath', 'and', 'beyond', and the string \"bedbathandbeyond\", return either ['bed', 'bath', 'and', 'beyond] or ['bedbath', 'and', 'beyond']."
   ]
  },
  {
   "cell_type": "code",
   "execution_count": 130,
   "metadata": {},
   "outputs": [],
   "source": [
    "def return_sentence(string, lst):\n",
    "    sets = []                                                   # First a set to store the results\n",
    "    for i in lst:                                               # For each word in the list\n",
    "        if string.startswith(i):                                # If the string starts with the word\n",
    "            sets.append(i)                                      # Put that word in the list\n",
    "            if string[len(i):]:                                 # If the string continues after that word\n",
    "                subsets = return_sentence(string[len(i):], lst) # Re-run the function\n",
    "                if subsets:                                     # If it does return something\n",
    "                    sets.extend(subsets)                        # Put the sub-results in the results\n",
    "                    break                                       # And stop looping, because we got it\n",
    "                else:                                           # Else, anything goes wrong toward the end\n",
    "                    sets.pop()                                  # Render the list empty and start over\n",
    "    if sets:                                                    # If the results available\n",
    "        return sets                                             # Return it\n",
    "    else:                                                       # If not\n",
    "        return None                                             # Return None"
   ]
  },
  {
   "cell_type": "code",
   "execution_count": 112,
   "metadata": {},
   "outputs": [],
   "source": [
    "s1 = 'thequickbrownfox'\n",
    "lst1 = ['quick', 'brown', 'the', 'fox']"
   ]
  },
  {
   "cell_type": "code",
   "execution_count": 114,
   "metadata": {},
   "outputs": [],
   "source": [
    "s2 = \"bedbathandbeyond\"\n",
    "lst2 = ['bed', 'bath', 'bedbat', 'hand', 'beyond']"
   ]
  },
  {
   "cell_type": "code",
   "execution_count": 115,
   "metadata": {},
   "outputs": [],
   "source": [
    "s3 = \"bedbathandbeyond\"\n",
    "lst3 = ['bed', 'bedbat', 'and', 'beyond']"
   ]
  },
  {
   "cell_type": "code",
   "execution_count": 134,
   "metadata": {},
   "outputs": [
    {
     "name": "stdout",
     "output_type": "stream",
     "text": [
      "Given the string 'thequickbrownfox' and the list of words ['quick', 'brown', 'the', 'fox']\n",
      "The sentence is: ['the', 'quick', 'brown', 'fox']\n"
     ]
    }
   ],
   "source": [
    "print('Given the string \\'{}\\' and the list of words {}'.format(s1, lst1))\n",
    "print('The sentence is: {}'.format(return_sentence(s1, lst1)))"
   ]
  },
  {
   "cell_type": "code",
   "execution_count": 135,
   "metadata": {},
   "outputs": [
    {
     "name": "stdout",
     "output_type": "stream",
     "text": [
      "Given the string 'bedbathandbeyond' and the list of words ['bed', 'bath', 'bedbat', 'hand', 'beyond']\n",
      "The sentence is: ['bedbat', 'hand', 'beyond']\n"
     ]
    }
   ],
   "source": [
    "print('Given the string \\'{}\\' and the list of words {}'.format(s2, lst2))\n",
    "print('The sentence is: {}'.format(return_sentence(s2, lst2)))"
   ]
  },
  {
   "cell_type": "code",
   "execution_count": 136,
   "metadata": {},
   "outputs": [
    {
     "name": "stdout",
     "output_type": "stream",
     "text": [
      "Given the string 'bedbathandbeyond' and the list of words ['bed', 'bedbat', 'and', 'beyond']\n",
      "The sentence is: None\n"
     ]
    }
   ],
   "source": [
    "print('Given the string \\'{}\\' and the list of words {}'.format(s3, lst3))\n",
    "print('The sentence is: {}'.format(return_sentence(s3, lst3)))"
   ]
  }
 ],
 "metadata": {
  "kernelspec": {
   "display_name": "Python 3",
   "language": "python",
   "name": "python3"
  },
  "language_info": {
   "codemirror_mode": {
    "name": "ipython",
    "version": 3
   },
   "file_extension": ".py",
   "mimetype": "text/x-python",
   "name": "python",
   "nbconvert_exporter": "python",
   "pygments_lexer": "ipython3",
   "version": "3.7.1"
  }
 },
 "nbformat": 4,
 "nbformat_minor": 2
}
