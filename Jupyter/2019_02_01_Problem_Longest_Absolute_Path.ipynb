{
 "cells": [
  {
   "cell_type": "markdown",
   "metadata": {},
   "source": [
    "## 2019 February 1st\n",
    "\n",
    "Problem: Suppose we represent our file system by a string in the following manner:\n",
    "\n",
    "The string \"dir\\n\\tsubdir1\\n\\tsubdir2\\n\\t\\tfile.ext\" represents:\n",
    "\n",
    "`dir\n",
    "    subdir1\n",
    "    subdir2\n",
    "        file.ext`\n",
    "        \n",
    "The directory dir contains an empty sub-directory subdir1 and a sub-directory subdir2 containing a file file.ext.\n",
    "\n",
    "The string \"dir\\n\\tsubdir1\\n\\t\\tfile1.ext\\n\\t\\tsubsubdir1\\n\\tsubdir2\\n\\t\\tsubsubdir2\\n\\t\\t\\tfile2.ext\" represents:\n",
    "\n",
    "`dir\n",
    "    subdir1\n",
    "        file1.ext\n",
    "        subsubdir1\n",
    "    subdir2\n",
    "        subsubdir2\n",
    "            file2.ext`\n",
    "            \n",
    "The directory dir contains two sub-directories subdir1 and subdir2. subdir1 contains a file file1.ext and an empty second-level sub-directory subsubdir1. subdir2 contains a second-level sub-directory subsubdir2 containing a file file2.ext.\n",
    "\n",
    "We are interested in finding the longest (number of characters) absolute path to a file within our file system. For example, in the second example above, the longest absolute path is \"dir/subdir2/subsubdir2/file2.ext\", and its length is 32 (not including the double quotes).\n",
    "\n",
    "Given a string representing the file system in the above format, return the length of the longest absolute path to a file in the abstracted file system. If there is no file in the system, return 0.\n",
    "\n",
    "Note:\n",
    "\n",
    "The name of a file contains at least a period and an extension.\n",
    "\n",
    "The name of a directory or sub-directory will not contain a period."
   ]
  },
  {
   "cell_type": "code",
   "execution_count": 161,
   "metadata": {},
   "outputs": [],
   "source": [
    "st = (\"dir\\n\\tsubdir1\\n\\t\\tfile1.ext\\n\\t\\tsubsubdir1\\n\\tsubdir2\\n\\t\\tsubsubdir2\\n\\t\\t\\tfile2.ext\")\n",
    "\n",
    "st2 = 'dir\\n\\tsubdir1\\n\\t\\tfile1.ext\\n\\t\\tsubsubdir1\\n\\tsubdir2\\n\\t\\tsubsubdir2\\n\\t\\t\\tfile2.ext' +\\\n",
    "'\\ndir2\\n\\tsubdir1\\n\\tsubdir2\\n\\t\\tsubsubdir1\\n\\t\\t\\tsubsubsubdir3\\n\\t\\t\\t\\tfile3.ext'"
   ]
  },
  {
   "cell_type": "code",
   "execution_count": 153,
   "metadata": {},
   "outputs": [],
   "source": [
    "def longest_absolute_path(file_system):\n",
    "    \n",
    "    def check_level(path):                                       # A separate function to count indentation\n",
    "        n_tab = 0                                                # First set the default indentation at 0\n",
    "        while path.startswith('\\t'):                             # For every tab it found\n",
    "            path = path[1:]                                      # Remove the tab\n",
    "            n_tab += 1                                           # And count the tabs\n",
    "        return n_tab, path                                       # Return the number of tab + the path\n",
    "                                                                 # without the tabs\n",
    "    absolute_list = []                                           # Create empty list to store the paths\n",
    "    absolute_path = ''                                           # And empty string for comparison\n",
    "    for branch in file_system.split('\\n'):                       # Treat every line as a path\n",
    "        level, branch = check_level(branch)                      # Apply the level counting function\n",
    "        if level == len(absolute_list):                          # If the level equal to the number of element in the list,\n",
    "            absolute_list.append(branch)                         # then the new item will be the new level\n",
    "        elif level < len(absolute_list):                         # If less, it means either there are more than 1 file/dir in this level\n",
    "                                                                 # or this (sub)dir is fully checked\n",
    "            absolute_list = absolute_list[:level]                # Erase the list upto the level we need\n",
    "            absolute_list.append(branch)                         # Add the new element\n",
    "        if '.' in absolute_list[-1]:                             # Before looping, if the last item is a file\n",
    "            if len('/'.join(absolute_list)) > len(absolute_path):# If the current path is longer than the stored path\n",
    "                absolute_path = '/'.join(absolute_list)          # Replace the path then continue looping\n",
    "                                                                 # It will store the path here so the erase step above\n",
    "                                                                 # will not affect the past elements (took me a while to understand)\n",
    "    return absolute_path"
   ]
  },
  {
   "cell_type": "code",
   "execution_count": 163,
   "metadata": {},
   "outputs": [
    {
     "name": "stdout",
     "output_type": "stream",
     "text": [
      "Given the path:\n",
      "dir\n",
      "\tsubdir1\n",
      "\t\tfile1.ext\n",
      "\t\tsubsubdir1\n",
      "\tsubdir2\n",
      "\t\tsubsubdir2\n",
      "\t\t\tfile2.ext\n",
      "The longest absolute path is dir/subdir2/subsubdir2/file2.ext,\n",
      " and it is 32 characters long\n"
     ]
    }
   ],
   "source": [
    "print('Given the path:')\n",
    "print(st)\n",
    "lst = longest_absolute_path(st)\n",
    "print('The longest absolute path is {},\\n and it is {} characters long'.format(lst, len(lst)))"
   ]
  },
  {
   "cell_type": "code",
   "execution_count": 164,
   "metadata": {},
   "outputs": [
    {
     "name": "stdout",
     "output_type": "stream",
     "text": [
      "Given the path:\n",
      "dir\n",
      "\tsubdir1\n",
      "\t\tfile1.ext\n",
      "\t\tsubsubdir1\n",
      "\tsubdir2\n",
      "\t\tsubsubdir2\n",
      "\t\t\tfile2.ext\n",
      "dir2\n",
      "\tsubdir1\n",
      "\tsubdir2\n",
      "\t\tsubsubdir1\n",
      "\t\t\tsubsubsubdir3\n",
      "\t\t\t\tfile3.ext\n",
      "The longest absolute path is dir2/subdir2/subsubdir1/subsubsubdir3/file3.ext,\n",
      " and it is 47 characters long\n"
     ]
    }
   ],
   "source": [
    "print('Given the path:')\n",
    "print(st2)\n",
    "lst2 = longest_absolute_path(st2)\n",
    "print('The longest absolute path is {},\\n and it is {} characters long'.format(lst2, len(lst2)))"
   ]
  }
 ],
 "metadata": {
  "kernelspec": {
   "display_name": "Python 3",
   "language": "python",
   "name": "python3"
  },
  "language_info": {
   "codemirror_mode": {
    "name": "ipython",
    "version": 3
   },
   "file_extension": ".py",
   "mimetype": "text/x-python",
   "name": "python",
   "nbconvert_exporter": "python",
   "pygments_lexer": "ipython3",
   "version": "3.7.1"
  }
 },
 "nbformat": 4,
 "nbformat_minor": 2
}
