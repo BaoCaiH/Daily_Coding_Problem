{
 "cells": [
  {
   "cell_type": "markdown",
   "metadata": {},
   "source": [
    "## 2019 February 27th\n",
    "\n",
    "Problem: Implement a stack that has the following methods:\n",
    "\n",
    ">push(val), which pushes an element onto the stack<br>\n",
    ">pop(), which pops off and returns the topmost element of the stack. If there are no elements in the stack, then it should throw an error or return null.<br>\n",
    ">max(), which returns the maximum value in the stack currently. If there are no elements in the stack, then it should throw an error or return null.\n",
    "\n",
    "Each method should run in constant time."
   ]
  },
  {
   "cell_type": "code",
   "execution_count": 54,
   "metadata": {},
   "outputs": [],
   "source": [
    "class stack:\n",
    "    def __init__(self, lst = None):               # Upon creating, we can give it a list of values\n",
    "        if lst:                                   # If the values are available\n",
    "            self.lst = lst                        # Store the values\n",
    "        else:                                     # If not\n",
    "            self.lst = []                         # Create an empty holder\n",
    "            \n",
    "    def push(self, val):                          # Pushing\n",
    "        self.lst = self.lst + [val]               # Add the value to the holder\n",
    "    \n",
    "    def pop(self):                                # Popping\n",
    "        if self.lst:                              # If the holder is not empty\n",
    "            last = self.lst[-1]                   # Get the last\n",
    "            self.lst = self.lst[:-1]              # Remove the last element\n",
    "            return last                           # Return the last\n",
    "        else:                                     # Else, Error and None\n",
    "            print('Error, the stack is empty')\n",
    "            return None\n",
    "        \n",
    "    def max(self):                                # Max\n",
    "        if self.lst:                              # If there is something\n",
    "            return max(self.lst)                  # Return the max\n",
    "        else:                                     # Else, Error and None\n",
    "            print('Error, the stack is empty')\n",
    "            return None"
   ]
  },
  {
   "cell_type": "code",
   "execution_count": 2,
   "metadata": {},
   "outputs": [],
   "source": [
    "a = [1, 2, 3,4, 5]"
   ]
  },
  {
   "cell_type": "code",
   "execution_count": 47,
   "metadata": {},
   "outputs": [],
   "source": [
    "b = stack([1, 2, 5, -2])"
   ]
  },
  {
   "cell_type": "code",
   "execution_count": 48,
   "metadata": {},
   "outputs": [],
   "source": [
    "b.push(3)"
   ]
  },
  {
   "cell_type": "code",
   "execution_count": 53,
   "metadata": {},
   "outputs": [
    {
     "data": {
      "text/plain": [
       "2"
      ]
     },
     "execution_count": 53,
     "metadata": {},
     "output_type": "execute_result"
    }
   ],
   "source": [
    "b.max()"
   ]
  }
 ],
 "metadata": {
  "kernelspec": {
   "display_name": "Python 3",
   "language": "python",
   "name": "python3"
  },
  "language_info": {
   "codemirror_mode": {
    "name": "ipython",
    "version": 3
   },
   "file_extension": ".py",
   "mimetype": "text/x-python",
   "name": "python",
   "nbconvert_exporter": "python",
   "pygments_lexer": "ipython3",
   "version": "3.7.1"
  }
 },
 "nbformat": 4,
 "nbformat_minor": 2
}
