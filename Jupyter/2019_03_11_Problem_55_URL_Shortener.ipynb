{
 "cells": [
  {
   "cell_type": "markdown",
   "metadata": {},
   "source": [
    "## 2019 March 11th\n",
    "\n",
    "Problem: Implement a URL shortener with the following methods:\n",
    "\n",
    "shorten(url), which shortens the url into a six-character alphanumeric string, such as zLg6wl.\n",
    "restore(short), which expands the shortened string into the original url. If no such shortened string exists, return null.\n",
    "\n",
    "Hint: What if we enter the same URL twice?"
   ]
  },
  {
   "cell_type": "code",
   "execution_count": 77,
   "metadata": {},
   "outputs": [],
   "source": [
    "class url_database:\n",
    "    \n",
    "    # We need a database, with ids, urls and the shorten version\n",
    "    # Plus all the characters that can be used in the shorten url\n",
    "    def __init__(self):\n",
    "        self.id = []\n",
    "        self.urls = []\n",
    "        self.shorten_urls = []\n",
    "        self.alphameric = '0123456789abcdefghijklmnopqrstuvwxyzABCDEFGHIJKLMNOPQRSTUVWXYZ'\n",
    "    \n",
    "    def generate_id(self):                                          # Supportive function to create unique ids\n",
    "        import random                                               #\n",
    "        temp_id = int(10**10 * random.random())                     # We need a 10 digits id\n",
    "        if temp_id not in self.id:                                  # to create 6 chars short url\n",
    "            return temp_id                                          # Also check if this id already existed\n",
    "        return generate_id()                                        #\n",
    "                                                                    #\n",
    "    def shorten(self, url):                                         # Shorten function\n",
    "        try:                                                        # Try to find if the url already existed\n",
    "            return ''.join(self.shorten_urls[self.urls.index(url)]) # And return the shorten version\n",
    "        except ValueError:                                          # If not\n",
    "            short = []                                              # Create a holder\n",
    "            new_id = self.generate_id()                             # Generate a new id\n",
    "            self.id.append(new_id)                                  # And put it in the id list\n",
    "            while new_id > 0:                                       # Turn decimal-number id into base-62 string\n",
    "                short.append(self.alphameric[new_id % 62])          # Mathematics at this point only\n",
    "                new_id = new_id // 62                               #\n",
    "            self.urls.append(url)                                   # Store the new url\n",
    "            self.shorten_urls.append(short)                         # And the shorten as well\n",
    "            return ''.join(short)                                   # Paste all the chars in the short and return\n",
    "                                                                    #\n",
    "    def restore(self, short):                                       # Restore function\n",
    "        find_id = 0                                                 # Restore the id\n",
    "        for i, char in enumerate(short):                            # Also math\n",
    "            find_id += self.alphameric.index(char) * 62**i          #\n",
    "        try:                                                        # Then try and find the id in the list\n",
    "            return self.urls[self.id.index(find_id)]                # Return the original url if exist\n",
    "        except ValueError:                                          # Else\n",
    "            print('The shorten URL does not exist')                 # Throw an error\n",
    "            return None                                             # Return nothing"
   ]
  },
  {
   "cell_type": "code",
   "execution_count": 82,
   "metadata": {},
   "outputs": [
    {
     "name": "stdout",
     "output_type": "stream",
     "text": [
      "Given the original url extension to my github repository 'BaoCaiH/Daily_Coding_Problem'\n"
     ]
    }
   ],
   "source": [
    "urls = url_database()\n",
    "original_url = 'BaoCaiH/Daily_Coding_Problem'\n",
    "print('Given the original url extension to my github repository \\'{}\\''.format(original_url))"
   ]
  },
  {
   "cell_type": "code",
   "execution_count": 83,
   "metadata": {},
   "outputs": [
    {
     "name": "stdout",
     "output_type": "stream",
     "text": [
      "After shorten, it is represented as 'suoyX2'\n"
     ]
    }
   ],
   "source": [
    "short_url = urls.shorten(original_url)\n",
    "print('After shorten, it is represented as \\'{}\\''.format(short_url))"
   ]
  },
  {
   "cell_type": "code",
   "execution_count": 84,
   "metadata": {},
   "outputs": [
    {
     "name": "stdout",
     "output_type": "stream",
     "text": [
      "Restored: BaoCaiH/Daily_Coding_Problem\n"
     ]
    }
   ],
   "source": [
    "print('Restored: {}'.format(urls.restore(short_url)))"
   ]
  }
 ],
 "metadata": {
  "kernelspec": {
   "display_name": "Python 3",
   "language": "python",
   "name": "python3"
  },
  "language_info": {
   "codemirror_mode": {
    "name": "ipython",
    "version": 3
   },
   "file_extension": ".py",
   "mimetype": "text/x-python",
   "name": "python",
   "nbconvert_exporter": "python",
   "pygments_lexer": "ipython3",
   "version": "3.7.1"
  }
 },
 "nbformat": 4,
 "nbformat_minor": 2
}
