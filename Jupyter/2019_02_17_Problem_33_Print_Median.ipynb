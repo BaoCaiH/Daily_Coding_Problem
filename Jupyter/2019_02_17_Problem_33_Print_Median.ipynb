{
 "cells": [
  {
   "cell_type": "markdown",
   "metadata": {},
   "source": [
    "## 2019 February 17th\n",
    "\n",
    "Problem: Compute the running median of a sequence of numbers. That is, given a stream of numbers, print out the median of the list so far on each new element.\n",
    "\n",
    "Recall that the median of an even-numbered list is the average of the two middle numbers.\n",
    "\n",
    "For example, given the sequence [2, 1, 5, 7, 2, 0, 5], your algorithm should print out:\n",
    "\n",
    "2<br>\n",
    "1.5<br>\n",
    "2<br>\n",
    "3.5<br>\n",
    "2<br>\n",
    "2<br>\n",
    "2"
   ]
  },
  {
   "cell_type": "code",
   "execution_count": 90,
   "metadata": {},
   "outputs": [],
   "source": [
    "def print_median(lst):                                 # Numpy can do this nicely but that's not why I'm here\n",
    "    print_lst = []                                     # Empty list\n",
    "    counter = 0                                        # Counter so no need for count sort\n",
    "    for e in lst:                                      # Add each element to the empty list\n",
    "        print_lst.append(e)\n",
    "        counter += 1                                   # Add the counter as well\n",
    "        print_lst.sort()                               # Sort it\n",
    "        if counter % 2 == 0:                           # Print the avg between 2 middle numbers\n",
    "            print((print_lst[counter // 2] +\\\n",
    "                   print_lst[(counter // 2) - 1]) / 2)\n",
    "        else:\n",
    "            print(print_lst[counter // 2])             # Print the middle number"
   ]
  },
  {
   "cell_type": "code",
   "execution_count": 23,
   "metadata": {},
   "outputs": [],
   "source": [
    "l1 = [1, 34, 6, 8, 0, 6, 23]\n",
    "l2 = [2, 1, 5, 7, 2, 0, 5]"
   ]
  },
  {
   "cell_type": "code",
   "execution_count": 91,
   "metadata": {},
   "outputs": [
    {
     "name": "stdout",
     "output_type": "stream",
     "text": [
      "Given the list [1, 34, 6, 8, 0, 6, 23] and the results is below:\n",
      "1\n",
      "17.5\n",
      "6\n",
      "7.0\n",
      "6\n",
      "6.0\n",
      "6\n",
      "Given the list [2, 1, 5, 7, 2, 0, 5] and the results is below:\n",
      "2\n",
      "1.5\n",
      "2\n",
      "3.5\n",
      "2\n",
      "2.0\n",
      "2\n"
     ]
    }
   ],
   "source": [
    "print('Given the list {} and the results is below:'.format(l1))\n",
    "print_median(l1)\n",
    "print('Given the list {} and the results is below:'.format(l2))\n",
    "print_median(l2)"
   ]
  }
 ],
 "metadata": {
  "kernelspec": {
   "display_name": "Python 3",
   "language": "python",
   "name": "python3"
  },
  "language_info": {
   "codemirror_mode": {
    "name": "ipython",
    "version": 3
   },
   "file_extension": ".py",
   "mimetype": "text/x-python",
   "name": "python",
   "nbconvert_exporter": "python",
   "pygments_lexer": "ipython3",
   "version": "3.7.1"
  }
 },
 "nbformat": 4,
 "nbformat_minor": 2
}
