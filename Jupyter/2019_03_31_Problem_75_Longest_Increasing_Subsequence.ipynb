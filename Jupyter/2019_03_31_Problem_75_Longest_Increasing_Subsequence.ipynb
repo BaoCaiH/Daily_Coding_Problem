{
 "cells": [
  {
   "cell_type": "markdown",
   "metadata": {},
   "source": [
    "## 2019 March 31st\n",
    "\n",
    "Problem: Given an array of numbers, find the length of the longest increasing subsequence in the array. The subsequence does not necessarily have to be contiguous.\n",
    "\n",
    "For example, given the array [0, 8, 4, 12, 2, 10, 6, 14, 1, 9, 5, 13, 3, 11, 7, 15], the longest increasing subsequence has length 6: it is 0, 2, 6, 9, 11, 15."
   ]
  },
  {
   "cell_type": "code",
   "execution_count": 11,
   "metadata": {},
   "outputs": [],
   "source": [
    "def longest_increasing_subsequence(array, last = None):                             #\n",
    "    if not array:                                                                   # If the array is empty\n",
    "        return last                                                                 # Return whatever it has\n",
    "    if not last:                                                                    # This condition is to kick\n",
    "        return longest_increasing_subsequence(array[1:], last = [array[0]])         # start the process\n",
    "    if len(array) == 1:                                                             # If the array only has 1 item\n",
    "        if array[0] > last[-1]:                                                     # Check increasing?\n",
    "            return last + [array[0]]                                                # Add the last number to the\n",
    "                                                                                    # subsequence if true\n",
    "        else:                                                                       # Otherwise\n",
    "            return last                                                             # Return whatever it has\n",
    "                                                                                    # If the array is longer than 1\n",
    "    if array[0] <= last[-1]:                                                        # If next number is not larger\n",
    "        return longest_increasing_subsequence(array[1:], last = last)               # Skip\n",
    "    else:                                                                           # If it is\n",
    "        take = longest_increasing_subsequence(array[1:], last = last + [array[0]])  # There are 2 options\n",
    "        skip = longest_increasing_subsequence(array[1:], last = last)               # Take it or skip\n",
    "        return [take, skip][len(take) < len(skip)]                                  # Choose the longer one\n",
    "                                                                                    #"
   ]
  },
  {
   "cell_type": "code",
   "execution_count": 12,
   "metadata": {},
   "outputs": [],
   "source": [
    "a = [0, 8, 4, 12, 2, 10, 6, 14, 1, 9, 5, 13, 3, 11, 7, 15]"
   ]
  },
  {
   "cell_type": "code",
   "execution_count": 14,
   "metadata": {},
   "outputs": [
    {
     "name": "stdout",
     "output_type": "stream",
     "text": [
      "Given the array: [0, 8, 4, 12, 2, 10, 6, 14, 1, 9, 5, 13, 3, 11, 7, 15]\n"
     ]
    }
   ],
   "source": [
    "print('Given the array: {}'.format(a))"
   ]
  },
  {
   "cell_type": "code",
   "execution_count": 16,
   "metadata": {},
   "outputs": [
    {
     "name": "stdout",
     "output_type": "stream",
     "text": [
      "The longest increasing subsequence is: [0, 4, 6, 9, 13, 15]\n",
      "There is more than 1 possibility, the chosen option depends on how the function is written\n"
     ]
    }
   ],
   "source": [
    "print('The longest increasing subsequence is: {}'.format(longest_increasing_subsequence(a)))\n",
    "print('There is more than 1 possibility, the chosen option depends on how the function is written')"
   ]
  }
 ],
 "metadata": {
  "kernelspec": {
   "display_name": "Python 3",
   "language": "python",
   "name": "python3"
  },
  "language_info": {
   "codemirror_mode": {
    "name": "ipython",
    "version": 3
   },
   "file_extension": ".py",
   "mimetype": "text/x-python",
   "name": "python",
   "nbconvert_exporter": "python",
   "pygments_lexer": "ipython3",
   "version": "3.7.1"
  }
 },
 "nbformat": 4,
 "nbformat_minor": 2
}
