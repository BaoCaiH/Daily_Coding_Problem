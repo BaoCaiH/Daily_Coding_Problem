{
 "cells": [
  {
   "cell_type": "markdown",
   "metadata": {},
   "source": [
    "## 2019 February 24th\n",
    "\n",
    "Problem: This problem was asked by Google.\n",
    "\n",
    "Given an array of integers where every integer occurs three times except for one integer, which only occurs once, find and return the non-duplicated integer.\n",
    "\n",
    "For example, given [6, 1, 3, 3, 3, 6, 6], return 1. Given [13, 19, 13, 13], return 19.\n",
    "\n",
    "Do this in O(N) time and O(1) space."
   ]
  },
  {
   "cell_type": "code",
   "execution_count": 112,
   "metadata": {},
   "outputs": [],
   "source": [
    "def non_triplet(lst):\n",
    "    return int(((sum(set(lst))) * 3 - sum(lst)) / 2)"
   ]
  },
  {
   "cell_type": "code",
   "execution_count": 110,
   "metadata": {},
   "outputs": [],
   "source": [
    "l1 = [6, 1, 3, 3, 3, 6, 6]\n",
    "l2 = [13, 19, 13, 13]"
   ]
  },
  {
   "cell_type": "code",
   "execution_count": 117,
   "metadata": {},
   "outputs": [
    {
     "name": "stdout",
     "output_type": "stream",
     "text": [
      "This solution is solve by mathematics and it is not space efficient, only time efficient\n",
      "The set of number will include a subset of triplets and a single number\n",
      "Meaning: sum_of_the_set = 3 * (distinct_numbers_from_the_triplets) + the_single_number\n",
      "the_single_number = (3 * all_distinct_numbers - sum_of_the_set) / 2\n",
      "\n",
      "Given the two sets [6, 1, 3, 3, 3, 6, 6] and [13, 19, 13, 13]\n",
      "The single numbers are 1 and 19\n"
     ]
    }
   ],
   "source": [
    "print('This solution is solve by mathematics and it is not space efficient, only time efficient')\n",
    "print('The set of number will include a subset of triplets and a single number')\n",
    "print('Meaning: sum_of_the_set = 3 * (distinct_numbers_from_the_triplets) + the_single_number')\n",
    "print('the_single_number = (3 * all_distinct_numbers - sum_of_the_set) / 2')\n",
    "print('')\n",
    "print('Given the two sets {} and {}'.format(l1, l2))\n",
    "print('The single numbers are {} and {}'.format(non_triplet(l1), non_triplet(l2)))"
   ]
  }
 ],
 "metadata": {
  "kernelspec": {
   "display_name": "Python 3",
   "language": "python",
   "name": "python3"
  },
  "language_info": {
   "codemirror_mode": {
    "name": "ipython",
    "version": 3
   },
   "file_extension": ".py",
   "mimetype": "text/x-python",
   "name": "python",
   "nbconvert_exporter": "python",
   "pygments_lexer": "ipython3",
   "version": "3.7.1"
  }
 },
 "nbformat": 4,
 "nbformat_minor": 2
}
