{
 "cells": [
  {
   "cell_type": "markdown",
   "metadata": {},
   "source": [
    "## 2019 March 10th\n",
    "\n",
    "Problem: Sudoku is a puzzle where you're given a partially-filled 9 by 9 grid with digits. The objective is to fill the grid with the constraint that every row, column, and box (3 by 3 subgrid) must contain all of the digits from 1 to 9.\n",
    "\n",
    "Implement an efficient sudoku solver."
   ]
  },
  {
   "cell_type": "code",
   "execution_count": 70,
   "metadata": {},
   "outputs": [],
   "source": [
    "def complete(board):                                    # Supportive function, check if completed\n",
    "    for row in board:                                   # Search each cells from each row\n",
    "        for cell in row:                                #\n",
    "            if cell == 0:                               # If any call is not filled\n",
    "                return False                            # It's not solved\n",
    "    return True                                         # Othewise, yes\n",
    "                                                        #\n",
    "def find_an_empty_cell(board):                          # Supportive function, find an empty cell\n",
    "    for i, row in enumerate(board):                     # Similar to above\n",
    "        for j, cell in enumerate(row):                  #\n",
    "            if cell == 0:                               # But return the coordinates when found any empty cell\n",
    "                return i, j                             #\n",
    "                                                        #\n",
    "def duplicates(array):                                  # Supportive function, duplicate is the deal breaker\n",
    "    holder = []                                         # A value holder\n",
    "    for val in array:                                   # Given any array, may it be row, col or 3 by 3 block\n",
    "        if val != 0:                                    # If it is not empty\n",
    "            if val in holder:                           # If is in the holder\n",
    "                return True                             # Immediately return True on duplicate\n",
    "            holder.append(val)                          # If not, add to the holder\n",
    "    return False                                        # In the end, false\n",
    "                                                        #\n",
    "def all_rows_are_valid(board):                          # Supportive function, check every row for validity\n",
    "    for row in board:                                   # Feed each row to the duplicates function\n",
    "        if duplicates(row):                             # If any row fail the test\n",
    "            return False                                # Return False on validity\n",
    "    return True                                         # Otherwise, True\n",
    "                                                        #\n",
    "def all_cols_are_valid(board):                          # Supportive function, check every column for validity\n",
    "    for j in range(9):                                  # For each column\n",
    "        if duplicates([board[i][j] for i in range(9)]): # Feed it to the duplicates by list comprehence\n",
    "            return False                                # If fail, False\n",
    "    return True                                         # Otherwise, True\n",
    "                                                        #\n",
    "def all_blocks_are_valid(board):                        # Supportive function, check every 3 by 3 block\n",
    "    for i in range(0, 9, 3):                            # Blocks are 3 cells apart from each other\n",
    "        for j in range(0, 9, 3):                        # In both row and column\n",
    "            block = []                                  # Value holder\n",
    "            for k in range(3):                          # Each block is 3 cell wide\n",
    "                for l in range(3):                      # and heigh\n",
    "                    block.append(board[i+k][j+l])       # Put the value into the holder\n",
    "            if duplicates(block):                       # Then feed it to the duplicates function\n",
    "                return False                            # If fail, False\n",
    "    return True                                         # Otherwise, True\n",
    "                                                        #\n",
    "def board_is_valid(board):                              # Supportive function, overall validity check\n",
    "    if not all_rows_are_valid(board):                   # Check the rows\n",
    "        return False                                    #\n",
    "    if not all_cols_are_valid(board):                   # Then columns, any order is fine, really\n",
    "        return False                                    #\n",
    "    if not all_blocks_are_valid(board):                 # Finally, blocks\n",
    "        return False                                    #\n",
    "    return True                                         #\n",
    "                                                        #\n",
    "def sudoku_solver(board):                               # Main function\n",
    "                                                        #\n",
    "    if complete(board):                                 # If the board is already completed\n",
    "        return board                                    # Return it\n",
    "                                                        #\n",
    "    row, col = find_an_empty_cell(board)                # If not then find a cell that is empty\n",
    "                                                        #\n",
    "    for value in range(1, 10):                          # Try every value\n",
    "        board[row][col] = value                         #\n",
    "        if board_is_valid(board):                       # If the board is still valid after try in\n",
    "            result = sudoku_solver(board)               # Continue to the next cell\n",
    "        if complete(board):                             # After that, if the board is completed\n",
    "            return result                               # Return it\n",
    "        board[row][col] = 0                             # Else, change the cell back to empty and re-do"
   ]
  },
  {
   "cell_type": "code",
   "execution_count": 71,
   "metadata": {},
   "outputs": [],
   "source": [
    "sudoku_board = [[0, 6, 0, 0, 0, 3, 0, 0, 7],\n",
    "               [3, 0, 0, 6, 8, 0, 0, 1, 0],\n",
    "               [1, 9, 0, 2, 0, 0, 0, 0, 0],\n",
    "               [6, 8, 5, 0, 0, 0, 1, 3, 0],\n",
    "               [0, 0, 0, 0, 0, 0, 0, 0, 0],\n",
    "               [2, 1, 0, 0, 0, 0, 0, 0, 0],\n",
    "               [4, 0, 3, 0, 0, 0, 0, 0, 6],\n",
    "               [0, 0, 0, 0, 2, 0, 0, 0, 9],\n",
    "               [0, 0, 0, 0, 4, 0, 8, 7, 0]]"
   ]
  },
  {
   "cell_type": "code",
   "execution_count": null,
   "metadata": {},
   "outputs": [],
   "source": [
    "print('A hard-level board is given below:')"
   ]
  },
  {
   "cell_type": "code",
   "execution_count": 72,
   "metadata": {},
   "outputs": [
    {
     "name": "stdout",
     "output_type": "stream",
     "text": [
      "-------------------\n",
      "|0 6 0|0 0 3|0 0 7|\n",
      "|3 0 0|6 8 0|0 1 0|\n",
      "|1 9 0|2 0 0|0 0 0|\n",
      "-------------------\n",
      "|6 8 5|0 0 0|1 3 0|\n",
      "|0 0 0|0 0 0|0 0 0|\n",
      "|2 1 0|0 0 0|0 0 0|\n",
      "-------------------\n",
      "|4 0 3|0 0 0|0 0 6|\n",
      "|0 0 0|0 2 0|0 0 9|\n",
      "|0 0 0|0 4 0|8 7 0|\n",
      "-------------------\n"
     ]
    }
   ],
   "source": [
    "for i in range(9):\n",
    "    if i in [0, 3, 6]:\n",
    "        print('-------------------')\n",
    "    for j in range(9):\n",
    "        if j in [0, 3, 6]:\n",
    "            print('|', end = '')\n",
    "        print(sudoku_board[i][j], end = '')\n",
    "        if j not in [2, 5, 8]:\n",
    "            print(' ', end = '')\n",
    "    print('|')\n",
    "print('-------------------')"
   ]
  },
  {
   "cell_type": "code",
   "execution_count": 73,
   "metadata": {},
   "outputs": [],
   "source": [
    "import datetime\n",
    "a = datetime.datetime.now()\n",
    "solved_board = sudoku_solver(sudoku_board)\n",
    "b = datetime.datetime.now()"
   ]
  },
  {
   "cell_type": "code",
   "execution_count": 82,
   "metadata": {},
   "outputs": [
    {
     "name": "stdout",
     "output_type": "stream",
     "text": [
      "The solved board is as below and it is solved in 9 seconds\n"
     ]
    }
   ],
   "source": [
    "print('The solved board is as below and it is solved in {} seconds'.format((b.second - a.second)))"
   ]
  },
  {
   "cell_type": "code",
   "execution_count": 74,
   "metadata": {},
   "outputs": [
    {
     "name": "stdout",
     "output_type": "stream",
     "text": [
      "-------------------\n",
      "|5 6 8|9 1 3|4 2 7|\n",
      "|3 4 2|6 8 7|9 1 5|\n",
      "|1 9 7|2 5 4|6 8 3|\n",
      "-------------------\n",
      "|6 8 5|4 7 9|1 3 2|\n",
      "|7 3 4|1 6 2|5 9 8|\n",
      "|2 1 9|5 3 8|7 6 4|\n",
      "-------------------\n",
      "|4 7 3|8 9 1|2 5 6|\n",
      "|8 5 1|7 2 6|3 4 9|\n",
      "|9 2 6|3 4 5|8 7 1|\n",
      "-------------------\n"
     ]
    }
   ],
   "source": [
    "for i in range(9):\n",
    "    if i in [0, 3, 6]:\n",
    "        print('-------------------')\n",
    "    for j in range(9):\n",
    "        if j in [0, 3, 6]:\n",
    "            print('|', end = '')\n",
    "        print(solved_board[i][j], end = '')\n",
    "        if j not in [2, 5, 8]:\n",
    "            print(' ', end = '')\n",
    "    print('|')\n",
    "print('-------------------')"
   ]
  }
 ],
 "metadata": {
  "kernelspec": {
   "display_name": "Python 3",
   "language": "python",
   "name": "python3"
  },
  "language_info": {
   "codemirror_mode": {
    "name": "ipython",
    "version": 3
   },
   "file_extension": ".py",
   "mimetype": "text/x-python",
   "name": "python",
   "nbconvert_exporter": "python",
   "pygments_lexer": "ipython3",
   "version": "3.7.1"
  }
 },
 "nbformat": 4,
 "nbformat_minor": 2
}
