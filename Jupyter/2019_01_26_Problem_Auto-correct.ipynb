{
 "cells": [
  {
   "cell_type": "markdown",
   "metadata": {},
   "source": [
    "## 2019 January 26th\n",
    "\n",
    "Problem: Implement an autocomplete system. That is, given a query string s and a set of all possible query strings, return all strings in the set that have s as a prefix.\n",
    "\n",
    "For example, given the query string de and the set of strings [dog, deer, deal], return [deer, deal].\n",
    "\n",
    "Hint: Try preprocessing the dictionary into a more efficient data structure to speed up queries."
   ]
  },
  {
   "cell_type": "code",
   "execution_count": 23,
   "metadata": {},
   "outputs": [],
   "source": [
    "def autocomplete(string, possible_query):\n",
    "    \n",
    "    def dictionary(possible_query):\n",
    "        dictionary = {}\n",
    "        for query in possible_query:\n",
    "            if query[0] not in dictionary:\n",
    "                dictionary[query[0]] = []\n",
    "            dictionary[query[0]].append(query)\n",
    "        return dictionary\n",
    "    \n",
    "    dct = dictionary(possible_query)\n",
    "    \n",
    "    dct = dct[string[0].lower()]\n",
    "    \n",
    "    return [wrd for wrd in dct if wrd.lower().startswith(string.lower())]"
   ]
  },
  {
   "cell_type": "code",
   "execution_count": 59,
   "metadata": {},
   "outputs": [],
   "source": [
    "import pandas as pd\n",
    "dic = pd.read_csv('english-word-list-total.csv', skiprows = 3, header = 0, sep = ';')\n",
    "dicts = [wrd for wrd in dic['word']]\n",
    "dicts = dicts[:500]"
   ]
  },
  {
   "cell_type": "code",
   "execution_count": 62,
   "metadata": {},
   "outputs": [
    {
     "name": "stdout",
     "output_type": "stream",
     "text": [
      "Type some prefix: EX\n"
     ]
    },
    {
     "data": {
      "text/plain": [
       "['experience', 'example']"
      ]
     },
     "execution_count": 62,
     "metadata": {},
     "output_type": "execute_result"
    }
   ],
   "source": [
    "s = input('Type some prefix: ')\n",
    "autocomplete(s, dicts)"
   ]
  }
 ],
 "metadata": {
  "kernelspec": {
   "display_name": "Python 3",
   "language": "python",
   "name": "python3"
  },
  "language_info": {
   "codemirror_mode": {
    "name": "ipython",
    "version": 3
   },
   "file_extension": ".py",
   "mimetype": "text/x-python",
   "name": "python",
   "nbconvert_exporter": "python",
   "pygments_lexer": "ipython3",
   "version": "3.7.1"
  }
 },
 "nbformat": 4,
 "nbformat_minor": 2
}
